{
 "cells": [
  {
   "attachments": {},
   "cell_type": "markdown",
   "metadata": {},
   "source": [
    "# <a id='toc1_'></a>[Solow-Swan model with Limited Ressources](#toc0_)\n",
    "\n",
    "This project aims to solve the Solow-Swan model with limited ressources. The model is a neoclassical growth model, which is used to describe long-run economic growth in terms of productivity, capital accumulation, population growth, and technological progress. The model is based on the assumption that the economy is closed, meaning that there is no trade with other countries. The model is also based on the assumption that the economy is in a steady state, meaning that the capital stock per worker is constant. \n",
    "\n",
    "This project includes the solow model with the implementation of **Limited Resources**"
   ]
  },
  {
   "attachments": {},
   "cell_type": "markdown",
   "metadata": {},
   "source": [
    "**Table of contents**<a id='toc0_'></a>    \n",
    "- [Solow-Swan model with Limited Ressources](#toc1_)    \n",
    "- [Introduction](#toc2_)    \n",
    "  - [Baseline Solow Model](#toc2_1_)    \n",
    "  - [Analytical Steady State of the Model](#toc2_2_)    \n",
    "  - [Numerical Solution of the Model](#toc2_3_)    \n",
    "    - [Methods: Bisect, Brent, and Secant](#toc2_3_1_)    \n",
    "    - [Results](#toc2_3_2_)    \n",
    "  - [Further analysis](#toc2_4_)    \n",
    "    - [Simulation of the model](#toc2_4_1_)    \n",
    "    - [Extended simulation of the model](#toc2_4_2_)    \n",
    "  - [Conclusion](#toc2_5_)    \n",
    "\n",
    "<!-- vscode-jupyter-toc-config\n",
    "\tnumbering=false\n",
    "\tanchor=true\n",
    "\tflat=false\n",
    "\tminLevel=1\n",
    "\tmaxLevel=6\n",
    "\t/vscode-jupyter-toc-config -->\n",
    "<!-- THIS CELL WILL BE REPLACED ON TOC UPDATE. DO NOT WRITE YOUR TEXT IN THIS CELL -->"
   ]
  },
  {
   "cell_type": "code",
   "execution_count": 1,
   "metadata": {},
   "outputs": [],
   "source": [
    "import time\n",
    "import sympy as sm\n",
    "from scipy import optimize\n",
    "import matplotlib.pyplot as plt\n",
    "import ipywidgets as widgets\n",
    "import numpy as np\n",
    "from ipywidgets import interact, FloatSlider, IntSlider, Checkbox\n",
    "\n",
    "#Set seed\n",
    "np.random.seed(42)\n",
    "\n",
    "plt.rcParams['figure.figsize'] = [16, 8]\n",
    "\n",
    "%load_ext autoreload\n",
    "%autoreload 2\n",
    "\n",
    "from modelproject import SolowModelClass\n",
    "from modelproject import analytic_ss"
   ]
  },
  {
   "attachments": {},
   "cell_type": "markdown",
   "metadata": {},
   "source": [
    "----\n",
    "# <a id='toc2_'></a>[Introduction](#toc0_)"
   ]
  },
  {
   "attachments": {},
   "cell_type": "markdown",
   "metadata": {},
   "source": [
    "## <a id='toc2_1_'></a>[Baseline Solow Model](#toc0_)\n",
    "\n",
    "1. $K_t$ is capital\n",
    "2. $L_t$ is labor (growing with a constant rate of $n$)\n",
    "3. $A_t$ is technology (growing with a constant rate of $g$)\n",
    "4. $Y_t = F(K_t,A_t,L_t)$ is GDP\n",
    "\n",
    "The **production function** is assumed of form **Cobb-Douglas** i.e.\n",
    "\n",
    "$$\n",
    "Y_t = F(K_{t},A_{t},L_{t})=K_{t}^{\\alpha}(A_{t}L_{t})^{1-\\alpha}, \\ \\alpha \\leq 1\n",
    "$$\n",
    "\n",
    "\n",
    "**Saving** is a constant fraction of GDP\n",
    "\n",
    "$$ \n",
    "S_t = s_YY_t,\\,s_Y\\in(0,1)\n",
    "$$\n",
    "\n",
    "such that **capital accumulates** according to\n",
    "\n",
    "$$\n",
    "K_{t+1}=S_{t}+(1-\\delta)K_{t}, \\delta \\in (0,1)\n",
    "$$\n",
    "\n",
    "The **population** grows with n each year \n",
    "\n",
    "$$\n",
    "L_{t+1} = (1+n)L_t, n > -1 \n",
    "$$\n",
    "\n",
    "The **technology** growth follows an exogenous path of \n",
    "\n",
    "$$\n",
    "A_{t+1} = (1+g)A_t\n",
    "$$ "
   ]
  },
  {
   "attachments": {},
   "cell_type": "markdown",
   "metadata": {},
   "source": [
    "## Extension\n",
    "\n",
    "We will extend the **Solow-model** with an exhuastible ressource $R_t$\n",
    "\n",
    "5. $R_t$ is the stock of the limited ressource which is used up over time\n",
    "6. $E_t$ is the amount of the ressource used in period $t$\n",
    "\n",
    "The updated production function now is **production function**\n",
    "\n",
    "$$\n",
    "Y_t = F(K_{t},E_{t},A_{t},L_{t})=K_{t}^{\\alpha}(A_{t}L_{t})^{1-\\varepsilon-\\alpha}E_t^{\\varepsilon}, \\alpha + \\varepsilon \\leq 1\n",
    "$$\n",
    "\n",
    "The **limited ressource** has a reserve $R_0$ and in each period $E_t$ of this reserve is used. Thus $E_t$ and $R_t$ follows\n",
    "\n",
    "$$\n",
    "E_t = s_E R_t, s_E \\in (0,1)\n",
    "$$\n",
    "\n",
    "$$\n",
    "R_{t} = R_{t-1} - E_{t-1} = (1-s_E)R_{t-1} = (1-s_E)^t R_0\n",
    "$$\n",
    "\n",
    "**Saving**, **capital accumulation**, **population growth** and **technology growth** is similar to the baseline Solow Model. Further it is seen how when $\\varepsilon = 0$ the model returns to the baseline model."
   ]
  },
  {
   "attachments": {},
   "cell_type": "markdown",
   "metadata": {},
   "source": [
    "----\n",
    "## <a id='toc2_2_'></a>[Analytical Steady State of the Model](#toc0_)"
   ]
  },
  {
   "attachments": {},
   "cell_type": "markdown",
   "metadata": {},
   "source": [
    "We will evaluate the steady state in the capital output ratio, $z_t \\equiv \\frac{K_t}{Y_t}$.\n",
    "$$\n",
    "z_{t+1} = \\frac{K_{t+1}}{Y_{t+1}} = \\frac{K_{t+1}^{1-\\alpha}}{(A_{t+1}L_{t+1})^{1-\\varepsilon-\\alpha}E_{t+1}^\\varepsilon}\n",
    "$$\n",
    "\n",
    "Inserting savings into the capital accumulation equation and rewriting yields\n",
    "$$\n",
    "z_{t+1} = \\frac{(s_{Y} Y_{t} +(1-\\delta)K_{t})^{1-\\alpha}}{(A_{t+1}L_{t+1})^{1-\\varepsilon-\\alpha}E_{t+1}^\\varepsilon} = \\frac{(s_{Y} +(1-\\delta)z_t)^{1-\\alpha}}{((1+g)(1+n))^{1-\\varepsilon-\\alpha}(1-s_E)^{\\varepsilon}} \\frac{Y_t^{1-\\alpha}}{(A_{t}L_{t})^{1-\\varepsilon-\\alpha}E_{t}^\\varepsilon} = \\frac{(s_{Y} +(1-\\delta)z_t)^{1-\\alpha}}{((1+g)(1+n))^{1-\\varepsilon-\\alpha}(1-s_E)^{\\varepsilon}}z_t^\\alpha\n",
    "$$\n",
    "\n",
    "We use **sympy** to find an analytical expression for the steady state, i.e. solve\n",
    "\n",
    "$$\n",
    "z^* = \\frac{(s_{Y} +(1-\\delta)z^*)^{1-\\alpha}}{((1+g)(1+n))^{1-\\varepsilon-\\alpha}(1-s_E)^{\\varepsilon}}(z^*)^\\alpha\n",
    "$$\n",
    "\n",
    "However, **sympy** for some reason has some problems solving this, thus, we start by helping it a bit on the right track\n",
    "$$\n",
    "(z^*)^{1-\\alpha} = \\frac{(s_{Y} +(1-\\delta)z^*)^{1-\\alpha}}{((1+g)(1+n))^{1-\\varepsilon-\\alpha}(1-s_E)^{\\varepsilon}} \\Leftrightarrow\n",
    "$$\n",
    "\n",
    "$$\n",
    "z^* = \\frac{1}{\\left(((1+g)(1+n))^{1-\\varepsilon-\\alpha}(1-s_E)^{\\varepsilon}\\right)^{\\frac{1}{1-\\alpha}}} (s_{Y} +(1-\\delta)z^*)\n",
    "$$\n",
    "\n",
    "Now **sympy** can solve the equation and provide an analytical solution"
   ]
  },
  {
   "cell_type": "code",
   "execution_count": 2,
   "metadata": {},
   "outputs": [
    {
     "name": "stdout",
     "output_type": "stream",
     "text": [
      "The analytical steady state of the baseline model is:\n"
     ]
    },
    {
     "data": {
      "text/latex": [
       "$\\displaystyle z = \\frac{s_{Y}}{\\delta - 1 + \\left(\\left(g n + g + n + 1\\right)^{1 - \\alpha}\\right)^{- \\frac{1}{\\alpha - 1}}}$"
      ],
      "text/plain": [
       "Eq(z, s_Y/(delta - 1 + ((g*n + g + n + 1)**(1 - alpha))**(-1/(alpha - 1))))"
      ]
     },
     "metadata": {},
     "output_type": "display_data"
    },
    {
     "name": "stdout",
     "output_type": "stream",
     "text": [
      "The analytical steady state of the extended model is:\n"
     ]
    },
    {
     "data": {
      "text/latex": [
       "$\\displaystyle z = \\frac{s_{Y}}{\\delta - 1 + \\left(\\left(1 - s_{E}\\right)^{\\epsilon} \\left(g n + g + n + 1\\right)^{- \\alpha - \\epsilon + 1}\\right)^{- \\frac{1}{\\alpha - 1}}}$"
      ],
      "text/plain": [
       "Eq(z, s_Y/(delta - 1 + ((1 - s_E)**epsilon*(g*n + g + n + 1)**(-alpha - epsilon + 1))**(-1/(alpha - 1))))"
      ]
     },
     "metadata": {},
     "output_type": "display_data"
    }
   ],
   "source": [
    "# a. analytically solve for steady state\n",
    "analytical = analytic_ss(ext = False, do_print = True)\n",
    "analytical_ext = analytic_ss(ext = True, do_print = True)\n"
   ]
  },
  {
   "attachments": {},
   "cell_type": "markdown",
   "metadata": {},
   "source": [
    "-----\n",
    "## <a id='toc2_3_'></a>[Numerical Solution of the Model](#toc0_)\n",
    "\n",
    "We will nummerically solve this model using 2 different methods – **Bisect**, and **Brent** – and evaluate their precession when comparing to the analytical solution evaluated in the same parameter values.\n",
    "\n",
    "To solve the model we evaluate when it holds that\n",
    "$$\n",
    "0 = z_{t+1}-z_t = \\frac{(s_{Y} +(1-\\delta)z_t)^{1-\\alpha}}{((1+g)(1+n))^{1-\\varepsilon-\\alpha}(1-s_E)^{\\varepsilon}}z_t^\\alpha - z_t\n",
    "$$\n",
    "\n",
    "All the numerical optimizers are defined in the [modelproject.py](modelproject.py) thus, here we just call them"
   ]
  },
  {
   "cell_type": "code",
   "execution_count": 3,
   "metadata": {},
   "outputs": [
    {
     "name": "stdout",
     "output_type": "stream",
     "text": [
      "Analytical solution: z = 1.4285816837546637\n",
      "Numerical solution using bisect\n",
      "      converged: True\n",
      "           flag: 'converged'\n",
      " function_calls: 48\n",
      "     iterations: 46\n",
      "           root: 1.4285816837547476\n",
      "Is equal to analytical Steady State: True\n",
      "Numerical solution using secant\n",
      "      converged: True\n",
      "           flag: 'converged'\n",
      " function_calls: 6\n",
      "     iterations: 5\n",
      "           root: 1.4285816837546652\n",
      "Is equal to analytical Steady State: True\n",
      "Numerical solution using brentq\n",
      "      converged: True\n",
      "           flag: 'converged'\n",
      " function_calls: 7\n",
      "     iterations: 6\n",
      "           root: 1.4285816837546623\n",
      "Is equal to analytical Steady State: True\n"
     ]
    }
   ],
   "source": [
    "# a. loading the baseline model\n",
    "model = SolowModelClass()\n",
    "model.setup()\n",
    "\n",
    "# b. evaluate analytical steady state\n",
    "zstar_analytic = model.evaluate_ss(analytical_ext, ext=True,do_print=True)\n",
    "\n",
    "# c. solve for nummerical steady state and evaluate if pratically equivalent to analytical steady state\n",
    "zstar_bisect = model.solve_ss(method='bisect', ext=True, do_print=True).root\n",
    "print(f'Is equal to analytical Steady State: {np.isclose(zstar_bisect, zstar_analytic, rtol=1e-5)}')\n",
    "zstar_secant = model.solve_ss(method='secant', ext=True, do_print=True).root\n",
    "print(f'Is equal to analytical Steady State: {np.isclose(zstar_secant, zstar_analytic, rtol=1e-5)}')\n",
    "zstar_brent = model.solve_ss(method='brentq', ext=True, do_print=True).root\n",
    "print(f'Is equal to analytical Steady State: {np.isclose(zstar_brent, zstar_analytic, rtol=1e-5)}')\n",
    "\n"
   ]
  },
  {
   "cell_type": "code",
   "execution_count": 4,
   "metadata": {},
   "outputs": [
    {
     "name": "stdout",
     "output_type": "stream",
     "text": [
      "bisect\n",
      "78 µs ± 9.76 µs per loop (mean ± std. dev. of 7 runs, 10,000 loops each)\n",
      "secant\n",
      "176 µs ± 5 µs per loop (mean ± std. dev. of 7 runs, 10,000 loops each)\n",
      "brent\n",
      "16.1 µs ± 460 ns per loop (mean ± std. dev. of 7 runs, 100,000 loops each)\n"
     ]
    }
   ],
   "source": [
    "# a. control speed of each process\n",
    "print('bisect')\n",
    "%timeit zstar_bisect = model.solve_ss(method='bisect', ext=True).root\n",
    "print('secant')\n",
    "%timeit zstar_secant = model.solve_ss(method='secant', ext=True).root\n",
    "print('brent')\n",
    "%timeit zstar_brent = model.solve_ss(method='brentq', ext=True).root\n",
    "\n"
   ]
  },
  {
   "attachments": {},
   "cell_type": "markdown",
   "metadata": {},
   "source": [
    "### <a id='toc2_3_1_'></a>[Methods: Bisect, Brent and Secant](#toc0_)\n",
    "The code first obtains the analytical solution for the steady state of the model. The steady state is a point where the capital output ration no longer changes. This is calculated through the function analytic_ss, which uses the standard formula for the steady state in the Solow model.\n",
    "\n",
    "The code then numerically solves the same model using three different methods: bisect, brent and secant. \n",
    "These are different numerical methods used to find the root of a function, i.e., the value for which the function equals zero. In this case, the function is the difference between the capital output ration at time t+1 and time t, which is equal to zero at the steady state.\n",
    "\n",
    "- The bisect method works by repeatedly dividing an interval into two subintervals and then selecting the subinterval where the root lies based on the sign of the function at the midpoint. \n",
    "\n",
    "- The secant method is a root-finding algorithm that uses a succession of roots of secant lines to better approximate a root of a function. Thus, it does not require that the root remain bracketed, like the bisection method does, and hence it does not always converge.\n",
    "\n",
    "- The brent method, also known as Brent's method, combines the bisection method, the secant method, and inverse quadratic interpolation. It generally provides better performance than the bisection method.\n",
    "\n",
    "\n",
    "Lastly the code evaluates the steady state obtained from the analytical solution using the function model.evaluate_ss. This compares the results obtained from the numerical methods to the analytical solution.\n",
    "\n",
    "\n",
    "### <a id='toc2_3_2_'></a>[Results](#toc0_)\n",
    "\n",
    "1. The analytical solution is approximately 1.4285816837546637, which is very close to the solutions found by the numerical methods. This suggests that the numerical methods were implemented correctly and were able to accurately find the steady state of the Solow growth model.\n",
    "\n",
    "2. The bisect method took 46 iterations and 48 function calls to find a steady state of approximately 1.4285816837547476, with a average speed of 40.5 µs.\n",
    "\n",
    "3. The secant method took just 6 iterations and 5 function calls to converge to a steady state of approximately 1.4285816837546652. Though it takes alot fewer iterations the secant method is much slower with an average time of 109 µs.\n",
    "\n",
    "4. The brentq method is more efficient than both bisect and secant method, taking only 10.5 µs on average to converge to a steady state of approximately 1.4285816837546623.\n",
    "\n",
    "\n",
    "\n",
    "\n",
    "**Conclusion**\n",
    "\n",
    "We find the methods to provide robust and viable results for estimating the Solow Model, further we find that the two bracketed methods, brentq and bisect are much more efficient than the unconstrained secant method, with brentq being the most efficient. \n",
    "\n",
    "Additionally the convergence plot is shown below."
   ]
  },
  {
   "cell_type": "code",
   "execution_count": 5,
   "metadata": {},
   "outputs": [
    {
     "data": {
      "image/png": "[encoded data removed]",
      "text/plain": [
       "<Figure size 432x288 with 1 Axes>"
      ]
     },
     "metadata": {
      "needs_background": "light"
     },
     "output_type": "display_data"
    }
   ],
   "source": [
    "model.convergence_plot(ext=True)"
   ]
  },
  {
   "attachments": {},
   "cell_type": "markdown",
   "metadata": {},
   "source": [
    "----\n",
    "## <a id='toc2_4_'></a>[Further analysis](#toc0_)\n",
    "\n",
    "In the next section we have simulated both the baseline and the extended model. From this we see how when the limited ressource is included even though the two models have the same initial value, the model with the limited ressource grows at a slower pace as the ressource is depleted.\n"
   ]
  },
  {
   "attachments": {},
   "cell_type": "markdown",
   "metadata": {},
   "source": [
    "### <a id='toc2_4_1_'></a>[Simulation of the model](#toc0_)\n",
    "\n",
    "The plot below shows the baseline simulated model. The plot shows the Capital stock $K_t$, Labor $L_t$, Output $Y_t$ and Technology $A_t$."
   ]
  },
  {
   "cell_type": "code",
   "execution_count": 6,
   "metadata": {},
   "outputs": [
    {
     "data": {
      "image/png": "[encoded data removed]",
      "text/plain": [
       "<Figure size 432x288 with 4 Axes>"
      ]
     },
     "metadata": {
      "needs_background": "light"
     },
     "output_type": "display_data"
    }
   ],
   "source": [
    "model.simulate(periods = 100, ext=False, do_print=True)"
   ]
  },
  {
   "attachments": {},
   "cell_type": "markdown",
   "metadata": {},
   "source": [
    "### <a id='toc2_4_2_'></a>[Extended simulation of the model](#toc0_)"
   ]
  },
  {
   "attachments": {},
   "cell_type": "markdown",
   "metadata": {},
   "source": [
    "The plot below shows the simulated model with limited resources. The plot shows the Capital stock $K_t$, Labor $L_t$, Limited ressource $R_t$, Output $Y_t$, Technology $A_t$, and the Consumption of limited ressource $E_t$.\n",
    "\n",
    "\n"
   ]
  },
  {
   "cell_type": "code",
   "execution_count": 7,
   "metadata": {},
   "outputs": [
    {
     "data": {
      "image/png": "[encoded data removed]",
      "text/plain": [
       "<Figure size 432x288 with 6 Axes>"
      ]
     },
     "metadata": {
      "needs_background": "light"
     },
     "output_type": "display_data"
    }
   ],
   "source": [
    "model.simulate(periods = 100, ext=True, do_print=True)"
   ]
  },
  {
   "attachments": {},
   "cell_type": "markdown",
   "metadata": {},
   "source": [
    "### Widgets for Parameter Changes"
   ]
  },
  {
   "attachments": {},
   "cell_type": "markdown",
   "metadata": {},
   "source": [
    "We've set up slider widgets for all the parameters, allowing for easy adjustments and visual display of how different variables evolve. Keep in mind that when epsilon is set to zero, the simulation depicts the simple model."
   ]
  },
  {
   "cell_type": "code",
   "execution_count": 8,
   "metadata": {},
   "outputs": [
    {
     "data": {
      "application/vnd.jupyter.widget-view+json": {
       "model_id": "2c9ca8156c0e4c2492060b8d18cdf178",
       "version_major": 2,
       "version_minor": 0
      },
      "text/plain": [
       "interactive(children=(IntSlider(value=100, description='Periods', max=250, min=10, step=10), FloatSlider(value…"
      ]
     },
     "metadata": {},
     "output_type": "display_data"
    }
   ],
   "source": [
    "# a. define the widgets\n",
    "periods_widget = IntSlider(min=10, max=250, step=10, value=100, description='Periods')\n",
    "alpha_widget = FloatSlider(min=0, max=1, step=0.01, value=0.33, description='alpha')\n",
    "epsilon_widget = FloatSlider(min=0, max=1, step=0.01, value=0.17, description='epsilon')\n",
    "delta_widget = FloatSlider(min=0, max=1, step=0.01, value=0.05, description='delta')\n",
    "s_Y_widget = FloatSlider(min=0, max=1, step=0.01, value=0.1, description='s_Y')\n",
    "s_E_widget = FloatSlider(min=0, max=1, step=0.01, value=0.01, description='s_E')\n",
    "n_widget = FloatSlider(min=0, max=1, step=0.01, value=0.01, description='n')\n",
    "g_widget = FloatSlider(min=0, max=1, step=0.01, value=0.02, description='g')\n",
    "\n",
    "# b. create the interactive control\n",
    "interact(model.simulate_widget, periods=periods_widget, \n",
    "         alpha=alpha_widget, epsilon=epsilon_widget, delta=delta_widget, \n",
    "         s_Y=s_Y_widget, s_E=s_E_widget, n=n_widget, g=g_widget);"
   ]
  },
  {
   "cell_type": "code",
   "execution_count": 9,
   "metadata": {},
   "outputs": [
    {
     "data": {
      "application/vnd.jupyter.widget-view+json": {
       "model_id": "3286bde3adca4c94aa9d5300b04f4edf",
       "version_major": 2,
       "version_minor": 0
      },
      "text/plain": [
       "interactive(children=(FloatSlider(value=0.33, description='alpha', max=1.0, step=0.01), FloatSlider(value=0.17…"
      ]
     },
     "metadata": {},
     "output_type": "display_data"
    }
   ],
   "source": [
    "# a. define the widgets\n",
    "alpha_widget = FloatSlider(min=0, max=1, step=0.01, value=0.33, description='alpha')\n",
    "epsilon_widget = FloatSlider(min=0, max=1, step=0.01, value=0.17, description='epsilon')\n",
    "delta_widget = FloatSlider(min=0, max=1, step=0.01, value=0.05, description='delta')\n",
    "s_Y_widget = FloatSlider(min=0, max=1, step=0.01, value=0.1, description='s_Y')\n",
    "s_E_widget = FloatSlider(min=0, max=1, step=0.01, value=0.01, description='s_E')\n",
    "n_widget = FloatSlider(min=0, max=1, step=0.01, value=0.01, description='n')\n",
    "g_widget = FloatSlider(min=0, max=1, step=0.01, value=0.02, description='g')\n",
    "\n",
    "# b. create the interactive control\n",
    "interact(model.convergence_widget, periods=periods_widget, \n",
    "         alpha=alpha_widget, epsilon=epsilon_widget, delta=delta_widget, \n",
    "         s_Y=s_Y_widget, s_E=s_E_widget, n=n_widget, g=g_widget);"
   ]
  },
  {
   "attachments": {},
   "cell_type": "markdown",
   "metadata": {},
   "source": [
    "\n",
    "----\n",
    "## <a id='toc2_5_'></a>[Conclusion](#toc0_)"
   ]
  },
  {
   "attachments": {},
   "cell_type": "markdown",
   "metadata": {},
   "source": [
    "Our exploration of the Solow model confirmed its consistency across analytical and numerical approaches. The steady-state was found to be identical regardless of whether we employed analytical calculation or numerical techniques including the bisect, brent, and secant methods. This consistency shows that the model is strong and reliable, no matter which calculation method we use.\n",
    "\n",
    "In our comparative analysis between the simple and extended versions of the model, interesting dynamics were revealed. We observed that the simple model exhibited both a quicker convergence and a higher steady-state value for the capital-output ratio, given identical parameter values. These results may highlight the influence of additional complexities introduced by the limited exhaustible resource in the extended model. \n",
    "\n",
    "We also discovered that an excessive reliance on the limited exhaustible resource can disrupt the model's convergence to a steady-state. This behavior suggests that sustainable resource usage is crucial to maintain the stability of the capital-output ratio. It indicates the potential for resource exhaustion to disrupt economic equilibrium, signifying a vital aspect of real-world economies that may need further study.\n",
    "\n",
    "Incorporating more intricate microdynamics could enrich the model's realism and predictive power. Likewise, adding other critical variables such as human capital could further expand its scope, rendering it an even more comprehensive tool for economic analysis.\n",
    "\n",
    "\n",
    "\n"
   ]
  }
 ],
 "metadata": {
  "kernelspec": {
   "display_name": "Python 3 (ipykernel)",
   "language": "python",
   "name": "python3"
  },
  "language_info": {
   "codemirror_mode": {
    "name": "ipython",
    "version": 3
   },
   "file_extension": ".py",
   "mimetype": "text/x-python",
   "name": "python",
   "nbconvert_exporter": "python",
   "pygments_lexer": "ipython3",
   "version": "3.9.7"
  },
  "toc-autonumbering": true
 },
 "nbformat": 4,
 "nbformat_minor": 4
}
