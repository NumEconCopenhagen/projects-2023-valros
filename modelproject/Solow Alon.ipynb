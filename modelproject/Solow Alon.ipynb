{
 "cells": [
  {
   "attachments": {},
   "cell_type": "markdown",
   "metadata": {},
   "source": [
    "# The Solow Model"
   ]
  },
  {
   "cell_type": "code",
   "execution_count": 1,
   "metadata": {},
   "outputs": [],
   "source": [
    "import numpy as np\n",
    "import matplotlib.pyplot as plt\n",
    "from scipy import optimize\n",
    "import sympy as sm\n",
    "import ipywidgets as widgets\n",
    "# autoreload modules when code is run\n",
    "%load_ext autoreload\n",
    "%autoreload 2"
   ]
  },
  {
   "attachments": {},
   "cell_type": "markdown",
   "metadata": {},
   "source": [
    "# The general solow model - definition\n",
    "\n",
    "Consider the **standard Solow-model** where:\n",
    "\n",
    "1. $K_t$ is capital\n",
    "2. $L_t$ is labor (growing with a constant rate of $n$)\n",
    "3. $A_t$ is technology (growing with a constant rate of $g$)\n",
    "4. $Y_t = F(K_t,A_tL_t)$ is GDP\n",
    "\n",
    "The Cobb Douglas function for the representative firm is given by:\n",
    "$$\n",
    "Y_t=K_t^\\alpha (A_t L_t)^{1-\\alpha}\n",
    "$$\n",
    "\n",
    "**Saving** is a constant fraction of GDP\n",
    "\n",
    "$$ \n",
    "S_t = sY_t,\\,s\\in(0,1)\n",
    "$$\n",
    "\n",
    "such that **capital accumulates** according to\n",
    "\n",
    "$$\n",
    "K_{t+1}=S_{t}+(1-\\delta)K_{t}=sF(K_{t},A_{t}L_{t})+(1-\\delta)K_{t}, \\delta \\in (0,1)\n",
    "$$\n",
    "\n",
    "The **production function** has **constant-return to scale** such that\n",
    "\n",
    "$$\n",
    "\\frac{Y_{t}}{A_{t}L_{t}}=\\frac{F(K_{t},A_{t}L_{t})}{A_{t}L_{t}}=F(\\tilde{k}_{t},1)\\equiv f(\\tilde{k}_{t})\n",
    "$$\n",
    "\n",
    "where $\\tilde{k}_t = \\frac{K_t}{A_{t}L_{t}}$ is the technology adjusted capital-labor ratio.\n",
    "\n",
    "The **transition equation** then becomes\n",
    "\n",
    "$$\n",
    "\\tilde{k}_{t+1}= \\frac{1}{(1+n)(1+g)}[sf(\\tilde{k}_{t})+(1-\\delta)\\tilde{k}_{t}]\n",
    "$$\n",
    "\n",
    "If the **production function** is **Cobb-Douglas** then\n",
    "\n",
    "$$\n",
    "F(K_{t},A_{t}L_{t})=K_{t}^{\\alpha}(A_{t}L_{t})^{1-\\alpha}\\Rightarrow f(\\tilde{k}_{t})=\\tilde{k}_{t}^{\\alpha}\n",
    "$$\n",
    "\n",
    "If it is **CES** (with $\\beta < 1, \\beta \\neq 0$) then\n",
    "\n",
    "$$\n",
    "F(K_{t},A_{t}L_{t})=(\\alpha K_{t}^{\\beta}+(1-\\alpha)(A_{t}L_{t})^{\\beta})^{\\frac{1}{\\beta}}\\Rightarrow f(\\tilde{k}_{t})=(\\alpha\\tilde{k}_{t}^{\\beta}+(1-\\alpha))^{\\frac{1}{\\beta}}\n",
    "$$\n"
   ]
  },
  {
   "attachments": {},
   "cell_type": "markdown",
   "metadata": {},
   "source": [
    "when using sympy to fine the steady state, we have to solve the following:\n",
    "\n",
    "$$ \\tilde{k}^{\\ast}= \\frac{1}{(1+n)(1+g)}[sf(\\tilde{k}^{\\ast})+(1-\\delta)\\tilde{k}^{\\ast}] $$\n"
   ]
  },
  {
   "cell_type": "code",
   "execution_count": 2,
   "metadata": {},
   "outputs": [],
   "source": [
    "# use sympy for defining symbols and functions\n",
    "\n",
    "# define symbols\n",
    "k = sm.symbols('k')\n",
    "s = sm.symbols('s')\n",
    "alpha = sm.symbols('alpha')\n",
    "delta = sm.symbols('delta')\n",
    "n = sm.symbols('n')\n",
    "g = sm.symbols('g')\n",
    "\n",
    "# define function\n",
    "f = sm.Function('f')(k)\n",
    "f = k**alpha\n",
    "\n",
    "# Define function to solve for steady state\n",
    "ss = sm.Eq(k,(s*f + (1-delta)*k )/((1+n)*(1+g)))\n"
   ]
  },
  {
   "attachments": {},
   "cell_type": "markdown",
   "metadata": {},
   "source": [
    "The steady state can now be solved analytically"
   ]
  },
  {
   "cell_type": "code",
   "execution_count": 3,
   "metadata": {},
   "outputs": [
    {
     "data": {
      "text/latex": [
       "$\\displaystyle \\left(\\frac{\\delta + g n + g + n}{s}\\right)^{\\frac{1}{\\alpha - 1}}$"
      ],
      "text/plain": [
       "((delta + g*n + g + n)/s)**(1/(alpha - 1))"
      ]
     },
     "execution_count": 3,
     "metadata": {},
     "output_type": "execute_result"
    }
   ],
   "source": [
    "# solving for steady state analytically\n",
    "ss_sol = sm.solve(ss,k)[0]\n",
    "ss_sol\n"
   ]
  },
  {
   "cell_type": "code",
   "execution_count": 4,
   "metadata": {},
   "outputs": [],
   "source": [
    "# Transformation into python function\n",
    "ss_sol_func = sm.lambdify((s,alpha,delta,n,g),ss_sol)\n"
   ]
  },
  {
   "attachments": {},
   "cell_type": "markdown",
   "metadata": {},
   "source": [
    "We can now set parameter values and calculate the steady state"
   ]
  },
  {
   "cell_type": "code",
   "execution_count": 5,
   "metadata": {},
   "outputs": [],
   "source": [
    "# Define parameters\n",
    "s = 0.3\n",
    "alpha = 0.3\n",
    "delta = 0.1\n",
    "n = 0.01\n",
    "g = 0.02"
   ]
  },
  {
   "cell_type": "code",
   "execution_count": 6,
   "metadata": {},
   "outputs": [
    {
     "name": "stdout",
     "output_type": "stream",
     "text": [
      "The steady state is:  3.2951243994886896\n"
     ]
    }
   ],
   "source": [
    "# show the result of the steady state calculated analytically\n",
    "\n",
    "print('The steady state is: ',ss_sol_func(s,alpha,delta,n,g))"
   ]
  },
  {
   "attachments": {},
   "cell_type": "markdown",
   "metadata": {},
   "source": [
    "# Calculation numerically\n",
    "\n",
    "In stead of finding the steady state analytically, one can also do it numerically. This is done by creating a root finding problem, and then solve for the root\n",
    "\n",
    "$$\n",
    "0 = \\frac{1}{(1+n)(1+g)}[sf(\\tilde{k}^{\\ast})+(1-\\delta)\\tilde{k}^{\\ast}] - \\tilde{k}^{\\ast} \n",
    "$$"
   ]
  },
  {
   "cell_type": "code",
   "execution_count": 7,
   "metadata": {},
   "outputs": [
    {
     "name": "stdout",
     "output_type": "stream",
     "text": [
      "the steady state for k is 3.295124399488689\n"
     ]
    }
   ],
   "source": [
    "# Define parameters\n",
    "s = 0.3\n",
    "alpha = 0.3\n",
    "delta = 0.1\n",
    "n = 0.01\n",
    "g = 0.02\n",
    "\n",
    "# write your code here\n",
    "f = lambda k: k**alpha\n",
    "obj_kss = lambda kss: (s*f(kss) + (1-delta)*kss)/((1+g)*(1+n)) - kss\n",
    "result = optimize.root_scalar(obj_kss,bracket=[0.1,100],method='brentq')\n",
    "\n",
    "print('the steady state for k is', result.root)  "
   ]
  },
  {
   "attachments": {},
   "cell_type": "markdown",
   "metadata": {},
   "source": [
    "# Visualising the Solow model"
   ]
  },
  {
   "cell_type": "code",
   "execution_count": 8,
   "metadata": {},
   "outputs": [
    {
     "data": {
      "application/vnd.jupyter.widget-view+json": {
       "model_id": "58cacef157d34db28930c4c0a57754fe",
       "version_major": 2,
       "version_minor": 0
      },
      "text/plain": [
       "interactive(children=(FloatSlider(value=0.3, description='s', max=1.0, step=0.01), FloatSlider(value=0.3, desc…"
      ]
     },
     "metadata": {},
     "output_type": "display_data"
    },
    {
     "data": {
      "text/plain": [
       "<function __main__.plot_solow_model(s, alpha, delta, n, g, T, variable)>"
      ]
     },
     "execution_count": 8,
     "metadata": {},
     "output_type": "execute_result"
    }
   ],
   "source": [
    "import matplotlib.pyplot as plt\n",
    "import ipywidgets as widgets\n",
    "from IPython.display import display\n",
    "\n",
    "def cobb_douglas(K, L, A, alpha):\n",
    "    return A * K**alpha * L**(1 - alpha)\n",
    "\n",
    "def plot_solow_model(s, alpha, delta, n, g, T, variable):\n",
    "    K0 = 1\n",
    "    L0 = 1\n",
    "    A0 = 1\n",
    "    Y0 = 1\n",
    "    Kt = 1\n",
    "\n",
    "    K = [K0]\n",
    "    L = [L0]\n",
    "    A = [A0]\n",
    "    Y = [Y0]\n",
    "    Kt = [Kt]\n",
    "\n",
    "    for t in range(T):\n",
    "        Kt_new = s * cobb_douglas(K[t] / (A[t] * L[t]), 1, 1, alpha) + (1 - delta) * K[t] / (A[t] * L[t])\n",
    "        K_new = Kt_new * A[t] * L[t]\n",
    "        K.append(K_new)\n",
    "\n",
    "        L_new = (1 + n) * L[t]\n",
    "        L.append(L_new)\n",
    "\n",
    "        A_new = (1 + g) * A[t]\n",
    "        A.append(A_new)\n",
    "\n",
    "        Y_new = cobb_douglas(K_new, L_new, A_new, alpha)\n",
    "        Y.append(Y_new)\n",
    "\n",
    "        Kt.append(Kt_new)\n",
    "\n",
    "    if variable == 'K':\n",
    "        plt.plot(K)\n",
    "        plt.title('Plot of K')\n",
    "        plt.ylabel('K')\n",
    "    elif variable == 'Y':\n",
    "        plt.plot(Y)\n",
    "        plt.title('Plot of Y')\n",
    "        plt.ylabel('Y')\n",
    "    elif variable == 'K/A*L':\n",
    "        K_AL = [K[i] / (A[i] * L[i]) for i in range(len(K))]\n",
    "        plt.plot(K_AL)\n",
    "        plt.title('Plot of K/(A*L)')\n",
    "        plt.ylabel('K/(A*L)')\n",
    "\n",
    "    plt.xlabel('Time')\n",
    "    plt.show()\n",
    "\n",
    "widgets.interact(\n",
    "    plot_solow_model,\n",
    "    s=widgets.FloatSlider(value=0.3, min=0, max=1, step=0.01, description='s'),\n",
    "    alpha=widgets.FloatSlider(value=0.3, min=0, max=1, step=0.01, description='alpha'),\n",
    "    delta=widgets.FloatSlider(value=0.1, min=0, max=1, step=0.01, description='delta'),\n",
    "    n=widgets.FloatSlider(value=0.01, min=0, max=0.1, step=0.001, description='n'),\n",
    "    g=widgets.FloatSlider(value=0.02, min=0, max=0.1, step=0.001, description='g'),\n",
    "    T=widgets.IntSlider(value=100, min=10, max=1000, step=10, description='T'),\n",
    "    variable=widgets.Dropdown(\n",
    "        options=['K', 'Y', 'K/A*L'],\n",
    "        value='K',\n",
    "        description='Variable:'\n",
    "    )\n",
    ")\n"
   ]
  },
  {
   "attachments": {},
   "cell_type": "markdown",
   "metadata": {},
   "source": [
    "We add oil and land to the model to add more dimensions to the model\n",
    "\n",
    "Now the production function for the representative firm is given by:\n",
    "\n",
    "$$ \n",
    "Y_t=K_t^\\alpha (A_t L_t)^\\beta X^\\kappa E_t^\\epsilon, \\hspace{5mm}    \\alpha>0, \\beta>0, \\kappa>0, \\epsilon>0, \\hspace{5mm}  \\alpha+\\beta+\\kappa+\\epsilon=1\n",
    "$$\n",
    "\n",
    "Where $X$ is land and $E_t$ is oil\n",
    "\n",
    "$$\n",
    "L_t=(1+n)L_t, \\hspace{5mm}   n\\geq0\n",
    "$$\n",
    "\n",
    "$$\n",
    "A_{t+1}=(1+g)A_t, \\hspace{5mm} g\\geq0\n",
    "$$\n",
    "\n",
    "The depletion of the natural ressource is described by: \n",
    "$$\n",
    "R_{t+1}=R_t-E_t\n",
    "$$\n",
    "\n",
    "Where $R_t$ is the remaining stock of oil in each period and $E_t$ is how much is oil is consumed.\n",
    "\n",
    "the oil consumption is given as:\n",
    "\n",
    "$$\n",
    "E_t=s_E R_t , \\hspace{5mm} 0<s_E<1\n",
    "$$\n",
    "\n",
    "**Saving** is still a constant fraction of GDP\n",
    "\n",
    "$$ \n",
    "S_t = sY_t,\\,s\\in(0,1)\n",
    "$$\n",
    "\n",
    "such that **capital accumulates** according to\n",
    "\n",
    "$$\n",
    "K_{t+1}=S_{t}+(1-\\delta)K_{t}=sF(K_{t},A_{t}L_{t},X,E_t)+(1-\\delta)K_{t}, \\delta \\in (0,1)\n",
    "$$\n",
    "\n",
    "Inserting $E_t=s_E R_t$ into the production function and dividing both sides by $L_t$ yields\n",
    "\n",
    "$$\n",
    "y_t=k_t^\\alpha A_t^\\beta (\\frac{X}{L_t})^\\kappa (\\frac{s_E R_t}{L_t})^\\epsilon = s_E^\\epsilon X^\\kappa k_t^\\alpha A_t^\\beta R_t^\\epsilon L_t^{-\\kappa-\\epsilon}\n",
    "$$\n",
    "\n",
    "By taking logs we get the following:\n",
    "\n",
    "$$\n",
    "g_t^y=\\alpha g_t^k+\\beta g_t^A + \\epsilon g_t^R - (\\kappa+\\epsilon)g_t^L \\approx \\alpha g_t^k +\\beta g - \\epsilon s_E - (\\kappa+\\epsilon)n\n",
    "$$\n",
    "\n",
    "As $g_t^y$ and $g_t^k$ converge towards the same rate they are set equal. This yields:\n",
    "\n",
    "$$\n",
    "g^y=\\frac{\\beta}{\\beta+\\kappa+\\epsilon}g-\\frac{\\kappa + \\epsilon}{\\beta+\\kappa+\\epsilon}n - \\frac{\\epsilon}{\\beta+\\kappa+\\epsilon}s_E\n",
    "$$"
   ]
  },
  {
   "attachments": {},
   "cell_type": "markdown",
   "metadata": {},
   "source": []
  },
  {
   "attachments": {},
   "cell_type": "markdown",
   "metadata": {},
   "source": [
    "## Solow model with land and oil"
   ]
  },
  {
   "cell_type": "code",
   "execution_count": 81,
   "metadata": {},
   "outputs": [],
   "source": [
    "import numpy as np\n",
    "\n",
    "class SolowModel:\n",
    "\n",
    "    def __init__(self, T, s, s_E, n, g, delta, alpha, beta, kappa, epsilon):\n",
    "        self.T = T\n",
    "        self.s = s\n",
    "        self.s_E = s_E\n",
    "        self.n = n\n",
    "        self.g = g\n",
    "        self.delta = delta\n",
    "        self.alpha = alpha\n",
    "        self.beta = beta\n",
    "        self.kappa = kappa\n",
    "        self.epsilon = epsilon\n",
    "\n",
    "    def simulate(self):\n",
    "        T = self.T\n",
    "        A = np.zeros(T)\n",
    "        K = np.zeros(T)\n",
    "        L = np.zeros(T)\n",
    "        X = 1\n",
    "        R = np.zeros(T)\n",
    "        E = np.zeros(T)\n",
    "        Y = np.zeros(T)\n",
    "\n",
    "        A[0] = 1\n",
    "        K[0] = 1\n",
    "        L[0] = 1\n",
    "        R[0] = 1\n",
    "        E[0] = self.s_E * R[0]\n",
    "        Y[0] = K[0]**self.alpha * (A[0] * L[0])**self.beta * X**self.kappa * E[0]**self.epsilon\n",
    "\n",
    "\n",
    "        for t in range(1, T):\n",
    "            A[t] = A[t-1] * (1 + self.g)\n",
    "            L[t] = L[t-1] * (1 + self.n)\n",
    "            R[t] = R[t-1] - E[t-1]\n",
    "            E[t] = self.s_E * R[t-1]\n",
    "            Y[t] = K[t-1]**self.alpha * (A[t] * L[t])**self.beta * X**self.kappa * E[t]**self.epsilon\n",
    "            K[t] = self.s * Y[t-1] + (1 - self.delta) * K[t-1]\n",
    "\n",
    "\n",
    "        return A, K, L, X, R, E, Y\n"
   ]
  },
  {
   "cell_type": "code",
   "execution_count": 84,
   "metadata": {},
   "outputs": [
    {
     "data": {
      "application/vnd.jupyter.widget-view+json": {
       "model_id": "81d5b121335e43659df38b2a8be63fbf",
       "version_major": 2,
       "version_minor": 0
      },
      "text/plain": [
       "interactive(children=(IntSlider(value=100, description='T', max=1000, min=10, step=10), FloatSlider(value=0.2,…"
      ]
     },
     "metadata": {},
     "output_type": "display_data"
    },
    {
     "data": {
      "text/plain": [
       "<function __main__.plot_solow_model(T, s, s_E, n, g, delta, alpha, beta, kappa, epsilon, variable)>"
      ]
     },
     "execution_count": 84,
     "metadata": {},
     "output_type": "execute_result"
    }
   ],
   "source": [
    "import ipywidgets as widgets\n",
    "from IPython.display import display\n",
    "import matplotlib.pyplot as plt\n",
    "\n",
    "def plot_solow_model(T, s, s_E, n, g, delta, alpha, beta, kappa, epsilon, variable):\n",
    "    model = SolowModel(T, s, s_E, n, g, delta, alpha, beta, kappa, epsilon)\n",
    "    A, K, L, X, R, E, Y = model.simulate()\n",
    "\n",
    "    t = np.arange(T)\n",
    "    plt.figure(figsize=(8, 6))\n",
    "\n",
    "    if variable == 'Y':\n",
    "        plt.plot(t, Y, label=\"Output (Y)\")\n",
    "        plt.ylabel(\"Output\")\n",
    "    elif variable == 'K':\n",
    "        plt.plot(t, K, label=\"Capital per capita (K)\")\n",
    "        plt.ylabel(\"Capital per capita\")\n",
    "    elif variable == 'K/(A*L)':\n",
    "        plt.plot(t, K / (A * L), label=\"Capital per effective worker (K/(A*L))\")\n",
    "        plt.ylabel(\"Capital per effective worker\")\n",
    "\n",
    "    plt.xlabel(\"Time\")\n",
    "    plt.legend()\n",
    "    plt.show()\n",
    "\n",
    "# Sliders and dropdown menu\n",
    "T_slider = widgets.IntSlider(min=10, max=1000, step=10, value=100, description=\"T\")\n",
    "s_slider = widgets.FloatSlider(min=0.01, max=0.99, step=0.01, value=0.2, description=\"s\")\n",
    "s_E_slider = widgets.FloatSlider(min=0.01, max=0.99, step=0.01, value=0.1, description=\"s_E\")\n",
    "n_slider = widgets.FloatSlider(min=0.0, max=0.1, step=0.01, value=0.02, description=\"n\")\n",
    "g_slider = widgets.FloatSlider(min=0.0, max=0.1, step=0.01, value=0.02, description=\"g\")\n",
    "delta_slider = widgets.FloatSlider(min=0.0, max=0.1, step=0.01, value=0.1, description=\"delta\")\n",
    "alpha_slider = widgets.FloatSlider(min=0.01, max=0.99, step=0.01, value=0.3, description=\"alpha\")\n",
    "beta_slider = widgets.FloatSlider(min=0.01, max=0.99, step=0.01, value=0.2, description=\"beta\")\n",
    "kappa_slider = widgets.FloatSlider(min=0.01, max=0.99, step=0.01, value=0.2, description=\"kappa\")\n",
    "epsilon_slider = widgets.FloatSlider(min=0.01, max=0.99, step=0.01, value=0.3, description=\"epsilon\")\n",
    "variable_dropdown = widgets.Dropdown(options=['Y', 'K', 'K/(A*L)'], value='Y', description='Variable')\n",
    "\n",
    "# Interactive plot\n",
    "widgets.interact(plot_solow_model,\n",
    "                 T=T_slider,\n",
    "                 s=s_slider,\n",
    "                 s_E=s_E_slider,\n",
    "                 n=n_slider,\n",
    "                 g=g_slider,\n",
    "                 delta=delta_slider,\n",
    "                 alpha=alpha_slider,\n",
    "                 beta=beta_slider,\n",
    "                 kappa=kappa_slider,\n",
    "                 epsilon=epsilon_slider,\n",
    "                 variable=variable_dropdown)\n"
   ]
  },
  {
   "attachments": {},
   "cell_type": "markdown",
   "metadata": {},
   "source": [
    "# Visualising the difference between the models"
   ]
  },
  {
   "attachments": {},
   "cell_type": "markdown",
   "metadata": {},
   "source": [
    "The Green Solow Model extends the traditional Solow Model by incorporating the impact of emissions and abatement efforts on the economy. The model introduces an additional equation:\n",
    "\n",
    "\\begin{align}\n",
    "E_t=\\Omega Y_t-\\Omega A(Y_t,R_t) \\ \\ (1)\n",
    "\\end{align}\n",
    "\n",
    "where $E_t$ represents total emissions, $Y_t$ is the production output, and $A(Y_t, R_t)$ is the abatement function. The parameter $\\Omega$ captures the proportion of production that contributes to emission costs. Emissions are directly proportional to production and are reduced by the abatement efforts.\n",
    "\n",
    "The abatement function $A(Y_t, R_t)$ is assumed to be increasing in output, $Y_t$, and abatement efforts, $R_t$, but with diminishing returns. Abatement efforts come with a cost, reducing the overall output:\n",
    "\n",
    "\\begin{align}\n",
    "Y=Y_t-R_t=(1-\\theta)Y_t \\ \\ (2)\n",
    "\\end{align}\n",
    "\n",
    "By rewriting the equation for emissions, we can better understand its relationship to output and abatement efforts:\n",
    "\n",
    "\\begin{align}\n",
    "E=\\Omega (Y_t-A_t(Y_t,R_t)) \\quad \\quad (3) \\\\\n",
    "E=\\Omega Y_t(1-A_t(1,\\frac{R_t}{Y_t}))  \\quad \\quad (4) \\\\\n",
    "E=\\Omega Y_t \\alpha(\\theta_t), \\theta_t \\equiv \\frac{R_t}{Y_t}  \\alpha(\\theta_t) \\equiv 1-A_t(1,\\theta_t) \\quad \\quad(5)\n",
    "\\end{align}\n",
    "\n",
    "The production function still exhibits constant returns to scale. Consequently, we can rewrite the model in terms of output per effective worker:\n",
    "\n",
    "\\begin{align}\n",
    "Y_t=K_t^\\alpha (A_tL_t)^{1-\\alpha} \\Rightarrow y_t=k_t^\\alpha y_t\\equiv \\frac{Y_t}{A_tL_t}, k_t\\equiv \\frac{K_t}{A_tL_t} \\quad \\quad (6)\n",
    "\\end{align}\n",
    "\n",
    "With this, we can derive the new transition equation for capital per effective worker:\n",
    "\n",
    "\\begin{align}\n",
    "\\dot{k_t}=s(1-\\theta_t)k_t^\\alpha-k_t(\\delta+g+n) \\quad \\quad (7)\n",
    "\\end{align}\n",
    "\n",
    "This model allows us to study the impact of emissions, abatement efforts, and their associated costs on capital accumulation, output, and long-term economic growth.\n",
    "\n",
    "The steady state is found where\n",
    "\\begin{align}\n",
    "0=s(1-\\theta_t)k_t^\\alpha-k_t(\\delta+g+n) \\quad \\quad (8)\n",
    "\\end{align}\n",
    "\n",
    "We calculate this numerically"
   ]
  },
  {
   "cell_type": "code",
   "execution_count": 12,
   "metadata": {},
   "outputs": [
    {
     "name": "stdout",
     "output_type": "stream",
     "text": [
      "the steady state for k is 3.069037209074208\n"
     ]
    }
   ],
   "source": [
    "# Define parameters\n",
    "s_g = 0.3\n",
    "alpha_g = 0.3\n",
    "delta_g = 0.1\n",
    "n_g = 0.01\n",
    "g_g = 0.02\n",
    "theta_g = 0.05\n",
    "\n",
    "# solve for steady state\n",
    "f = lambda k_g: k_g**alpha\n",
    "obj_kss = lambda kss: s_g * (1-theta_g) * f(kss) - (n_g + g_g + delta_g) * kss\n",
    "result = optimize.root_scalar(obj_kss,bracket=[0.1,100],method='brentq')\n",
    "\n",
    "print('the steady state for k is', result.root)  \n"
   ]
  },
  {
   "attachments": {},
   "cell_type": "markdown",
   "metadata": {},
   "source": [
    "## Visualisation of the green solow model\n",
    "\n"
   ]
  },
  {
   "cell_type": "code",
   "execution_count": 24,
   "metadata": {},
   "outputs": [
    {
     "data": {
      "application/vnd.jupyter.widget-view+json": {
       "model_id": "8e67cfc2dd9e408385971f54be3ee12e",
       "version_major": 2,
       "version_minor": 0
      },
      "text/plain": [
       "interactive(children=(FloatSlider(value=0.3, description='$\\\\alpha$', max=1.0, step=0.01), FloatSlider(value=0…"
      ]
     },
     "metadata": {},
     "output_type": "display_data"
    }
   ],
   "source": [
    "import numpy as np\n",
    "import ipywidgets as widgets\n",
    "from IPython.display import display\n",
    "\n",
    "# Function to calculate and display steady-state capital\n",
    "def calculate_steady_state(alpha, delta, g, n, theta, s):\n",
    "    k_star = ((delta + g + n) / (s * (1 - theta)))**(1 / (alpha - 1))\n",
    "    print(f'Steady-state capital per capita (k_star): {k_star}')\n",
    "\n",
    "# Create sliders for each parameter\n",
    "alpha_slider = widgets.FloatSlider(value=0.3, min=0, max=1, step=0.01, description=r'$\\alpha$')\n",
    "delta_slider = widgets.FloatSlider(value=0.1, min=0, max=1, step=0.01, description=r'$\\delta$')\n",
    "g_slider = widgets.FloatSlider(value=0.02, min=0, max=1, step=0.01, description='$g$')\n",
    "n_slider = widgets.FloatSlider(value=0.01, min=0, max=1, step=0.01, description='$n$')\n",
    "theta_slider = widgets.FloatSlider(value=0.05, min=0, max=1, step=0.01, description=r'$\\theta$')\n",
    "s_slider = widgets.FloatSlider(value=0.3, min=0, max=1, step=0.01, description='$s$')\n",
    "\n",
    "# Create an interactive widget\n",
    "widgets.interactive(\n",
    "    calculate_steady_state,\n",
    "    alpha=alpha_slider,\n",
    "    delta=delta_slider,\n",
    "    g=g_slider,\n",
    "    n=n_slider,\n",
    "    theta=theta_slider,\n",
    "    s=s_slider\n",
    ")\n",
    "\n",
    "\n",
    "\n"
   ]
  }
 ],
 "metadata": {
  "kernelspec": {
   "display_name": "Python 3",
   "language": "python",
   "name": "python3"
  },
  "language_info": {
   "codemirror_mode": {
    "name": "ipython",
    "version": 3
   },
   "file_extension": ".py",
   "mimetype": "text/x-python",
   "name": "python",
   "nbconvert_exporter": "python",
   "pygments_lexer": "ipython3",
   "version": "3.9.7"
  },
  "orig_nbformat": 4
 },
 "nbformat": 4,
 "nbformat_minor": 2
}
