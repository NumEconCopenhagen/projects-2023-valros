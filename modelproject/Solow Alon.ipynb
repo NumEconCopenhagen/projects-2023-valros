{
 "cells": [
  {
   "attachments": {},
   "cell_type": "markdown",
   "metadata": {},
   "source": [
    "# The Solow Model"
   ]
  },
  {
   "cell_type": "code",
   "execution_count": 1,
   "metadata": {},
   "outputs": [],
   "source": [
    "import numpy as np\n",
    "import matplotlib.pyplot as plt\n",
    "from scipy import optimize\n",
    "import sympy as sm\n",
    "import ipywidgets as widgets\n",
    "# autoreload modules when code is run\n",
    "%load_ext autoreload\n",
    "%autoreload 2"
   ]
  },
  {
   "attachments": {},
   "cell_type": "markdown",
   "metadata": {},
   "source": [
    "# The general solow model - definition\n",
    "\n",
    "Consider the **standard Solow-model** where:\n",
    "\n",
    "1. $K_t$ is capital\n",
    "2. $L_t$ is labor (growing with a constant rate of $n$)\n",
    "3. $A_t$ is technology (growing with a constant rate of $g$)\n",
    "4. $Y_t = F(K_t,A_tL_t)$ is GDP\n",
    "\n",
    "The Cobb Douglas function for the representative firm is given by:\n",
    "$$\n",
    "Y_t=K_t^\\alpha (A_t L_t)^{1-\\alpha}\n",
    "$$\n",
    "\n",
    "**Saving** is a constant fraction of GDP\n",
    "\n",
    "$$ \n",
    "S_t = sY_t,\\,s\\in(0,1)\n",
    "$$\n",
    "\n",
    "such that **capital accumulates** according to\n",
    "\n",
    "$$\n",
    "K_{t+1}=S_{t}+(1-\\delta)K_{t}=sF(K_{t},A_{t}L_{t})+(1-\\delta)K_{t}, \\delta \\in (0,1)\n",
    "$$\n",
    "\n",
    "The **production function** has **constant-return to scale** such that\n",
    "\n",
    "$$\n",
    "\\frac{Y_{t}}{A_{t}L_{t}}=\\frac{F(K_{t},A_{t}L_{t})}{A_{t}L_{t}}=F(\\tilde{k}_{t},1)\\equiv f(\\tilde{k}_{t})\n",
    "$$\n",
    "\n",
    "where $\\tilde{k}_t = \\frac{K_t}{A_{t}L_{t}}$ is the technology adjusted capital-labor ratio.\n",
    "\n",
    "The **transition equation** then becomes\n",
    "\n",
    "$$\n",
    "\\tilde{k}_{t+1}= \\frac{1}{(1+n)(1+g)}[sf(\\tilde{k}_{t})+(1-\\delta)\\tilde{k}_{t}]\n",
    "$$\n",
    "\n",
    "If the **production function** is **Cobb-Douglas** then\n",
    "\n",
    "$$\n",
    "F(K_{t},A_{t}L_{t})=K_{t}^{\\alpha}(A_{t}L_{t})^{1-\\alpha}\\Rightarrow f(\\tilde{k}_{t})=\\tilde{k}_{t}^{\\alpha}\n",
    "$$\n",
    "\n",
    "If it is **CES** (with $\\beta < 1, \\beta \\neq 0$) then\n",
    "\n",
    "$$\n",
    "F(K_{t},A_{t}L_{t})=(\\alpha K_{t}^{\\beta}+(1-\\alpha)(A_{t}L_{t})^{\\beta})^{\\frac{1}{\\beta}}\\Rightarrow f(\\tilde{k}_{t})=(\\alpha\\tilde{k}_{t}^{\\beta}+(1-\\alpha))^{\\frac{1}{\\beta}}\n",
    "$$\n"
   ]
  },
  {
   "attachments": {},
   "cell_type": "markdown",
   "metadata": {},
   "source": [
    "when using sympy to fine the steady state, we have to solve the following:\n",
    "\n",
    "$$ \\tilde{k}^{\\ast}= \\frac{1}{(1+n)(1+g)}[sf(\\tilde{k}^{\\ast})+(1-\\delta)\\tilde{k}^{\\ast}] $$\n"
   ]
  },
  {
   "cell_type": "code",
   "execution_count": 2,
   "metadata": {},
   "outputs": [],
   "source": [
    "# use sympy for defining symbols and functions\n",
    "\n",
    "# define symbols\n",
    "k = sm.symbols('k')\n",
    "s = sm.symbols('s')\n",
    "alpha = sm.symbols('alpha')\n",
    "delta = sm.symbols('delta')\n",
    "n = sm.symbols('n')\n",
    "g = sm.symbols('g')\n",
    "\n",
    "# define function\n",
    "f = sm.Function('f')(k)\n",
    "f = k**alpha\n",
    "\n",
    "# Define function to solve for steady state\n",
    "ss = sm.Eq(k,(s*f + (1-delta)*k )/((1+n)*(1+g)))\n"
   ]
  },
  {
   "attachments": {},
   "cell_type": "markdown",
   "metadata": {},
   "source": [
    "The steady state can now be solved analytically"
   ]
  },
  {
   "cell_type": "code",
   "execution_count": 3,
   "metadata": {},
   "outputs": [
    {
     "data": {
      "text/latex": [
       "$\\displaystyle \\left(\\frac{\\delta + g n + g + n}{s}\\right)^{\\frac{1}{\\alpha - 1}}$"
      ],
      "text/plain": [
       "((delta + g*n + g + n)/s)**(1/(alpha - 1))"
      ]
     },
     "execution_count": 3,
     "metadata": {},
     "output_type": "execute_result"
    }
   ],
   "source": [
    "# solving for steady state analytically\n",
    "ss_sol = sm.solve(ss,k)[0]\n",
    "ss_sol\n"
   ]
  },
  {
   "cell_type": "code",
   "execution_count": 4,
   "metadata": {},
   "outputs": [],
   "source": [
    "# Transformation into python function\n",
    "ss_sol_func = sm.lambdify((s,alpha,delta,n,g),ss_sol)\n"
   ]
  },
  {
   "attachments": {},
   "cell_type": "markdown",
   "metadata": {},
   "source": [
    "We can now set parameter values and calculate the steady state"
   ]
  },
  {
   "cell_type": "code",
   "execution_count": 5,
   "metadata": {},
   "outputs": [],
   "source": [
    "# Define parameters\n",
    "s = 0.3\n",
    "alpha = 0.3\n",
    "delta = 0.1\n",
    "n = 0.01\n",
    "g = 0.02"
   ]
  },
  {
   "cell_type": "code",
   "execution_count": 6,
   "metadata": {},
   "outputs": [
    {
     "name": "stdout",
     "output_type": "stream",
     "text": [
      "The steady state is:  3.2951243994886896\n"
     ]
    }
   ],
   "source": [
    "# show the result of the steady state calculated analytically\n",
    "\n",
    "print('The steady state is: ',ss_sol_func(s,alpha,delta,n,g))"
   ]
  },
  {
   "attachments": {},
   "cell_type": "markdown",
   "metadata": {},
   "source": [
    "# Calculation numerically\n",
    "\n",
    "In stead of finding the steady state analytically, one can also do it numerically. This is done by creating a root finding problem, and then solve for the root\n",
    "\n",
    "$$\n",
    "0 = \\frac{1}{(1+n)(1+g)}[sf(\\tilde{k}^{\\ast})+(1-\\delta)\\tilde{k}^{\\ast}] - \\tilde{k}^{\\ast} \n",
    "$$"
   ]
  },
  {
   "cell_type": "code",
   "execution_count": 7,
   "metadata": {},
   "outputs": [
    {
     "name": "stdout",
     "output_type": "stream",
     "text": [
      "the steady state for k is 3.295124399488689\n"
     ]
    }
   ],
   "source": [
    "# Define parameters\n",
    "s = 0.3\n",
    "alpha = 0.3\n",
    "delta = 0.1\n",
    "n = 0.01\n",
    "g = 0.02\n",
    "\n",
    "# write your code here\n",
    "f = lambda k: k**alpha\n",
    "obj_kss = lambda kss: kss - (s*f(kss) + (1-delta)*kss)/((1+g)*(1+n))\n",
    "result = optimize.root_scalar(obj_kss,bracket=[0.1,100],method='brentq')\n",
    "\n",
    "print('the steady state for k is', result.root)  "
   ]
  },
  {
   "attachments": {},
   "cell_type": "markdown",
   "metadata": {},
   "source": [
    "# Visualising the Solow model"
   ]
  },
  {
   "cell_type": "code",
   "execution_count": 3,
   "metadata": {},
   "outputs": [
    {
     "data": {
      "application/vnd.jupyter.widget-view+json": {
       "model_id": "cb1f9b7cd55448ddaff2f4d1eef8e058",
       "version_major": 2,
       "version_minor": 0
      },
      "text/plain": [
       "interactive(children=(FloatSlider(value=0.3, description='s', max=1.0, step=0.01), FloatSlider(value=0.3, desc…"
      ]
     },
     "metadata": {},
     "output_type": "display_data"
    },
    {
     "data": {
      "text/plain": [
       "<function __main__.plot_solow_model(s, alpha, delta, n, g, T)>"
      ]
     },
     "execution_count": 3,
     "metadata": {},
     "output_type": "execute_result"
    }
   ],
   "source": [
    "import matplotlib.pyplot as plt\n",
    "import ipywidgets as widgets\n",
    "from IPython.display import display\n",
    "\n",
    "def cobb_douglas(K, L, A, alpha):\n",
    "    return A * K**alpha * L**(1 - alpha)\n",
    "\n",
    "def plot_solow_model(s, alpha, delta, n, g, T):\n",
    "    K0 = 1\n",
    "    L0 = 1\n",
    "    A0 = 1\n",
    "    Y0 = 1\n",
    "    Kt = 1\n",
    "\n",
    "    K = [K0]\n",
    "    L = [L0]\n",
    "    A = [A0]\n",
    "    Y = [Y0]\n",
    "    Kt = [Kt]\n",
    "\n",
    "    for t in range(T):\n",
    "        Kt_new = s * cobb_douglas(K[t] / (A[t] * L[t]), 1, 1, alpha) + (1 - delta) * K[t] / (A[t] * L[t])\n",
    "        K_new = Kt_new * A[t] * L[t]\n",
    "        K.append(K_new)\n",
    "\n",
    "        L_new = (1 + n) * L[t]\n",
    "        L.append(L_new)\n",
    "\n",
    "        A_new = (1 + g) * A[t]\n",
    "        A.append(A_new)\n",
    "\n",
    "        Y_new = cobb_douglas(K_new, L_new, A_new, alpha)\n",
    "        Y.append(Y_new)\n",
    "\n",
    "        Kt.append(Kt_new)\n",
    "\n",
    "    plt.plot(Kt)\n",
    "    plt.title('Plot of Kt')\n",
    "    plt.xlabel('Time')\n",
    "    plt.ylabel('Kt')\n",
    "    plt.show()\n",
    "\n",
    "widgets.interact(\n",
    "    plot_solow_model,\n",
    "    s=widgets.FloatSlider(value=0.3, min=0, max=1, step=0.01, description='s'),\n",
    "    alpha=widgets.FloatSlider(value=0.3, min=0, max=1, step=0.01, description='alpha'),\n",
    "    delta=widgets.FloatSlider(value=0.1, min=0, max=1, step=0.01, description='delta'),\n",
    "    n=widgets.FloatSlider(value=0.01, min=0, max=0.1, step=0.001, description='n'),\n",
    "    g=widgets.FloatSlider(value=0.02, min=0, max=0.1, step=0.001, description='g'),\n",
    "    T=widgets.IntSlider(value=100, min=10, max=1000, step=10, description='T')\n",
    ")\n"
   ]
  },
  {
   "attachments": {},
   "cell_type": "markdown",
   "metadata": {},
   "source": [
    "## Solow model with land and oil"
   ]
  },
  {
   "attachments": {},
   "cell_type": "markdown",
   "metadata": {},
   "source": [
    "We add oil and land to the model to add more dimensions to the model\n",
    "\n",
    "Now the production function for the representative firm is given by:\n",
    "\n",
    "$$ \n",
    "Y_t=K_t^\\alpha (A_t L_t)^\\beta X^\\kappa E_t^\\epsilon, \\hspace{5mm}    \\alpha>0, \\beta>0, \\kappa>0, \\epsilon>0, \\hspace{5mm}  \\alpha+\\beta+\\kappa+\\epsilon=1\n",
    "$$\n",
    "\n",
    "Where $X$ is land and $E_t$ is oil\n",
    "\n",
    "$$\n",
    "L_t=(1+n)L_t, \\hspace{5mm}   n\\geq0\n",
    "$$\n",
    "\n",
    "$$\n",
    "A_{t+1}=(1+g)A_t, \\hspace{5mm} g\\geq0\n",
    "$$\n",
    "\n",
    "The depletion of the natural ressource is described by: \n",
    "$$\n",
    "R_{t+1}=R_t-E_t\n",
    "$$\n",
    "\n",
    "Where $R_t$ is the remaining stock of oil in each period and $E_t$ is how much is oil is consumed.\n",
    "\n",
    "the oil consumption is given as:\n",
    "\n",
    "$$\n",
    "E_t=s_E R_t , \\hspace{5mm} 0<s_E<1\n",
    "$$\n",
    "\n",
    "**Saving** is still a constant fraction of GDP\n",
    "\n",
    "$$ \n",
    "S_t = sY_t,\\,s\\in(0,1)\n",
    "$$\n",
    "\n",
    "such that **capital accumulates** according to\n",
    "\n",
    "$$\n",
    "K_{t+1}=S_{t}+(1-\\delta)K_{t}=sF(K_{t},A_{t}L_{t},X,E_t)+(1-\\delta)K_{t}, \\delta \\in (0,1)\n",
    "$$\n",
    "\n",
    "Inserting $E_t=s_E R_t$ into the production function and dividing both sides by $L_t$ yields\n",
    "\n",
    "$$\n",
    "y_t=k_t^\\alpha A_t^\\beta (\\frac{X}{L_t})^\\kappa (\\frac{s_E R_t}{L_t})^\\epsilon = s_E^\\epsilon X^\\kappa k_t^\\alpha A_t^\\beta R_t^\\epsilon L_t^{-\\kappa-\\epsilon}\n",
    "$$\n",
    "\n",
    "By taking logs we get the following:\n",
    "\n",
    "$$\n",
    "g_t^y=\\alpha g_t^k+\\beta g_t^A + \\epsilon g_t^R - (\\kappa+\\epsilon)g_t^L \\approx \\alpha g_t^k +\\beta g - \\epsilon s_E - (\\kappa+\\epsilon)n\n",
    "$$\n",
    "\n",
    "As $g_t^y$ and $g_t^k$ converge towards the same rate they are set equal. This yields:\n",
    "\n",
    "$$\n",
    "g^y=\\frac{\\beta}{\\beta+\\kappa+\\epsilon}g-\\frac{\\kappa + \\epsilon}{\\beta+\\kappa+\\epsilon}n - \\frac{\\epsilon}{\\beta+\\kappa+\\epsilon}s_E\n",
    "$$"
   ]
  },
  {
   "attachments": {},
   "cell_type": "markdown",
   "metadata": {},
   "source": [
    "# Visualising the difference between the models"
   ]
  },
  {
   "cell_type": "code",
   "execution_count": 12,
   "metadata": {},
   "outputs": [
    {
     "data": {
      "application/vnd.jupyter.widget-view+json": {
       "model_id": "75fb12f9514c4c1a869ae3097ad29cd8",
       "version_major": 2,
       "version_minor": 0
      },
      "text/plain": [
       "interactive(children=(IntSlider(value=100, description='T', max=1000, min=10, step=10), FloatSlider(value=0.3,…"
      ]
     },
     "metadata": {},
     "output_type": "display_data"
    },
    {
     "data": {
      "text/plain": [
       "<function __main__.plot_solow_model_with_land_and_oil(T, s, alpha, beta, kappa, n, g, s_E, delta)>"
      ]
     },
     "execution_count": 12,
     "metadata": {},
     "output_type": "execute_result"
    }
   ],
   "source": [
    "#Define oil function\n",
    "\n",
    "# Define cobb douglas function with capital, labor, technology, oil and land\n",
    "\n",
    "import matplotlib.pyplot as plt\n",
    "import ipywidgets as widgets\n",
    "\n",
    "def solow_model_with_land_and_oil(K, A, L, X, Et, alpha, beta, kappa, epsilon):\n",
    "    return K**alpha * (A * L)**beta * X**kappa * Et**epsilon\n",
    "\n",
    "def plot_solow_model_with_land_and_oil(T, s, alpha, beta, kappa, n, g, s_E, delta):\n",
    "    epsilon = 1 - alpha - beta - kappa\n",
    "    # Initial values\n",
    "    K0 = 1\n",
    "    L0 = 1\n",
    "    A0 = 1\n",
    "    Y0 = 1\n",
    "    R0 = 100\n",
    "    X = 1\n",
    "\n",
    "    K = [K0]\n",
    "    L = [L0]\n",
    "    A = [A0]\n",
    "    Y = [Y0]\n",
    "    R = [R0]\n",
    "    E = [s_E * R0]\n",
    "\n",
    "    # Time loop\n",
    "    for t in range(T):\n",
    "        L_new = (1 + n) * L[t]\n",
    "        L.append(L_new)\n",
    "\n",
    "        A_new = (1 + g) * A[t]\n",
    "        A.append(A_new)\n",
    "\n",
    "        Et_new = s_E * R[t]\n",
    "        E.append(Et_new)\n",
    "\n",
    "        Rt_new = R[t] - Et_new\n",
    "        R.append(Rt_new)\n",
    "\n",
    "        Y_new = solow_model_with_land_and_oil(K[t], A_new, L_new, X, Et_new, alpha, beta, kappa, epsilon)\n",
    "        Y.append(Y_new)\n",
    "\n",
    "        K_new = s * Y_new + (1 - delta) * K[t]\n",
    "        K.append(K_new)\n",
    "\n",
    "    plt.plot(K)\n",
    "    plt.title('Plot of Kt')\n",
    "    plt.xlabel('Time')\n",
    "    plt.ylabel('Kt')\n",
    "    plt.show()\n",
    "\n",
    "alpha_slider = widgets.FloatSlider(value=0.3, min=0, max=1, step=0.01, description='alpha')\n",
    "beta_slider = widgets.FloatSlider(value=0.3, min=0, max=1, step=0.01, description='beta')\n",
    "kappa_slider = widgets.FloatSlider(value=0.1, min=0, max=1, step=0.01, description='kappa')\n",
    "\n",
    "def on_alpha_slider_change(change):\n",
    "    new_alpha = change.new\n",
    "    new_beta = min(beta_slider.value, 1 - new_alpha - kappa_slider.value)\n",
    "    beta_slider.value = new_beta\n",
    "    kappa_slider.max = 1 - new_alpha - new_beta\n",
    "\n",
    "def on_beta_slider_change(change):\n",
    "    new_beta = change.new\n",
    "    new_alpha = min(alpha_slider.value, 1 - new_beta - kappa_slider.value)\n",
    "    alpha_slider.value = new_alpha\n",
    "    kappa_slider.max = 1 - new_alpha - new_beta\n",
    "\n",
    "def on_kappa_slider_change(change):\n",
    "    new_kappa = change.new\n",
    "    new_alpha = min(alpha_slider.value, 1 - new_kappa - beta_slider.value)\n",
    "    alpha_slider.value = new_alpha\n",
    "    beta_slider.max = 1 - new_alpha - new_kappa\n",
    "\n",
    "alpha_slider.observe(on_alpha_slider_change, names='value')\n",
    "beta_slider.observe(on_beta_slider_change, names='value')\n",
    "kappa_slider.observe(on_kappa_slider_change, names='value')\n",
    "\n",
    "widgets.interact(\n",
    "    plot_solow_model_with_land_and_oil,\n",
    "    T=widgets.IntSlider(value=100, min=10, max=1000, step=10, description='T'),\n",
    "    s=widgets.FloatSlider(value=0.3, min=0, max=1, step=0.01, description='s'),\n",
    "    alpha=alpha_slider,\n",
    "    beta=beta_slider,\n",
    "    kappa=kappa_slider,\n",
    "    n=widgets.FloatSlider(value=0.01, min=0, max=0.1, step=0.001, description='n'),\n",
    "    g=widgets.FloatSlider(value=0.02, min=0, max=0.1, step=0.001, description='g'),\n",
    "    s_E=widgets.FloatSlider(value=0.5, min=0, max=1, step=0.01, description='s_E'),\n",
    "    delta=widgets.FloatSlider(value=0.1, min=0, max=1, step=0.01, description='delta')\n",
    ")\n"
   ]
  }
 ],
 "metadata": {
  "kernelspec": {
   "display_name": "Python 3",
   "language": "python",
   "name": "python3"
  },
  "language_info": {
   "codemirror_mode": {
    "name": "ipython",
    "version": 3
   },
   "file_extension": ".py",
   "mimetype": "text/x-python",
   "name": "python",
   "nbconvert_exporter": "python",
   "pygments_lexer": "ipython3",
   "version": "3.9.7"
  },
  "orig_nbformat": 4
 },
 "nbformat": 4,
 "nbformat_minor": 2
}
