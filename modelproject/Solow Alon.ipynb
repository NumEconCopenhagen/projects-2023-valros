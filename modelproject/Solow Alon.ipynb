{
 "cells": [
  {
   "attachments": {},
   "cell_type": "markdown",
   "metadata": {},
   "source": [
    "# The Solow Model"
   ]
  },
  {
   "cell_type": "code",
   "execution_count": 1,
   "metadata": {},
   "outputs": [],
   "source": [
    "import numpy as np\n",
    "import matplotlib.pyplot as plt\n",
    "from scipy import optimize\n",
    "import sympy as sm\n",
    "import ipywidgets as widgets\n",
    "# autoreload modules when code is run\n",
    "%load_ext autoreload\n",
    "%autoreload 2"
   ]
  },
  {
   "attachments": {},
   "cell_type": "markdown",
   "metadata": {},
   "source": [
    "# The general solow model - definition\n",
    "\n",
    "Consider the **standard Solow-model** where:\n",
    "\n",
    "1. $K_t$ is capital\n",
    "2. $L_t$ is labor (growing with a constant rate of $n$)\n",
    "3. $A_t$ is technology (growing with a constant rate of $g$)\n",
    "4. $Y_t = F(K_t,A_tL_t)$ is GDP\n",
    "\n",
    "The Cobb Douglas function for the representative firm is given by:\n",
    "$$\n",
    "Y_t=K_t^\\alpha (A_t L_t)^{1-\\alpha}\n",
    "$$\n",
    "\n",
    "**Saving** is a constant fraction of GDP\n",
    "\n",
    "$$ \n",
    "S_t = sY_t,\\,s\\in(0,1)\n",
    "$$\n",
    "\n",
    "such that **capital accumulates** according to\n",
    "\n",
    "$$\n",
    "K_{t+1}=S_{t}+(1-\\delta)K_{t}=sF(K_{t},A_{t}L_{t})+(1-\\delta)K_{t}, \\delta \\in (0,1)\n",
    "$$\n",
    "\n",
    "The **production function** has **constant-return to scale** such that\n",
    "\n",
    "$$\n",
    "\\frac{Y_{t}}{A_{t}L_{t}}=\\frac{F(K_{t},A_{t}L_{t})}{A_{t}L_{t}}=F(\\tilde{k}_{t},1)\\equiv f(\\tilde{k}_{t})\n",
    "$$\n",
    "\n",
    "where $\\tilde{k}_t = \\frac{K_t}{A_{t}L_{t}}$ is the technology adjusted capital-labor ratio.\n",
    "\n",
    "The **transition equation** then becomes\n",
    "\n",
    "$$\n",
    "\\tilde{k}_{t+1}= \\frac{1}{(1+n)(1+g)}[sf(\\tilde{k}_{t})+(1-\\delta)\\tilde{k}_{t}]\n",
    "$$\n",
    "\n",
    "If the **production function** is **Cobb-Douglas** then\n",
    "\n",
    "$$\n",
    "F(K_{t},A_{t}L_{t})=K_{t}^{\\alpha}(A_{t}L_{t})^{1-\\alpha}\\Rightarrow f(\\tilde{k}_{t})=\\tilde{k}_{t}^{\\alpha}\n",
    "$$\n",
    "\n",
    "If it is **CES** (with $\\beta < 1, \\beta \\neq 0$) then\n",
    "\n",
    "$$\n",
    "F(K_{t},A_{t}L_{t})=(\\alpha K_{t}^{\\beta}+(1-\\alpha)(A_{t}L_{t})^{\\beta})^{\\frac{1}{\\beta}}\\Rightarrow f(\\tilde{k}_{t})=(\\alpha\\tilde{k}_{t}^{\\beta}+(1-\\alpha))^{\\frac{1}{\\beta}}\n",
    "$$\n"
   ]
  },
  {
   "attachments": {},
   "cell_type": "markdown",
   "metadata": {},
   "source": [
    "when using sympy to fine the steady state, we have to solve the following:\n",
    "\n",
    "$$ \\tilde{k}^{\\ast}= \\frac{1}{(1+n)(1+g)}[sf(\\tilde{k}^{\\ast})+(1-\\delta)\\tilde{k}^{\\ast}] $$\n"
   ]
  },
  {
   "cell_type": "code",
   "execution_count": 2,
   "metadata": {},
   "outputs": [],
   "source": [
    "# use sympy for defining symbols and functions\n",
    "\n",
    "# define symbols\n",
    "k = sm.symbols('k')\n",
    "s = sm.symbols('s')\n",
    "alpha = sm.symbols('alpha')\n",
    "delta = sm.symbols('delta')\n",
    "n = sm.symbols('n')\n",
    "g = sm.symbols('g')\n",
    "\n",
    "# define function\n",
    "f = sm.Function('f')(k)\n",
    "f = k**alpha\n",
    "\n",
    "# Define function to solve for steady state\n",
    "ss = sm.Eq(k,(s*f + (1-delta)*k )/((1+n)*(1+g)))\n"
   ]
  },
  {
   "attachments": {},
   "cell_type": "markdown",
   "metadata": {},
   "source": [
    "The steady state can now be solved analytically"
   ]
  },
  {
   "cell_type": "code",
   "execution_count": 3,
   "metadata": {},
   "outputs": [
    {
     "data": {
      "text/latex": [
       "$\\displaystyle \\left(\\frac{\\delta + g n + g + n}{s}\\right)^{\\frac{1}{\\alpha - 1}}$"
      ],
      "text/plain": [
       "((delta + g*n + g + n)/s)**(1/(alpha - 1))"
      ]
     },
     "execution_count": 3,
     "metadata": {},
     "output_type": "execute_result"
    }
   ],
   "source": [
    "# solving for steady state analytically\n",
    "ss_sol = sm.solve(ss,k)[0]\n",
    "ss_sol\n"
   ]
  },
  {
   "cell_type": "code",
   "execution_count": 4,
   "metadata": {},
   "outputs": [],
   "source": [
    "# Transformation into python function\n",
    "ss_sol_func = sm.lambdify((s,alpha,delta,n,g),ss_sol)\n"
   ]
  },
  {
   "attachments": {},
   "cell_type": "markdown",
   "metadata": {},
   "source": [
    "We can now set parameter values and calculate the steady state"
   ]
  },
  {
   "cell_type": "code",
   "execution_count": 5,
   "metadata": {},
   "outputs": [],
   "source": [
    "# Define parameters\n",
    "s = 0.3\n",
    "alpha = 0.3\n",
    "delta = 0.1\n",
    "n = 0.01\n",
    "g = 0.02"
   ]
  },
  {
   "cell_type": "code",
   "execution_count": 6,
   "metadata": {},
   "outputs": [
    {
     "name": "stdout",
     "output_type": "stream",
     "text": [
      "The steady state is:  3.2951243994886896\n"
     ]
    }
   ],
   "source": [
    "# show the result of the steady state calculated analytically\n",
    "\n",
    "print('The steady state is: ',ss_sol_func(s,alpha,delta,n,g))"
   ]
  },
  {
   "attachments": {},
   "cell_type": "markdown",
   "metadata": {},
   "source": [
    "# Calculation numerically\n",
    "\n",
    "In stead of finding the steady state analytically, one can also do it numerically. This is done by creating a root finding problem, and then solve for the root\n",
    "\n",
    "$$\n",
    "0 = \\frac{1}{(1+n)(1+g)}[sf(\\tilde{k}^{\\ast})+(1-\\delta)\\tilde{k}^{\\ast}] - \\tilde{k}^{\\ast} \n",
    "$$"
   ]
  },
  {
   "cell_type": "code",
   "execution_count": 7,
   "metadata": {},
   "outputs": [
    {
     "name": "stdout",
     "output_type": "stream",
     "text": [
      "the steady state for k is 3.295124399488689\n"
     ]
    }
   ],
   "source": [
    "# Define parameters\n",
    "s = 0.3\n",
    "alpha = 0.3\n",
    "delta = 0.1\n",
    "n = 0.01\n",
    "g = 0.02\n",
    "\n",
    "# write your code here\n",
    "f = lambda k: k**alpha\n",
    "obj_kss = lambda kss: kss - (s*f(kss) + (1-delta)*kss)/((1+g)*(1+n))\n",
    "result = optimize.root_scalar(obj_kss,bracket=[0.1,100],method='brentq')\n",
    "\n",
    "print('the steady state for k is', result.root)  "
   ]
  },
  {
   "cell_type": "code",
   "execution_count": 29,
   "metadata": {},
   "outputs": [
    {
     "data": {
      "image/png": "[encoded data removed]",
      "text/plain": [
       "<Figure size 432x288 with 1 Axes>"
      ]
     },
     "metadata": {
      "needs_background": "light"
     },
     "output_type": "display_data"
    }
   ],
   "source": [
    "# Define the cobb douglas function\n",
    "\n",
    "def cobb_douglas(K, L, A, alpha):\n",
    "    \"\"\"\n",
    "    K: Capital\n",
    "    L: Labor\n",
    "    A: Total Factor Productivity (TFP)\n",
    "    alpha: Output elasticity of capital\n",
    "    \"\"\"\n",
    "    return A * K**alpha * L**(1 - alpha)\n",
    "\n",
    "# Define the solow model parameters\n",
    "s = 0.3\n",
    "alpha = 0.3\n",
    "delta = 0.1\n",
    "n = 0.01\n",
    "g = 0.02\n",
    "\n",
    "# Define the initial values\n",
    "K0 = 1\n",
    "L0 = 1\n",
    "A0 = 1\n",
    "Y0 = 1\n",
    "Kt = 1\n",
    "\n",
    "# Define the time period\n",
    "T = 100\n",
    "\n",
    "# Define the empty lists\n",
    "K = [K0]\n",
    "L = [L0]\n",
    "A = [A0]\n",
    "Y = [Y0]\n",
    "Kt = [Kt]\n",
    "\n",
    "# Define the loop\n",
    "for t in range(T):\n",
    "    Kt_new = s * cobb_douglas(K[t] / (A[t] * L[t]), 1, 1, alpha) + (1 - delta) * K[t] / (A[t] * L[t])\n",
    "    K_new = Kt_new * A[t] * L[t]\n",
    "    K.append(K_new)\n",
    "\n",
    "    L_new = (1 + n) * L[t]\n",
    "    L.append(L_new)\n",
    "\n",
    "    A_new = (1 + g) * A[t]\n",
    "    A.append(A_new)\n",
    "\n",
    "    Y_new = cobb_douglas(K_new, L_new, A_new, alpha)\n",
    "    Y.append(Y_new)\n",
    "\n",
    "    Kt.append(Kt_new)\n",
    "\n",
    "\n",
    "# plot Kt \n",
    "plt.plot(Kt)\n",
    "plt.title('Plot of Kt')\n",
    "plt.xlabel('Time')\n",
    "plt.ylabel('Kt')\n",
    "plt.show()\n",
    "\n",
    "\n"
   ]
  }
 ],
 "metadata": {
  "kernelspec": {
   "display_name": "Python 3",
   "language": "python",
   "name": "python3"
  },
  "language_info": {
   "codemirror_mode": {
    "name": "ipython",
    "version": 3
   },
   "file_extension": ".py",
   "mimetype": "text/x-python",
   "name": "python",
   "nbconvert_exporter": "python",
   "pygments_lexer": "ipython3",
   "version": "3.9.7"
  },
  "orig_nbformat": 4
 },
 "nbformat": 4,
 "nbformat_minor": 2
}
