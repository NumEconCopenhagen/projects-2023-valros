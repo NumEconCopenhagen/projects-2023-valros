{
 "cells": [
  {
   "attachments": {},
   "cell_type": "markdown",
   "metadata": {},
   "source": [
    "# <a id='toc1_'></a>[The Swan-Solow Model](#toc0_)"
   ]
  },
  {
   "attachments": {},
   "cell_type": "markdown",
   "metadata": {},
   "source": [
    "**Table of contents**<a id='toc0_'></a>    \n",
    "- [The Swan-Solow Model](#toc1_)    \n",
    "  - [Short Introduction to Model Project](#toc1_1_)    \n",
    "  - [Define the standard Solow Model](#toc1_2_)    \n",
    "    - [Define Steady State](#toc1_2_1_)    \n",
    "  - [Initiate Code](#toc1_3_)    \n",
    "    - [Libraries](#toc1_3_1_)    \n",
    "    - [Example Code form PS6](#toc1_3_2_)    \n",
    "  - [Solow Model (Vanilla)](#toc1_4_)    \n",
    "    - [Interactive Graph for Basic Solow Model](#toc1_4_1_)    \n",
    "  - [Solow Model with Oil and Land](#toc1_5_)    \n",
    "\n",
    "<!-- vscode-jupyter-toc-config\n",
    "\tnumbering=false\n",
    "\tanchor=true\n",
    "\tflat=false\n",
    "\tminLevel=1\n",
    "\tmaxLevel=6\n",
    "\t/vscode-jupyter-toc-config -->\n",
    "<!-- THIS CELL WILL BE REPLACED ON TOC UPDATE. DO NOT WRITE YOUR TEXT IN THIS CELL -->"
   ]
  },
  {
   "attachments": {},
   "cell_type": "markdown",
   "metadata": {},
   "source": [
    "------\n",
    "\n",
    "## <a id='toc1_1_'></a>[Short Introduction to Model Project](#toc0_)\n",
    "\n",
    "This project is about the Swan-Solow Model. The model is a neoclassical growth model, which is a model of long-run economic growth set within the framework of neoclassical economics. The model was developed simultaneously by Robert Solow and Trevor Swan in 1956. The model is also known as the exogenous growth model or the Solow–Swan growth model.\n",
    "\n",
    "The models capabilities are to explain the long-run growth of an economy by looking at capital accumulation, labor or population growth, and increases in productivity, known as technological progress. The model is used to show how changes in the saving rate, the population growth rate, and the rate of technological progress affect the level of and growth in the standard of living. The model also shows how changes in these factors affect the economy’s output, employment, and the real interest rate.\n",
    "\n",
    "This porject will incooperate **Land and Oil** as a new factor of production. The model will be used to show how changes in the saving rate, the population growth rate, the rate of technological progress, the amount of land and the amount of oil affect the level of and growth in the standard of living. The model will also show how changes in these factors affect the economy’s output, employment, and the real interest rate.\n",
    "\n",
    "-----"
   ]
  },
  {
   "attachments": {},
   "cell_type": "markdown",
   "metadata": {},
   "source": [
    "## <a id='toc1_2_'></a>[Define the standard Solow Model](#toc0_)\n",
    "\n",
    "Below is the Standard Solow model defined. This was copied from Problem Set 6 - Numerical Programming.\n",
    "\n",
    "\n"
   ]
  },
  {
   "attachments": {},
   "cell_type": "markdown",
   "metadata": {},
   "source": [
    "Consider the **standard Solow-model** where:\n",
    "\n",
    "1. $K_t$ is capital2\n",
    "2. $L_t$ is labor (growing with a constant rate of $n$)\n",
    "3. $A_t$ is technology (growing with a constant rate of $g$)\n",
    "4. $Y_t = F(K_t,A_tL_t)$ is GDP\n",
    "\n",
    "**Saving** is a constant fraction of GDP\n",
    "\n",
    "$$ \n",
    "S_t = sY_t,\\,s\\in(0,1)\n",
    "$$\n",
    "\n",
    "such that **capital accumulates** according to\n",
    "\n",
    "$$\n",
    "K_{t+1}=S_{t}+(1-\\delta)K_{t}=sF(K_{t},A_{t}L_{t})+(1-\\delta)K_{t}, \\delta \\in (0,1)\n",
    "$$\n",
    "\n",
    "The **production function** has **constant-return to scale** such that\n",
    "\n",
    "$$\n",
    "\\frac{Y_{t}}{A_{t}L_{t}}=\\frac{F(K_{t},A_{t}L_{t})}{A_{t}L_{t}}=F(\\tilde{k}_{t},1)\\equiv f(\\tilde{k}_{t})\n",
    "$$\n",
    "\n",
    "where $\\tilde{k}_t = \\frac{K_t}{A_{t}L_{t}}$ is the technology adjusted capital-labor ratio.\n",
    "\n",
    "The **transition equation** then becomes\n",
    "\n",
    "$$\n",
    "\\tilde{k}_{t+1}= \\frac{1}{(1+n)(1+g)}[sf(\\tilde{k}_{t})+(1-\\delta)\\tilde{k}_{t}]\n",
    "$$\n",
    "\n",
    "If the **production function** is **Cobb-Douglas** then\n",
    "\n",
    "$$\n",
    "F(K_{t},A_{t}L_{t})=K_{t}^{\\alpha}(A_{t}L_{t})^{1-\\alpha}\\Rightarrow f(\\tilde{k}_{t})=\\tilde{k}_{t}^{\\alpha}\n",
    "$$\n",
    "\n",
    "If it is **CES** (with $\\beta < 1, \\beta \\neq 0$) then\n",
    "\n",
    "$$\n",
    "F(K_{t},A_{t}L_{t})=(\\alpha K_{t}^{\\beta}+(1-\\alpha)(A_{t}L_{t})^{\\beta})^{\\frac{1}{\\beta}}\\Rightarrow f(\\tilde{k}_{t})=(\\alpha\\tilde{k}_{t}^{\\beta}+(1-\\alpha))^{\\frac{1}{\\beta}}\n",
    "$$\n"
   ]
  },
  {
   "attachments": {},
   "cell_type": "markdown",
   "metadata": {},
   "source": [
    "### <a id='toc1_2_1_'></a>[Define Steady State](#toc0_)"
   ]
  },
  {
   "attachments": {},
   "cell_type": "markdown",
   "metadata": {},
   "source": [
    "We assume that the production function is **Cobb-Douglas**."
   ]
  },
  {
   "attachments": {},
   "cell_type": "markdown",
   "metadata": {},
   "source": [
    "Therefore the steady state is defined as: \n",
    "\n",
    "$$\n",
    "\\tilde{k}^{\\ast}= \\frac{1}{(1+n)(1+g)}[sf(\\tilde{k}^{\\ast})+(1-\\delta)\\tilde{k}^{\\ast}]\n",
    "$$\n",
    "\n",
    "----"
   ]
  },
  {
   "attachments": {},
   "cell_type": "markdown",
   "metadata": {},
   "source": [
    "## <a id='toc1_3_'></a>[Initiate Code](#toc0_)\n",
    "\n",
    "This section initiates the code by importing the relevant packages and defining the parameters."
   ]
  },
  {
   "attachments": {},
   "cell_type": "markdown",
   "metadata": {},
   "source": [
    "### <a id='toc1_3_1_'></a>[Libraries](#toc0_)"
   ]
  },
  {
   "cell_type": "code",
   "execution_count": 1,
   "metadata": {},
   "outputs": [],
   "source": [
    "%matplotlib inline\n",
    "%reload_ext autoreload\n",
    "%autoreload 2\n",
    "\n",
    "import numpy as np\n",
    "from scipy import linalg\n",
    "from scipy import optimize\n",
    "import sympy as sm\n",
    "import matplotlib.pyplot as plt\n",
    "import pandas as pd"
   ]
  },
  {
   "attachments": {},
   "cell_type": "markdown",
   "metadata": {},
   "source": [
    "### <a id='toc1_3_2_'></a>[Example Code form PS6](#toc0_)"
   ]
  },
  {
   "cell_type": "code",
   "execution_count": 2,
   "metadata": {},
   "outputs": [
    {
     "name": "stdout",
     "output_type": "stream",
     "text": [
      "the steady state for k is 1.9038315392313185\n",
      "for beta = -0.500 the steady state for k is 1.8471297000972984\n",
      "for beta = -0.250 the steady state for k is 1.873383262758588\n",
      "for beta = -0.100 the steady state for k is 1.8910856397655083\n",
      "for beta = -0.050 the steady state for k is 1.8973581025712736\n",
      "for beta = 0.050 the steady state for k is 1.9105159729244352\n",
      "for beta = 0.100 the steady state for k is 1.917422132817728\n",
      "for beta = 0.250 the steady state for k is 1.9395902733676993\n",
      "for beta = 0.500 the steady state for k is 1.9822334997701418\n"
     ]
    }
   ],
   "source": [
    "s = 0.2\n",
    "g = 0.02\n",
    "n = 0.01\n",
    "alpha = 1/3\n",
    "delta = 0.1\n",
    "\n",
    "# write your code here\n",
    "f = lambda k: k**alpha\n",
    "obj_kss = lambda kss: kss - (s*f(kss) + (1-delta)*kss)/((1+g)*(1+n))\n",
    "result = optimize.root_scalar(obj_kss,bracket=[0.1,100],method='brentq')\n",
    "\n",
    "print('the steady state for k is', result.root)   \n",
    "\n",
    "betas = [-0.5,-0.25,-0.1,-0.05,0.05,0.1,0.25,0.5]\n",
    "\n",
    "for beta in betas:\n",
    "    f = lambda k: (alpha*k**beta + (1-alpha))**(1/beta)\n",
    "    obj_kss = lambda kss: kss - (s*f(kss) + (1-delta)*kss)/((1+g)*(1+n))\n",
    "    result = optimize.root_scalar(obj_kss,bracket=[0.1,100],method='brentq')\n",
    "    print(f'for beta = {beta:.3f} the steady state for k is',result.root) "
   ]
  },
  {
   "attachments": {},
   "cell_type": "markdown",
   "metadata": {},
   "source": [
    "------\n",
    "\n",
    "## <a id='toc1_4_'></a>[Solow Model (Vanilla)](#toc0_)\n",
    "\n",
    "This is the computation of the basic Solow Model with the initial parameters:\n",
    "- $\\alpha$ = 0.33\n",
    "- $s$ = 0.2\n",
    "- $n$ = 0.01\n",
    "- $g$ = 0.02\n",
    "- $\\delta$ = 0.05\n",
    "- $k_0$ = 1\n",
    "\n",
    "The model is computed for 100 periods.\n",
    "\n"
   ]
  },
  {
   "cell_type": "code",
   "execution_count": 47,
   "metadata": {},
   "outputs": [
    {
     "data": {
      "image/png": "[encoded data removed]",
      "text/plain": [
       "<Figure size 1200x800 with 1 Axes>"
      ]
     },
     "metadata": {},
     "output_type": "display_data"
    }
   ],
   "source": [
    "# Step 1: Import required libraries\n",
    "import numpy as np\n",
    "import matplotlib.pyplot as plt\n",
    "\n",
    "# Step 2: Define the Cobb-Douglas production function\n",
    "def cobb_douglas(K, L, A, alpha):\n",
    "    \"\"\"\n",
    "    K: Capital\n",
    "    L: Labor\n",
    "    A: Total Factor Productivity (TFP)\n",
    "    alpha: Output elasticity of capital\n",
    "    \"\"\"\n",
    "    return A * K**alpha * L**(1 - alpha)\n",
    "\n",
    "# Step 3: Define the Solow model parameters\n",
    "savings_rate = 0.2\n",
    "depreciation_rate = 0.05\n",
    "population_growth_rate = 0.01\n",
    "technology_growth_rate = 0.01\n",
    "initial_capital = 1\n",
    "initial_labor = 1\n",
    "initial_A = 1\n",
    "alpha = 0.33\n",
    "time_periods = 150\n",
    "\n",
    "# Step 4: Initialize variables\n",
    "K = np.zeros(time_periods)\n",
    "L = np.zeros(time_periods)\n",
    "A = np.zeros(time_periods)\n",
    "Y = np.zeros(time_periods)\n",
    "k = np.zeros(time_periods)\n",
    "\n",
    "# Step 5: Initialize the first time period\n",
    "K[0] = initial_capital\n",
    "L[0] = initial_labor\n",
    "A[0] = initial_A\n",
    "Y[0] = cobb_douglas(K[0], L[0], A[0], alpha)\n",
    "k[0] = K[0] / (A[0] * L[0])\n",
    "\n",
    "# Step 6: Iterate through the Solow model\n",
    "for t in range(1, time_periods):\n",
    "    K[t] = K[t - 1] * (1 - depreciation_rate) + savings_rate * Y[t - 1]\n",
    "    L[t] = L[t - 1] * (1 + population_growth_rate)\n",
    "    A[t] = A[t - 1] * (1 + technology_growth_rate)\n",
    "    Y[t] = cobb_douglas(K[t], L[t], A[t], alpha)\n",
    "    k[t] = K[t] / (A[t] * L[t])\n",
    "\n",
    "# Step 7: Plot the results\n",
    "plt.figure(figsize=(12, 8))\n",
    "plt.plot(k)\n",
    "plt.xlabel('Time periods', size = 25)\n",
    "plt.ylabel('Capital per effective worker (k)', size = 25)\n",
    "plt.title('Basic Solow Model', size = 25)\n",
    "plt.grid()\n",
    "plt.show()"
   ]
  },
  {
   "attachments": {},
   "cell_type": "markdown",
   "metadata": {},
   "source": [
    "### <a id='toc1_4_1_'></a>[Interactive Graph for Basic Solow Model](#toc0_)\n",
    "\n",
    "The interactive graph with interactive value for savings. \n"
   ]
  },
  {
   "cell_type": "code",
   "execution_count": 50,
   "metadata": {},
   "outputs": [
    {
     "data": {
      "application/vnd.jupyter.widget-view+json": {
       "model_id": "b0a7214cf28445eb970e7f9fb291b7c6",
       "version_major": 2,
       "version_minor": 0
      },
      "text/plain": [
       "interactive(children=(FloatSlider(value=0.01, continuous_update=False, description='Savings rate:', max=0.5, m…"
      ]
     },
     "metadata": {},
     "output_type": "display_data"
    }
   ],
   "source": [
    "# Create a widget to interact with the graph add a slider for the savings rate\n",
    "# use \"play\" from the widget to see the effect of the savings rate on the graph\n",
    "from ipywidgets import interact, interactive, fixed, interact_manual\n",
    "import ipywidgets as widgets\n",
    "import warnings\n",
    "\n",
    "\n",
    "# define 100 values in list of savings rates\n",
    "savings = np.linspace(0.01, 0.5, 100)\n",
    "alphas = np.linspace(0.01, 0.99, 100)\n",
    "inital_k = np.linspace(0.01, 0.99, 100)\n",
    "depreciation_rate = np.linspace(0.01, 0.99, 100)\n",
    "\n",
    "\n",
    "# define a function that takes savings, alphas, inital_k, depreciation_rate as inputs and play them in an interactive graph\n",
    "def solow(savings, alphas, inital_k, depreciation_rate, time):\n",
    "    savings_rate = savings\n",
    "    depreciation_rate = depreciation_rate\n",
    "    population_growth_rate = 0.01\n",
    "    technology_growth_rate = 0.01\n",
    "    initial_capital = inital_k\n",
    "    initial_labor = 1\n",
    "    initial_A = 1\n",
    "    alpha = alphas\n",
    "    time_periods = time\n",
    "\n",
    "    # Initialize variables\n",
    "    K = np.zeros(time_periods)\n",
    "    L = np.zeros(time_periods)\n",
    "    A = np.zeros(time_periods)\n",
    "    Y = np.zeros(time_periods)\n",
    "    k = np.zeros(time_periods)\n",
    "\n",
    "    # Initialize the first time period\n",
    "    K[0] = initial_capital\n",
    "    L[0] = initial_labor\n",
    "    A[0] = initial_A\n",
    "    Y[0] = cobb_douglas(K[0], L[0], A[0], alpha)\n",
    "    k[0] = K[0] / (A[0] * L[0])\n",
    "\n",
    "    # Iterate through the Solow model\n",
    "    for t in range(1, time_periods):\n",
    "        K[t] = K[t - 1] * (1 - depreciation_rate) + savings_rate * Y[t - 1]\n",
    "        L[t] = L[t - 1] * (1 + population_growth_rate)\n",
    "        A[t] = A[t - 1] * (1 + technology_growth_rate)\n",
    "        Y[t] = cobb_douglas(K[t], L[t], A[t], alpha)\n",
    "        k[t] = K[t] / (A[t] * L[t])\n",
    "\n",
    "    # Plot the results\n",
    "    plt.figure(figsize=(20, 8))\n",
    "    plt.plot(k, label = 'Capital per effective worker')\n",
    "    \n",
    "    plt.xlabel('Time periods', size=25)\n",
    "    plt.ylabel('Capital per effective worker (k)', size=25)\n",
    "    plt.title('Basic Solow Model', size=25)\n",
    "    plt.axhline(y = k[-1], color = 'r', linestyle = '--', label = 'Steady state')\n",
    "    plt.legend(fontsize = 15)\n",
    "    plt.grid()\n",
    "    plt.show()\n",
    "\n",
    "## create a widget to interact with the graph as sliders, with start values in the widget to 0.01.\n",
    "# include slider in the graph for savings rate, alphas, inital_k, depreciation_rate\n",
    "# use the \"FloatSlider\" from the widget to see the effect of the savings rate on the graph\n",
    "\n",
    "\n",
    "savings = widgets.FloatSlider(  # savings rate slider   \n",
    "                            value=0.01,\n",
    "                            min=0.01,\n",
    "                            max=0.5,\n",
    "                            step=0.01,\n",
    "                            description='Savings rate:',\n",
    "                            disabled=False,\n",
    "                            continuous_update=False,\n",
    "                            orientation='horizontal',\n",
    "                            readout=True,\n",
    "                            readout_format='.2f',\n",
    "                            )\n",
    "\n",
    "alphas = widgets.FloatSlider(  # alphas slider\n",
    "                            value=0.01,\n",
    "                            min=0.01,\n",
    "                            max=0.99,\n",
    "                            step=0.01,\n",
    "                            description='Alphas:',\n",
    "                            disabled=False,\n",
    "                            continuous_update=False,\n",
    "                            orientation='horizontal',\n",
    "                            readout=True,\n",
    "                            readout_format='.2f',\n",
    "                            )\n",
    "\n",
    "inital_k = widgets.FloatSlider(  # inital_k slider\n",
    "                            value=0.01,\n",
    "                            min=0.01,\n",
    "                            max=0.99,\n",
    "                            step=0.01,\n",
    "                            description='Inital_k:',\n",
    "                            disabled=False,\n",
    "                            continuous_update=False,\n",
    "                            orientation='horizontal',\n",
    "                            readout=True,\n",
    "                            readout_format='.2f',\n",
    "                            )\n",
    "\n",
    "depreciation_rate = widgets.FloatSlider(  # depreciation_rate slider\n",
    "                            value=0.01,\n",
    "                            min=0.01,\n",
    "                            max=0.99,\n",
    "                            step=0.01,\n",
    "                            description='Depreciation_rate:',\n",
    "                            disabled=False,\n",
    "                            continuous_update=False,\n",
    "                            orientation='horizontal',\n",
    "                            readout=True,\n",
    "                            readout_format='.2f',\n",
    "                            )\n",
    "\n",
    "time_p = widgets.IntSlider(  # time_periods slider\n",
    "                            value=100,\n",
    "                            min=1,\n",
    "                            max=2000,\n",
    "                            step=1,\n",
    "                            description='Time_periods:',\n",
    "                            disabled=False,\n",
    "                            continuous_update=False,\n",
    "                            orientation='horizontal',\n",
    "                            readout=True,\n",
    "                            readout_format='.2f',\n",
    "                            )\n",
    "\n",
    "widgets.interact(solow, savings=savings, alphas=alphas, inital_k=inital_k, depreciation_rate=depreciation_rate, time = time_p)\n",
    "\n",
    "warnings.filterwarnings('ignore')\n"
   ]
  },
  {
   "attachments": {},
   "cell_type": "markdown",
   "metadata": {},
   "source": [
    "------\n",
    "\n",
    "## <a id='toc1_5_'></a>[Solow Model with Oil and Land](#toc0_)"
   ]
  }
 ],
 "metadata": {
  "kernelspec": {
   "display_name": "ml",
   "language": "python",
   "name": "python3"
  },
  "language_info": {
   "codemirror_mode": {
    "name": "ipython",
    "version": 3
   },
   "file_extension": ".py",
   "mimetype": "text/x-python",
   "name": "python",
   "nbconvert_exporter": "python",
   "pygments_lexer": "ipython3",
   "version": "3.9.16"
  },
  "orig_nbformat": 4
 },
 "nbformat": 4,
 "nbformat_minor": 2
}
