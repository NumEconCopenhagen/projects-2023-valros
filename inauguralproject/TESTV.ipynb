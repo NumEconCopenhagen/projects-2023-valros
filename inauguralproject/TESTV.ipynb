{
 "cells": [
  {
   "attachments": {},
   "cell_type": "markdown",
   "metadata": {},
   "source": [
    "# TEST V\n"
   ]
  },
  {
   "cell_type": "code",
   "execution_count": 21,
   "metadata": {},
   "outputs": [
    {
     "name": "stdout",
     "output_type": "stream",
     "text": [
      "The autoreload extension is already loaded. To reload it, use:\n",
      "  %reload_ext autoreload\n"
     ]
    }
   ],
   "source": [
    "import numpy as np\n",
    "from mpl_toolkits.mplot3d import Axes3D\n",
    "import matplotlib.pyplot as plt\n",
    "\n",
    "# autoreload modules when code is run. Otherwise, python will not see recent changes. \n",
    "%load_ext autoreload\n",
    "%autoreload 2\n",
    "\n",
    "# Import your own code\n",
    "from HouseholdMOD import HouseholdSpecializationModelClass"
   ]
  },
  {
   "attachments": {},
   "cell_type": "markdown",
   "metadata": {},
   "source": [
    "## Question 1"
   ]
  },
  {
   "cell_type": "code",
   "execution_count": 20,
   "metadata": {},
   "outputs": [
    {
     "name": "stdout",
     "output_type": "stream",
     "text": [
      "LM = 4.5000\n",
      "HM = 4.5000\n",
      "LF = 4.5000\n",
      "HF = 4.5000\n",
      "namespace(LM=4.5, HM=4.5, LF=4.5, HF=4.5)\n"
     ]
    }
   ],
   "source": [
    "# Create an instance of the model for question 1\n",
    "model = HouseholdSpecializationModelClass()\n",
    "model.par.alpha = 0.5\n",
    "model.par.sigma = 1\n",
    "name = model.solve_discrete(do_print=True)\n",
    "print(name)"
   ]
  },
  {
   "attachments": {},
   "cell_type": "markdown",
   "metadata": {},
   "source": [
    "## Question 1 (GPT)"
   ]
  },
  {
   "cell_type": "code",
   "execution_count": 1,
   "metadata": {},
   "outputs": [
    {
     "name": "stderr",
     "output_type": "stream",
     "text": [
      "/Users/vg/Desktop/projects-2023-valros/inauguralproject/HouseholdMOD.py:62: RuntimeWarning: divide by zero encountered in reciprocal\n",
      "  H = ((1-par.alpha)*HM**((par.sigma-1)/par.sigma)+par.alpha*HF**((par.sigma-1)/par.sigma))**(par.sigma/(par.sigma-1))\n"
     ]
    },
    {
     "name": "stdout",
     "output_type": "stream",
     "text": [
      "Ratio of HF to HM:\n",
      "[[0.54545455 0.30769231 0.21428571]\n",
      " [1.         1.         1.        ]\n",
      " [1.83333333 3.25       4.66666667]]\n"
     ]
    }
   ],
   "source": [
    "from HouseholdMOD import HouseholdSpecializationModelClass\n",
    "import numpy as np\n",
    "\n",
    "# create model\n",
    "model = HouseholdSpecializationModelClass()\n",
    "\n",
    "# set up alpha and sigma values to loop through\n",
    "alpha_vals = [0.25, 0.5, 0.75]\n",
    "sigma_vals = [0.5, 1.0, 1.5]\n",
    "\n",
    "# set up array to store results\n",
    "ratio_results = np.zeros((len(alpha_vals), len(sigma_vals)))\n",
    "\n",
    "# loop through alpha and sigma values and solve model for each combination\n",
    "for i, alpha in enumerate(alpha_vals):\n",
    "    for j, sigma in enumerate(sigma_vals):\n",
    "        # set model parameters\n",
    "        model.par.alpha = alpha\n",
    "        model.par.sigma = sigma\n",
    "        \n",
    "        # solve model\n",
    "        sol = model.solve_discrete()\n",
    "        \n",
    "        # store ratio of HF to HM\n",
    "        ratio_results[i, j] = sol.HF / sol.HM\n",
    "        \n",
    "# print results\n",
    "print(\"Ratio of HF to HM:\")\n",
    "print(ratio_results)\n"
   ]
  },
  {
   "attachments": {},
   "cell_type": "markdown",
   "metadata": {},
   "source": [
    "### Plot the ratios in a \"Heatmap\""
   ]
  },
  {
   "cell_type": "code",
   "execution_count": 6,
   "metadata": {},
   "outputs": [
    {
     "data": {
      "image/png": "[encoded data removed]",
      "text/plain": [
       "<Figure size 640x480 with 2 Axes>"
      ]
     },
     "metadata": {},
     "output_type": "display_data"
    }
   ],
   "source": [
    "import matplotlib.pyplot as plt\n",
    "\n",
    "# create heatmap of ratios\n",
    "fig, ax = plt.subplots()\n",
    "im = ax.imshow(ratio_results, cmap='coolwarm')\n",
    "\n",
    "# set tick labels\n",
    "ax.set_xticks(np.arange(len(sigma_vals)))\n",
    "ax.set_yticks(np.arange(len(alpha_vals)))\n",
    "ax.set_xticklabels(sigma_vals)\n",
    "ax.set_yticklabels(alpha_vals)\n",
    "ax.set_xlabel('sigma')\n",
    "ax.set_ylabel('alpha')\n",
    "\n",
    "# add colorbar\n",
    "cbar = ax.figure.colorbar(im, ax=ax)\n",
    "cbar.ax.set_ylabel('HF/HM', rotation=270, labelpad=10)\n",
    "\n",
    "# loop over data and add annotations\n",
    "for i in range(len(alpha_vals)):\n",
    "    for j in range(len(sigma_vals)):\n",
    "        text = ax.text(j, i, f\"{ratio_results[i, j]:.2f}\",\n",
    "                       ha=\"center\", va=\"center\", color=\"black\")\n",
    "\n",
    "# set plot title\n",
    "plt.title(\"Ratio of HF to HM\")\n",
    "\n",
    "# show plot\n",
    "plt.show()\n"
   ]
  }
 ],
 "metadata": {
  "kernelspec": {
   "display_name": "base",
   "language": "python",
   "name": "python3"
  },
  "language_info": {
   "codemirror_mode": {
    "name": "ipython",
    "version": 3
   },
   "file_extension": ".py",
   "mimetype": "text/x-python",
   "name": "python",
   "nbconvert_exporter": "python",
   "pygments_lexer": "ipython3",
   "version": "3.9.13"
  },
  "orig_nbformat": 4
 },
 "nbformat": 4,
 "nbformat_minor": 2
}
