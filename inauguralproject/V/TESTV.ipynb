{
 "cells": [
  {
   "cell_type": "markdown",
   "metadata": {},
   "source": [
    "# <a id='toc1_'></a>[TEST V](#toc0_)\n"
   ]
  },
  {
   "cell_type": "markdown",
   "metadata": {},
   "source": [
    "**Table of contents**<a id='toc0_'></a>    \n",
    "- [TEST V](#toc1_)    \n",
    "  - [Preliminaries](#toc1_1_)    \n",
    "  - [Question 1](#toc1_2_)    \n",
    "  - [Question 1](#toc1_3_)    \n",
    "    - [Methodology](#toc1_3_1_)    \n",
    "  - [Question 1.2](#toc1_4_)    \n",
    "    - [Plot the ratios in a \"Heatmap\"](#toc1_4_1_)    \n",
    "  - [Question 2](#toc1_5_)    \n",
    "    - [Methodology](#toc1_5_1_)    \n",
    "  - [Question 3](#toc1_6_)    \n",
    "- [Question 4](#toc2_)    \n",
    "- [Question 5](#toc3_)    \n",
    "\n",
    "<!-- vscode-jupyter-toc-config\n",
    "\tnumbering=false\n",
    "\tanchor=true\n",
    "\tflat=false\n",
    "\tminLevel=1\n",
    "\tmaxLevel=6\n",
    "\t/vscode-jupyter-toc-config -->\n",
    "<!-- THIS CELL WILL BE REPLACED ON TOC UPDATE. DO NOT WRITE YOUR TEXT IN THIS CELL -->"
   ]
  },
  {
   "cell_type": "markdown",
   "metadata": {},
   "source": [
    "## <a id='toc1_1_'></a>[Preliminaries](#toc0_)\n"
   ]
  },
  {
   "cell_type": "code",
   "execution_count": 52,
   "metadata": {},
   "outputs": [
    {
     "name": "stdout",
     "output_type": "stream",
     "text": [
      "The autoreload extension is already loaded. To reload it, use:\n",
      "  %reload_ext autoreload\n"
     ]
    }
   ],
   "source": [
    "import numpy as np\n",
    "from mpl_toolkits.mplot3d import Axes3D\n",
    "import matplotlib.pyplot as plt\n",
    "import scipy.optimize as opt\n",
    "\n",
    "# autoreload modules when code is run. Otherwise, python will not see recent changes. \n",
    "%load_ext autoreload\n",
    "%autoreload 2\n",
    "\n",
    "# Import your own code\n",
    "from HMOD1 import HouseholdSpecializationModelClass"
   ]
  },
  {
   "cell_type": "markdown",
   "metadata": {},
   "source": [
    "## <a id='toc1_3_'></a>[Question 1](#toc0_)\n",
    "\n",
    "### <a id='toc1_3_1_'></a>[Methodology](#toc0_)\n",
    "Below we import the class form HMOD1 whereafter we create an instance of the class. We then use the method to calculate the value of the function at the given points and print the result."
   ]
  },
  {
   "cell_type": "code",
   "execution_count": 3,
   "metadata": {},
   "outputs": [
    {
     "name": "stderr",
     "output_type": "stream",
     "text": [
      "c:\\Users\\45227\\Desktop\\programminggg\\projects-2023-valros\\inauguralproject\\V\\HMOD1.py:62: RuntimeWarning: divide by zero encountered in reciprocal\n",
      "  H = ((1-par.alpha)*HM**((par.sigma-1)/par.sigma)+par.alpha*HF**((par.sigma-1)/par.sigma))**(par.sigma/(par.sigma-1))\n"
     ]
    },
    {
     "name": "stdout",
     "output_type": "stream",
     "text": [
      "Ratio of HF to HM:\n",
      "[[0.54545455 0.30769231 0.21428571]\n",
      " [1.         1.         1.        ]\n",
      " [1.83333333 3.25       4.66666667]]\n"
     ]
    }
   ],
   "source": [
    "from HMOD1 import HouseholdSpecializationModelClass\n",
    "import numpy as np\n",
    "\n",
    "# create model\n",
    "model = HouseholdSpecializationModelClass()\n",
    "\n",
    "# set up alpha and sigma values to loop through\n",
    "alpha_vals = [0.25, 0.5, 0.75]\n",
    "sigma_vals = [0.5, 1.0, 1.5]\n",
    "\n",
    "# set up array to store results\n",
    "ratio_results = np.zeros((len(alpha_vals), len(sigma_vals)))\n",
    "\n",
    "# loop through alpha and sigma values and solve model for each combination\n",
    "for i, alpha in enumerate(alpha_vals):\n",
    "    for j, sigma in enumerate(sigma_vals):\n",
    "        # set model parameters\n",
    "        model.par.alpha = alpha\n",
    "        model.par.sigma = sigma\n",
    "        \n",
    "        # solve model\n",
    "        sol = model.solve_discrete()\n",
    "        \n",
    "        # store ratio of HF to HM\n",
    "        ratio_results[i, j] = sol.HF / sol.HM\n",
    "        \n",
    "# print results\n",
    "print(\"Ratio of HF to HM:\")\n",
    "print(ratio_results)\n"
   ]
  },
  {
   "cell_type": "markdown",
   "metadata": {},
   "source": [
    "## <a id='toc1_4_'></a>[Question 1.2](#toc0_)\n",
    "### <a id='toc1_4_1_'></a>[Plot the ratios in a \"Heatmap\"](#toc0_)"
   ]
  },
  {
   "cell_type": "code",
   "execution_count": 4,
   "metadata": {},
   "outputs": [
    {
     "data": {
      "image/png": "[encoded data removed]",
      "text/plain": [
       "<Figure size 432x288 with 2 Axes>"
      ]
     },
     "metadata": {
      "needs_background": "light"
     },
     "output_type": "display_data"
    }
   ],
   "source": [
    "import matplotlib.pyplot as plt\n",
    "\n",
    "# create heatmap of ratios\n",
    "fig, ax = plt.subplots()\n",
    "im = ax.imshow(ratio_results, cmap='coolwarm')\n",
    "\n",
    "# set tick labels\n",
    "ax.set_xticks(np.arange(len(sigma_vals)))\n",
    "ax.set_yticks(np.arange(len(alpha_vals)))\n",
    "ax.set_xticklabels(sigma_vals)\n",
    "ax.set_yticklabels(alpha_vals)\n",
    "ax.set_xlabel(r'$\\sigma$')\n",
    "ax.set_ylabel(r'$\\alpha$')\n",
    "\n",
    "# add colorbar\n",
    "cbar = ax.figure.colorbar(im, ax=ax)\n",
    "cbar.ax.set_ylabel(r'$H_F/H_M$', rotation=270, labelpad=10)\n",
    "\n",
    "# loop over data and add annotations\n",
    "for i in range(len(alpha_vals)):\n",
    "    for j in range(len(sigma_vals)):\n",
    "        text = ax.text(j, i, f\"{ratio_results[i, j]:.2f}\",\n",
    "                       ha=\"center\", va=\"center\", color=\"black\")\n",
    "\n",
    "# set plot title\n",
    "plt.title(\"Ratio between\" + \" \" + r'$H_F$' + \" \" + \"and\" + \" \" r'$H_M$')\n",
    "\n",
    "# show plot\n",
    "plt.show()\n"
   ]
  },
  {
   "cell_type": "markdown",
   "metadata": {},
   "source": [
    "## <a id='toc1_5_'></a>[Question 2](#toc0_)\n",
    "\n",
    "### <a id='toc1_5_1_'></a>[Methodology](#toc0_)\n",
    "In this part we will use the same methodology as in the previous part. We will use the same data set and the same model. We will only change the way we calculate the ratios."
   ]
  },
  {
   "cell_type": "code",
   "execution_count": 53,
   "metadata": {},
   "outputs": [
    {
     "name": "stderr",
     "output_type": "stream",
     "text": [
      "c:\\Users\\45227\\Desktop\\programminggg\\projects-2023-valros\\inauguralproject\\V\\HMOD1.py:182: RuntimeWarning: invalid value encountered in true_divide\n",
      "  y = np.log(sol.HF_vec/sol.HM_vec)\n"
     ]
    },
    {
     "data": {
      "image/png": "[encoded data removed]",
      "text/plain": [
       "<Figure size 432x288 with 1 Axes>"
      ]
     },
     "metadata": {
      "needs_background": "light"
     },
     "output_type": "display_data"
    }
   ],
   "source": [
    "model = HouseholdSpecializationModelClass()\n",
    "\n",
    "# solve for HF/HM ratios\n",
    "HF_HM_ratios = model.solve_wF_vec(discrete=True)\n",
    "\n",
    "# run regression\n",
    "model.run_regression()\n",
    "\n",
    "# plot results\n",
    "plt.scatter(np.log(model.par.wF_vec), np.log(HF_HM_ratios))\n",
    "plt.plot(np.log(model.par.wF_vec), model.sol.beta0 + model.sol.beta1 * np.log(model.par.wF_vec))\n",
    "plt.xlabel(r'$\\log(\\frac{w_F}{w_M})$', fontsize = 16)\n",
    "plt.ylabel(r'$\\log(\\frac{H_F}{H_M})$', fontsize = 16)\n",
    "plt.title(r'$\\log(\\frac{H_F}{H_M}) \\ against \\ \\log(\\frac{w_F}{w_M})$', fontsize = 18)\n",
    "\"Log(HF/HM) vs. Log(wF/wM)\"\n",
    "# add labels to scatter plot points\n",
    "for i, txt in enumerate(model.par.wF_vec):\n",
    "    plt.annotate(txt, (np.log(model.par.wF_vec[i]), np.log(HF_HM_ratios[i])))\n",
    "\n",
    "plt.grid(True)\n",
    "plt.show()\n"
   ]
  },
  {
   "cell_type": "markdown",
   "metadata": {},
   "source": [
    "## <a id='toc1_6_'></a>[Question 3](#toc0_)\n",
    "We now assume that the choice set is continuous. We will use the same data set and the same model. We will only change the way we calculate the ratios.\n"
   ]
  },
  {
   "cell_type": "code",
   "execution_count": 6,
   "metadata": {},
   "outputs": [
    {
     "data": {
      "image/png": "[encoded data removed]",
      "text/plain": [
       "<Figure size 432x288 with 1 Axes>"
      ]
     },
     "metadata": {
      "needs_background": "light"
     },
     "output_type": "display_data"
    }
   ],
   "source": [
    "import numpy as np\n",
    "import matplotlib.pyplot as plt\n",
    "from HMOD1 import HouseholdSpecializationModelClass\n",
    "\n",
    "# Instantiate the model\n",
    "model = HouseholdSpecializationModelClass()\n",
    "\n",
    "# Solve the model for the vector of female wages\n",
    "HF_HM_ratios = model.solve_wF_vec()\n",
    "\n",
    "# Calculate log ratios\n",
    "log_wage_ratios = np.log(model.par.wF_vec / model.par.wM)\n",
    "log_HF_HM_ratios = np.log(HF_HM_ratios)\n",
    "\n",
    "# Create the plot\n",
    "plt.plot(log_wage_ratios, log_HF_HM_ratios, marker='o', linestyle='-')\n",
    "plt.xlabel('$\\log(w_F/w_M)$')\n",
    "plt.ylabel('$\\log(H_F/H_M)$')\n",
    "plt.title('Log Home Production Ratio vs. Log Wage Ratio')\n",
    "plt.grid(True)\n",
    "plt.show()\n",
    "\n"
   ]
  },
  {
   "cell_type": "markdown",
   "metadata": {},
   "source": [
    "# <a id='toc2_'></a>[Question 4](#toc0_)\n",
    "To minimize the objective function $\\left(\\beta_0-\\hat{\\beta}_0\\right)^2+\\left(\\beta_1-\\hat{\\beta}_1\\right)^2$ and find the best values for $\\alpha$ and $\\sigma$, you can use the following approach:\n",
    "\n",
    "Define a function to calculate the objective function for given $\\alpha$ and $\\sigma$.\n",
    "Use an optimization method like grid search or gradient-based optimization to find the best values for $\\alpha$ and $\\sigma$."
   ]
  },
  {
   "cell_type": "code",
   "execution_count": 7,
   "metadata": {},
   "outputs": [
    {
     "name": "stdout",
     "output_type": "stream",
     "text": [
      "Optimal alpha: 0.5000\n",
      "Optimal sigma: 1.0000\n"
     ]
    }
   ],
   "source": [
    "import numpy as np\n",
    "from scipy import optimize\n",
    "from HMOD1 import HouseholdSpecializationModelClass\n",
    "\n",
    "# 2. Optimize the objective function\n",
    "model = HouseholdSpecializationModelClass()\n",
    "\n",
    "# Define the initial guess and bounds for the parameters\n",
    "x0 = [0.5, 1.0]\n",
    "bounds = [(0.01, 0.99), (0.01, 5.0)]\n",
    "\n",
    "# Optimize using the minimize function from the scipy library\n",
    "opt_result = optimize.minimize(objective, x0, args=(model), bounds=bounds)\n",
    "\n",
    "# Print the optimal values for alpha and sigma\n",
    "alpha_opt, sigma_opt = opt_result.x\n",
    "print(f'Optimal alpha: {alpha_opt:.4f}')\n",
    "print(f'Optimal sigma: {sigma_opt:.4f}')\n",
    "\n",
    "\n",
    "\n"
   ]
  },
  {
   "cell_type": "markdown",
   "metadata": {},
   "source": [
    "# <a id='toc3_'></a>[Question 5](#toc0_)\n"
   ]
  }
 ],
 "metadata": {
  "kernelspec": {
   "display_name": "base",
   "language": "python",
   "name": "python3"
  },
  "language_info": {
   "codemirror_mode": {
    "name": "ipython",
    "version": 3
   },
   "file_extension": ".py",
   "mimetype": "text/x-python",
   "name": "python",
   "nbconvert_exporter": "python",
   "pygments_lexer": "ipython3",
   "version": "3.9.13"
  },
  "orig_nbformat": 4
 },
 "nbformat": 4,
 "nbformat_minor": 2
}
