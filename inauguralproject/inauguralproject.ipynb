{
 "cells": [
  {
   "cell_type": "markdown",
   "metadata": {},
   "source": [
    "# <a id='toc1_'></a>[Inaugural Project](#toc0_)"
   ]
  },
  {
   "cell_type": "markdown",
   "metadata": {},
   "source": [
    "**Table of contents**<a id='toc0_'></a>    \n",
    "- [Inaugural Project](#toc1_)    \n",
    "- [Question 1](#toc2_)    \n",
    "- [Question 2](#toc3_)    \n",
    "- [Question 3](#toc4_)    \n",
    "\n",
    "<!-- vscode-jupyter-toc-config\n",
    "\tnumbering=false\n",
    "\tanchor=true\n",
    "\tflat=false\n",
    "\tminLevel=1\n",
    "\tmaxLevel=6\n",
    "\t/vscode-jupyter-toc-config -->\n",
    "<!-- THIS CELL WILL BE REPLACED ON TOC UPDATE. DO NOT WRITE YOUR TEXT IN THIS CELL -->"
   ]
  },
  {
   "attachments": {},
   "cell_type": "markdown",
   "metadata": {},
   "source": [
    "> **Note the following:** \n",
    "> 1. This is an example of how to structure your **inaugural project**.\n",
    "> 1. Remember the general advice on structuring and commenting your code\n",
    "> 1. The `inauguralproject.py` file includes a function which can be used multiple times in this notebook.\n",
    "\n"
   ]
  },
  {
   "cell_type": "markdown",
   "metadata": {},
   "source": [
    "Imports and set magics:"
   ]
  },
  {
   "cell_type": "code",
   "execution_count": null,
   "metadata": {},
   "outputs": [],
   "source": [
    "import numpy as np\n",
    "from mpl_toolkits.mplot3d import Axes3D\n",
    "import matplotlib.pyplot as plt\n",
    "\n",
    "# autoreload modules when code is run. Otherwise, python will not see recent changes. \n",
    "%load_ext autoreload\n",
    "%autoreload 2\n",
    "\n",
    "# Import your own code\n",
    "from HouseholdMOD import HouseholdSpecializationModelClass"
   ]
  },
  {
   "cell_type": "markdown",
   "metadata": {},
   "source": [
    "# <a id='toc2_'></a>[Question 1](#toc0_)"
   ]
  },
  {
   "cell_type": "markdown",
   "metadata": {},
   "source": [
    "**Explain how you solve the model**"
   ]
  },
  {
   "cell_type": "code",
   "execution_count": 18,
   "metadata": {},
   "outputs": [
    {
     "name": "stdout",
     "output_type": "stream",
     "text": [
      "LM = 7.5000\n",
      "HM = 1.0000\n",
      "LF = 1.0000\n",
      "HF = 7.5000\n"
     ]
    },
    {
     "data": {
      "text/plain": [
       "namespace(LM=7.5, HM=1.0, LF=1.0, HF=7.5)"
      ]
     },
     "execution_count": 18,
     "metadata": {},
     "output_type": "execute_result"
    }
   ],
   "source": [
    "model = HouseholdSpecializationModelClass()\n",
    "model.par.alpha = 0.8\n",
    "model.par.sigma = 1.5\n",
    "model.solve_discrete(do_print=True)"
   ]
  },
  {
   "cell_type": "code",
   "execution_count": null,
   "metadata": {},
   "outputs": [],
   "source": [
    "model.opt.HM\n",
    "model.opt.HF"
   ]
  },
  {
   "cell_type": "code",
   "execution_count": null,
   "metadata": {},
   "outputs": [],
   "source": [
    "print(model.sol.HM_vec)"
   ]
  },
  {
   "cell_type": "code",
   "execution_count": 119,
   "metadata": {},
   "outputs": [
    {
     "data": {
      "text/plain": [
       "numpy.ndarray"
      ]
     },
     "execution_count": 119,
     "metadata": {},
     "output_type": "execute_result"
    }
   ],
   "source": [
    "# code for solving the model (remember documentation and comments)\n",
    "#Det her kode var der inden – jeg ved ikke helt om det skal bruges eller ej\n",
    "#a = np.array([1,2,3])\n",
    "#b = ip.square(a)\n",
    "#print(b)\n",
    "\n",
    "Hm = np.linspace(0,24,49)\n",
    "Hf = np.linspace(0,24,49)\n",
    "Lm = np.linspace(0,24,49)\n",
    "Lf = np.linspace(0,24,49)\n",
    "\n",
    "type(Hm)"
   ]
  },
  {
   "cell_type": "code",
   "execution_count": null,
   "metadata": {},
   "outputs": [],
   "source": [
    "#tror ikke det er kode skal bruges – det men det er det her de beder om at gøre...\n",
    "N = 49 # number of elements\n",
    "x_max = 24 # maximum value\n",
    "\n",
    "x_vec = np.linspace(0,x_max,N)\n",
    "\n",
    "# b. Create meshgrids similar to x1_values and x2_values above\n",
    "Hf_mesh,Hm_mesh = np.meshgrid(x_vec,x_vec,indexing='ij')\n",
    "\n",
    "#print('Dimension of grid over x1 (same as x2): ', Hf_mesh.shape) # Note that the grid is 2d. u_func needs 2d to calculate element by element. \n",
    "#commented out because it is not needed\n",
    "\n",
    "frac_values_mesh = np.divide(Hf_mesh, Hm_mesh) # element by element division in meshgrid\n"
   ]
  },
  {
   "cell_type": "code",
   "execution_count": 116,
   "metadata": {},
   "outputs": [],
   "source": [
    "%matplotlib widget\n",
    "fig = plt.figure() #create a figure\n",
    "ax = fig.add_subplot(1,1,1,projection='3d') #add a subplot to the figure\n",
    "ax.plot_surface(Hf_mesh,Hm_mesh,frac_values_mesh) #plot the surface\n",
    "ax.set_xlabel('$H_F$') #label the axes\n",
    "ax.set_ylabel('$H_M$')\n",
    "ax.set_zlabel('$H_F/H_M$')\n",
    "ax.invert_xaxis() #invert the x-axis\n",
    "fig.tight_layout\n",
    "\n"
   ]
  },
  {
   "cell_type": "markdown",
   "metadata": {},
   "source": [
    "# <a id='toc3_'></a>[Question 2](#toc0_)"
   ]
  },
  {
   "cell_type": "markdown",
   "metadata": {},
   "source": [
    "Explain your code and procedure"
   ]
  },
  {
   "cell_type": "code",
   "execution_count": null,
   "metadata": {},
   "outputs": [],
   "source": [
    "# code\n",
    "\n"
   ]
  },
  {
   "cell_type": "markdown",
   "metadata": {},
   "source": [
    "# <a id='toc4_'></a>[Question 3](#toc0_)"
   ]
  },
  {
   "cell_type": "markdown",
   "metadata": {},
   "source": [
    "Explain your code and procedure"
   ]
  },
  {
   "cell_type": "code",
   "execution_count": null,
   "metadata": {},
   "outputs": [],
   "source": [
    "# code"
   ]
  },
  {
   "cell_type": "markdown",
   "metadata": {},
   "source": [
    "ADD CONCISE CONLUSION."
   ]
  }
 ],
 "metadata": {
  "kernelspec": {
   "display_name": "base",
   "language": "python",
   "name": "python3"
  },
  "language_info": {
   "codemirror_mode": {
    "name": "ipython",
    "version": 3
   },
   "file_extension": ".py",
   "mimetype": "text/x-python",
   "name": "python",
   "nbconvert_exporter": "python",
   "pygments_lexer": "ipython3",
   "version": "3.9.13"
  },
  "toc-autonumbering": true,
  "vscode": {
   "interpreter": {
    "hash": "8f9d433173fce9ec167271f041c28e779303b80c571b2795455ae4e69e5ca5d6"
   }
  }
 },
 "nbformat": 4,
 "nbformat_minor": 4
}
