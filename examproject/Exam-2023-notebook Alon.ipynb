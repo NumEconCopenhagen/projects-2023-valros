{
 "cells": [
  {
   "attachments": {},
   "cell_type": "markdown",
   "metadata": {},
   "source": [
    "**Table of contents**<a id='toc0_'></a>    \n",
    "- 1. [Problem 1: Optimal taxation with government consumption](#toc1_)    \n",
    "- 2. [Problem 2: Labor adjustment costs](#toc2_)    \n",
    "- 3. [Problem 3: Global optimizer with refined multi-start](#toc3_)    \n",
    "\n",
    "<!-- vscode-jupyter-toc-config\n",
    "\tnumbering=true\n",
    "\tanchor=true\n",
    "\tflat=false\n",
    "\tminLevel=2\n",
    "\tmaxLevel=6\n",
    "\t/vscode-jupyter-toc-config -->\n",
    "<!-- THIS CELL WILL BE REPLACED ON TOC UPDATE. DO NOT WRITE YOUR TEXT IN THIS CELL -->"
   ]
  },
  {
   "cell_type": "code",
   "execution_count": 98,
   "metadata": {},
   "outputs": [],
   "source": [
    "# write your code here"
   ]
  },
  {
   "attachments": {},
   "cell_type": "markdown",
   "metadata": {},
   "source": [
    "## 1. <a id='toc1_'></a>[Problem 1: Optimal taxation with government consumption](#toc0_)"
   ]
  },
  {
   "attachments": {},
   "cell_type": "markdown",
   "metadata": {},
   "source": [
    "\n",
    "Consider a worker choosing hours of labor, $L\\in[0,24]$, to maximize utility: \n",
    "\n",
    "$$\n",
    "\\begin{align*}\n",
    "V(w,\\tau,G)&=\\max_{L\\in[0,24]}\\ln\\left(C^{\\alpha}G^{1-\\alpha}\\right)-\\nu\\frac{L^{2}}{2}\\\\&\\text{s.t.}\\\\&C=\\kappa+(1-\\tau)wL\n",
    "\\end{align*}\n",
    "$$\n",
    "\n",
    "where \n",
    "\n",
    "* $C$ is *private* consumption with weight $\\alpha\\in(0,1)$.\n",
    "* $\\kappa > 0$ is the *free private* consumption component.\n",
    "* $C = (1-\\tau)wL$ is the *costly private* consumption component.\n",
    "* $w > 0 $ is the real wage.\n",
    "* $\\tau \\in (0,1)$ is the labor-income tax rate.\n",
    "* $G > 0 $ is *government* consumption with weight $1-\\alpha$.\n",
    "* $\\nu > 0$ is the disutility of labor scaling factor"
   ]
  },
  {
   "attachments": {},
   "cell_type": "markdown",
   "metadata": {},
   "source": [
    "\n",
    "The baseline parameters are:\n",
    "\n",
    "$$\n",
    "\\begin{align*}\n",
    "\\alpha &= 0.5\\\\\n",
    "\\kappa &= 1.0\\\\\n",
    "\\nu &= \\frac{1}{2\\cdot16^2} \\\\\n",
    "w &= 1.0 \\\\ \n",
    "\\tau &= 0.30 \\\\\n",
    "\\end{align*}\n",
    "$$"
   ]
  },
  {
   "attachments": {},
   "cell_type": "markdown",
   "metadata": {},
   "source": [
    "**Question 1:** Verify that the optimal labor supply choice is $L^{\\star}(\\tilde{w}) =\\frac{-\\kappa+\\sqrt{\\kappa^{2}+4\\frac{\\alpha}{\\nu}\\tilde{w}^2}}{2\\tilde{w}}$, where $\\tilde{w} = (1-\\tau)w$, for $G\\in\\left\\{1.0 , 2.0\\right\\}$."
   ]
  },
  {
   "cell_type": "code",
   "execution_count": 99,
   "metadata": {},
   "outputs": [],
   "source": [
    "# write your code here"
   ]
  },
  {
   "attachments": {},
   "cell_type": "markdown",
   "metadata": {},
   "source": [
    "**Question 2:** Illustrate how $L^{\\star}(\\tilde{w})$ depends on $w$."
   ]
  },
  {
   "cell_type": "code",
   "execution_count": 100,
   "metadata": {},
   "outputs": [],
   "source": [
    "# write your code here"
   ]
  },
  {
   "attachments": {},
   "cell_type": "markdown",
   "metadata": {},
   "source": [
    "\n",
    "We now consider a government, who chooses $\\tau$ and spend all of the taxes on government consumption so:\n",
    "\n",
    "$$\n",
    "G = \\tau w L^{\\star}((1-\\tau)w)\n",
    "$$\n",
    "\n",
    "**Question 3:** Plot the implied $L$, $G$ and worker utility for a grid of $\\tau$-values.\n"
   ]
  },
  {
   "cell_type": "code",
   "execution_count": 101,
   "metadata": {},
   "outputs": [],
   "source": [
    "# write your code here"
   ]
  },
  {
   "attachments": {},
   "cell_type": "markdown",
   "metadata": {},
   "source": [
    "**Question 4:** Find the socially optimal tax rate $\\tau^{\\star}\\in(0,1)$ maximizing worker utility. Illustrate your result."
   ]
  },
  {
   "cell_type": "code",
   "execution_count": 102,
   "metadata": {},
   "outputs": [],
   "source": [
    "# write your code here"
   ]
  },
  {
   "attachments": {},
   "cell_type": "markdown",
   "metadata": {},
   "source": [
    "A more general preference formulation for the worker is:\n",
    "\n",
    "$$\n",
    "\\begin{align*}\n",
    "\\mathcal{V}(w,\\tau,G)&=\\max_{L\\in[0,24]}\\frac{\\left[ \\left( \\alpha C^{\\frac{\\sigma-1}{\\sigma}}+(1-\\alpha) G^{\\frac{\\sigma-1}{\\sigma}} \\right)^{\\frac{\\sigma}{1-\\sigma} }\\right]^{1-\\rho}-1}{1-\\rho}- \\nu\\frac{L^{1+\\varepsilon}}{1+\\varepsilon},\\,\\,\\,\\varepsilon,\\rho,\\sigma>0,\\,\\,\\,\\rho,\\sigma\\neq1\\\\&\\text{s.t.}\\\\&C=\\kappa+(1-\\tau)wL\n",
    "\\end{align*}    \n",
    "$$\n",
    "\n",
    "Optimal labor supply is now $L^{\\star}(\\tilde{w},G)$."
   ]
  },
  {
   "attachments": {},
   "cell_type": "markdown",
   "metadata": {},
   "source": [
    "Questions 5 and 6 must be answered with the general formulation, and for 2 different set of parameters:\n",
    "\n",
    "- Set 1:  $\\sigma = 1.001$, $\\rho = 1.001$ and $\\varepsilon = 1.0$.\n",
    "- Set 2:  $\\sigma = 1.5$, $\\rho = 1.5$ and $\\varepsilon = 1.0 $."
   ]
  },
  {
   "attachments": {},
   "cell_type": "markdown",
   "metadata": {},
   "source": [
    "**Question 5:** Find the $G$ that solves $G = \\tau w L^{\\star}((1-\\tau)w,G)$ using the $\\tau$ found in question 4.\n",
    "\n",
    "*Hint: First write code that solves the worker problem for given values of $G$ and $\\tau$. Then find the correct G based on this.*"
   ]
  },
  {
   "cell_type": "code",
   "execution_count": 103,
   "metadata": {},
   "outputs": [],
   "source": [
    "# write your code here"
   ]
  },
  {
   "attachments": {},
   "cell_type": "markdown",
   "metadata": {},
   "source": [
    "**Question 6:** Find the socially optimal tax rate, $\\tau^{\\star}$, maximizing worker utility, while keeping $G = \\tau w L^{\\star}((1-\\tau)w,G)$."
   ]
  },
  {
   "cell_type": "code",
   "execution_count": 104,
   "metadata": {},
   "outputs": [],
   "source": [
    "# write your code here  "
   ]
  },
  {
   "attachments": {},
   "cell_type": "markdown",
   "metadata": {},
   "source": [
    "## 2. <a id='toc2_'></a>[Problem 2: Labor adjustment costs](#toc0_)"
   ]
  },
  {
   "attachments": {},
   "cell_type": "markdown",
   "metadata": {},
   "source": [
    "You own a hair salon. You employ hairdressers, $\\ell_t$, to produce haircuts, $y_t = \\ell_t$.\n",
    "\n",
    "The wage for each haridresser is $w$.\n",
    "\n",
    "The demand for haircuts implies that the price of haircuts you can charge is $p_t = \\kappa_t y_t^{-\\eta}$, where $\\kappa_t$ is a demand-shock and $\\eta \\in (0,1)$ measures the elasticity of demand.\n",
    "\n",
    "Profits are:\n",
    "\n",
    "$$\n",
    "\\Pi_t = p_t y_t - w \\ell_t = \\kappa_t \\ell_t^{1-\\eta} - w \\ell_t\n",
    "$$"
   ]
  },
  {
   "attachments": {},
   "cell_type": "markdown",
   "metadata": {},
   "source": [
    "Baseline parameters are:\n",
    "- $\\eta = 0.5$\n",
    "- $w = 1.0$"
   ]
  },
  {
   "attachments": {},
   "cell_type": "markdown",
   "metadata": {},
   "source": [
    "**Question 1:** Verify numerically that $\\ell_{t}=\\left(\\frac{(1-\\eta)\\kappa_{t}}{w}\\right)^{\\frac{1}{\\eta}}$ maximises profits, for $\\kappa\\in\\left\\{1.0 , 2.0\\right\\}$."
   ]
  },
  {
   "cell_type": "code",
   "execution_count": 1,
   "metadata": {},
   "outputs": [
    {
     "ename": "ModuleNotFoundError",
     "evalue": "No module named 'numba'",
     "output_type": "error",
     "traceback": [
      "\u001b[1;31m---------------------------------------------------------------------------\u001b[0m",
      "\u001b[1;31mModuleNotFoundError\u001b[0m                       Traceback (most recent call last)",
      "\u001b[1;32mc:\\Users\\45227\\Desktop\\programminggg\\projects-2023-valros-1\\examproject\\Exam-2023-notebook Alon.ipynb Cell 24\u001b[0m in \u001b[0;36m<cell line: 7>\u001b[1;34m()\u001b[0m\n\u001b[0;32m      <a href='vscode-notebook-cell:/c%3A/Users/45227/Desktop/programminggg/projects-2023-valros-1/examproject/Exam-2023-notebook%20Alon.ipynb#X66sZmlsZQ%3D%3D?line=4'>5</a>\u001b[0m \u001b[39mimport\u001b[39;00m \u001b[39mmatplotlib\u001b[39;00m\u001b[39m.\u001b[39;00m\u001b[39mpyplot\u001b[39;00m \u001b[39mas\u001b[39;00m \u001b[39mplt\u001b[39;00m\n\u001b[0;32m      <a href='vscode-notebook-cell:/c%3A/Users/45227/Desktop/programminggg/projects-2023-valros-1/examproject/Exam-2023-notebook%20Alon.ipynb#X66sZmlsZQ%3D%3D?line=5'>6</a>\u001b[0m \u001b[39mfrom\u001b[39;00m \u001b[39mtypes\u001b[39;00m \u001b[39mimport\u001b[39;00m SimpleNamespace\n\u001b[1;32m----> <a href='vscode-notebook-cell:/c%3A/Users/45227/Desktop/programminggg/projects-2023-valros-1/examproject/Exam-2023-notebook%20Alon.ipynb#X66sZmlsZQ%3D%3D?line=6'>7</a>\u001b[0m \u001b[39mimport\u001b[39;00m \u001b[39mnumba\u001b[39;00m \u001b[39mas\u001b[39;00m \u001b[39mnb\u001b[39;00m\n\u001b[0;32m      <a href='vscode-notebook-cell:/c%3A/Users/45227/Desktop/programminggg/projects-2023-valros-1/examproject/Exam-2023-notebook%20Alon.ipynb#X66sZmlsZQ%3D%3D?line=8'>9</a>\u001b[0m \u001b[39mimport\u001b[39;00m \u001b[39mexamproject\u001b[39;00m \u001b[39mas\u001b[39;00m \u001b[39mep\u001b[39;00m\n\u001b[0;32m     <a href='vscode-notebook-cell:/c%3A/Users/45227/Desktop/programminggg/projects-2023-valros-1/examproject/Exam-2023-notebook%20Alon.ipynb#X66sZmlsZQ%3D%3D?line=10'>11</a>\u001b[0m \u001b[39m# autoreload modules when code is run\u001b[39;00m\n",
      "\u001b[1;31mModuleNotFoundError\u001b[0m: No module named 'numba'"
     ]
    }
   ],
   "source": [
    "import numpy as np\n",
    "from scipy import optimize\n",
    "import time\n",
    "import sympy as sm\n",
    "import matplotlib.pyplot as plt\n",
    "from types import SimpleNamespace\n",
    "import numba as nb\n",
    "\n",
    "import examproject as ep\n",
    "\n",
    "# autoreload modules when code is run\n",
    "%load_ext autoreload\n",
    "%autoreload 2"
   ]
  },
  {
   "cell_type": "code",
   "execution_count": 1,
   "metadata": {},
   "outputs": [
    {
     "ename": "NameError",
     "evalue": "name 'ep' is not defined",
     "output_type": "error",
     "traceback": [
      "\u001b[1;31m---------------------------------------------------------------------------\u001b[0m",
      "\u001b[1;31mNameError\u001b[0m                                 Traceback (most recent call last)",
      "\u001b[1;32mc:\\Users\\45227\\Desktop\\programminggg\\projects-2023-valros-1\\examproject\\Exam-2023-notebook Alon.ipynb Cell 24\u001b[0m in \u001b[0;36m<cell line: 1>\u001b[1;34m()\u001b[0m\n\u001b[1;32m----> <a href='vscode-notebook-cell:/c%3A/Users/45227/Desktop/programminggg/projects-2023-valros-1/examproject/Exam-2023-notebook%20Alon.ipynb#X32sZmlsZQ%3D%3D?line=0'>1</a>\u001b[0m model \u001b[39m=\u001b[39m ep\u001b[39m.\u001b[39mLabourClass()\n\u001b[0;32m      <a href='vscode-notebook-cell:/c%3A/Users/45227/Desktop/programminggg/projects-2023-valros-1/examproject/Exam-2023-notebook%20Alon.ipynb#X32sZmlsZQ%3D%3D?line=1'>2</a>\u001b[0m model\u001b[39m.\u001b[39mset_values()\n\u001b[0;32m      <a href='vscode-notebook-cell:/c%3A/Users/45227/Desktop/programminggg/projects-2023-valros-1/examproject/Exam-2023-notebook%20Alon.ipynb#X32sZmlsZQ%3D%3D?line=3'>4</a>\u001b[0m kappa_vec \u001b[39m=\u001b[39m np\u001b[39m.\u001b[39mlinspace(\u001b[39m1.0\u001b[39m, \u001b[39m2.0\u001b[39m, \u001b[39m100\u001b[39m)\n",
      "\u001b[1;31mNameError\u001b[0m: name 'ep' is not defined"
     ]
    }
   ],
   "source": [
    "model = ep.LabourClass()\n",
    "model.set_values()\n",
    "\n",
    "kappa_vec = np.linspace(1.0, 2.0, 100)\n",
    "\n",
    "l_vec = np.empty(100)\n",
    "l_analytical = np.empty(100)\n",
    "\n",
    "for i, kappa in enumerate(kappa_vec):\n",
    "    l_vec[i] = model.optimal_l(kappa=kappa)\n",
    "    l_analytical[i] = model.analytical_l(kappa=kappa)\n",
    "\n",
    "plt.plot(kappa_vec, l_vec, label='Numerical')\n",
    "plt.plot(kappa_vec, l_analytical, linestyle='--', alpha=0.75, label='Analytical')\n",
    "plt.legend()\n",
    "plt.show()"
   ]
  },
  {
   "cell_type": "code",
   "execution_count": 106,
   "metadata": {},
   "outputs": [
    {
     "name": "stdout",
     "output_type": "stream",
     "text": [
      "For kappa = 1.0, the optimal l found numerically is 0.24999999999999978 and the given solution is 0.25\n",
      "For kappa = 2.0, the optimal l found numerically is 1.0000000238418592 and the given solution is 1.0\n"
     ]
    }
   ],
   "source": [
    "# Call function\n",
    "kappas = [1.0, 2.0]\n",
    "calculate_optimal_l(kappas)"
   ]
  },
  {
   "attachments": {},
   "cell_type": "markdown",
   "metadata": {},
   "source": [
    "We now consider a *dynamic* version of the model.\n",
    "\n",
    "* The demand-shock is a so-called AR(1) in logs, \n",
    "\n",
    "$$\n",
    "\\log \\kappa_{t} = \\rho \\log \\kappa_{t-1} + \\epsilon_{t},\\,\\,\\, \\epsilon_{t+1} \\sim \\mathcal{N}(-0.5\\sigma_{\\epsilon}^2,\\sigma_{\\epsilon})\n",
    "$$\n",
    "\n",
    "* Any hiring or firing implies a fixed adjustment cost, $\\iota > 0 $.\n",
    "* Future profits are discounted with a monthly factor of $R \\in (0,1)$.\n",
    "\n",
    "The initial demand shock is $\\kappa_{-1} = 1$ and the planning horizon is 10 years, i.e. 120 months so $t \\in \\{0,1,2,\\dots,119\\}$. Initially you don't have any employees, $\\ell_{-1}=0$"
   ]
  },
  {
   "attachments": {},
   "cell_type": "markdown",
   "metadata": {},
   "source": [
    "\n",
    "The *ex post* value of the salon is *conditional* on the shock series is:\n",
    "\n",
    "$$\n",
    "h(\\epsilon_0,\\epsilon_1,\\dots,\\epsilon_{119}) = \\left[\\sum_{t=0}^{119}R^{-t}\\left[\\kappa_{t}\\ell_{t}^{1-\\eta}-w\\ell_{t}-\\boldsymbol{1}_{\\ell_{t}\\neq\\ell_{t-1}}\\iota\\right]\\right]\n",
    "$$\n",
    "\n",
    "The *ex ante* expected value of the salon can be approximated by\n",
    "\n",
    "$$\n",
    "H = \\mathbb{E}[h(\\epsilon_0,\\epsilon_1,\\dots,\\epsilon_{119})] \\approx \\frac{1}{K}\\sum_{k=0}^{K} h(\\epsilon_0^k,\\epsilon_1^k,\\dots,\\epsilon_{119}^k)\n",
    "$$\n",
    "\n",
    "where each $k\\in\\{0,1,\\dots,K-1\\}$ is a random shock series. Maximizing profitability means maximizing $H$.\n"
   ]
  },
  {
   "attachments": {},
   "cell_type": "markdown",
   "metadata": {},
   "source": [
    "Baseline parameters are: \n",
    "\n",
    "- $\\rho = 0.90$\n",
    "- $\\iota = 0.01$\n",
    "- $\\sigma_{\\epsilon} = 0.10$\n",
    "- $R = \\left(1+0.01\\right)^{1/12}$"
   ]
  },
  {
   "attachments": {},
   "cell_type": "markdown",
   "metadata": {},
   "source": [
    "**Question 2:** Calculate $H$ if the policy  $\\ell_{t}=\\left(\\frac{(1-\\eta)\\kappa_{t}}{w}\\right)^{\\frac{1}{\\eta}}$ from question 1 is followed. Choose $K$ so the approximation is good enough to not affect your results substantially."
   ]
  },
  {
   "cell_type": "code",
   "execution_count": 61,
   "metadata": {},
   "outputs": [
    {
     "name": "stdout",
     "output_type": "stream",
     "text": [
      "The expected value for kappa = 1.0 is None\n",
      "The expected value for kappa = 2.0 is None\n"
     ]
    }
   ],
   "source": [
    "import numpy as np\n",
    "\n",
    "def calculate_expected_value(eta, w, rho, iota, sigma_epsilon, R, T, initial_K, increment_K, iter=10000):\n",
    "\n",
    "    # set the seed\n",
    "    np.random.seed(2023)\n",
    "\n",
    "    # Define the policy\n",
    "    def policy(kappa, l_prev):\n",
    "        l_opt = ((1-eta)*kappa/w)**(1/eta)\n",
    "    return\n",
    "\n",
    "    # Define the profit function\n",
    "    def profit(l, l_prev, kappa):\n",
    "        return kappa * l**(1-eta) - w * l - (l != l_prev) * iota\n",
    "\n",
    "\n",
    "# Define the parameters\n",
    "eta = 0.5\n",
    "w = 1.0\n",
    "rho = 0.90\n",
    "iota = 0.01\n",
    "sigma_epsilon = 0.10\n",
    "R = (1+0.01)**(1/12)\n",
    "T = 120  # Number of months\n",
    "initial_K = 100\n",
    "increment_K = 10\n",
    "\n",
    "# show the expected value for different values of kappa\n",
    "kappas = [1.0, 2.0]\n",
    "for kappa in kappas:\n",
    "    print(f\"The expected value for kappa = {kappa} is {calculate_expected_value(eta, w, rho, iota, sigma_epsilon, R, T, initial_K, increment_K)}\")\n",
    "    "
   ]
  },
  {
   "cell_type": "code",
   "execution_count": 57,
   "metadata": {},
   "outputs": [
    {
     "ename": "UnboundLocalError",
     "evalue": "local variable 'L_prev' referenced before assignment",
     "output_type": "error",
     "traceback": [
      "\u001b[1;31m---------------------------------------------------------------------------\u001b[0m",
      "\u001b[1;31mUnboundLocalError\u001b[0m                         Traceback (most recent call last)",
      "\u001b[1;32mc:\\Users\\45227\\Desktop\\programminggg\\projects-2023-valros-1\\examproject\\Exam-2023-notebook Alon.ipynb Cell 31\u001b[0m in \u001b[0;36m<cell line: 2>\u001b[1;34m()\u001b[0m\n\u001b[0;32m      <a href='vscode-notebook-cell:/c%3A/Users/45227/Desktop/programminggg/projects-2023-valros-1/examproject/Exam-2023-notebook%20Alon.ipynb#X42sZmlsZQ%3D%3D?line=0'>1</a>\u001b[0m \u001b[39m# Call the function\u001b[39;00m\n\u001b[1;32m----> <a href='vscode-notebook-cell:/c%3A/Users/45227/Desktop/programminggg/projects-2023-valros-1/examproject/Exam-2023-notebook%20Alon.ipynb#X42sZmlsZQ%3D%3D?line=1'>2</a>\u001b[0m H, K \u001b[39m=\u001b[39m calculate_expected_value(eta, w, rho, iota, sigma_epsilon, R, T, initial_K, increment_K)\n\u001b[0;32m      <a href='vscode-notebook-cell:/c%3A/Users/45227/Desktop/programminggg/projects-2023-valros-1/examproject/Exam-2023-notebook%20Alon.ipynb#X42sZmlsZQ%3D%3D?line=2'>3</a>\u001b[0m \u001b[39mprint\u001b[39m(\u001b[39mf\u001b[39m\u001b[39m\"\u001b[39m\u001b[39mThe expected value of the salon is \u001b[39m\u001b[39m{\u001b[39;00mH\u001b[39m}\u001b[39;00m\u001b[39m for K = \u001b[39m\u001b[39m{\u001b[39;00mK\u001b[39m}\u001b[39;00m\u001b[39m\"\u001b[39m)\n",
      "\u001b[1;32mc:\\Users\\45227\\Desktop\\programminggg\\projects-2023-valros-1\\examproject\\Exam-2023-notebook Alon.ipynb Cell 31\u001b[0m in \u001b[0;36mcalculate_expected_value\u001b[1;34m(eta, w, rho, iota, sigma_epsilon, R, T, initial_K, increment_K, iter)\u001b[0m\n\u001b[0;32m     <a href='vscode-notebook-cell:/c%3A/Users/45227/Desktop/programminggg/projects-2023-valros-1/examproject/Exam-2023-notebook%20Alon.ipynb#X42sZmlsZQ%3D%3D?line=54'>55</a>\u001b[0m \u001b[39m# For each kappa, calculate the expected value and append it to the list\u001b[39;00m\n\u001b[0;32m     <a href='vscode-notebook-cell:/c%3A/Users/45227/Desktop/programminggg/projects-2023-valros-1/examproject/Exam-2023-notebook%20Alon.ipynb#X42sZmlsZQ%3D%3D?line=55'>56</a>\u001b[0m \u001b[39mfor\u001b[39;00m kappa \u001b[39min\u001b[39;00m np\u001b[39m.\u001b[39marange(\u001b[39m1.0\u001b[39m, \u001b[39m2.0\u001b[39m, \u001b[39m0.1\u001b[39m):\n\u001b[1;32m---> <a href='vscode-notebook-cell:/c%3A/Users/45227/Desktop/programminggg/projects-2023-valros-1/examproject/Exam-2023-notebook%20Alon.ipynb#X42sZmlsZQ%3D%3D?line=56'>57</a>\u001b[0m     expected_values\u001b[39m.\u001b[39mappend(expected_value(kappa))\n\u001b[0;32m     <a href='vscode-notebook-cell:/c%3A/Users/45227/Desktop/programminggg/projects-2023-valros-1/examproject/Exam-2023-notebook%20Alon.ipynb#X42sZmlsZQ%3D%3D?line=58'>59</a>\u001b[0m \u001b[39m# Find the kappa that maximizes the expected value\u001b[39;00m\n\u001b[0;32m     <a href='vscode-notebook-cell:/c%3A/Users/45227/Desktop/programminggg/projects-2023-valros-1/examproject/Exam-2023-notebook%20Alon.ipynb#X42sZmlsZQ%3D%3D?line=59'>60</a>\u001b[0m kappa_opt \u001b[39m=\u001b[39m np\u001b[39m.\u001b[39marange(\u001b[39m1.0\u001b[39m, \u001b[39m2.0\u001b[39m, \u001b[39m0.1\u001b[39m)[np\u001b[39m.\u001b[39margmax(expected_values)]\n",
      "\u001b[1;32mc:\\Users\\45227\\Desktop\\programminggg\\projects-2023-valros-1\\examproject\\Exam-2023-notebook Alon.ipynb Cell 31\u001b[0m in \u001b[0;36mcalculate_expected_value.<locals>.expected_value\u001b[1;34m(kappa)\u001b[0m\n\u001b[0;32m     <a href='vscode-notebook-cell:/c%3A/Users/45227/Desktop/programminggg/projects-2023-valros-1/examproject/Exam-2023-notebook%20Alon.ipynb#X42sZmlsZQ%3D%3D?line=31'>32</a>\u001b[0m L \u001b[39m=\u001b[39m policy(kappa)\n\u001b[0;32m     <a href='vscode-notebook-cell:/c%3A/Users/45227/Desktop/programminggg/projects-2023-valros-1/examproject/Exam-2023-notebook%20Alon.ipynb#X42sZmlsZQ%3D%3D?line=33'>34</a>\u001b[0m \u001b[39m# Calculate the profit\u001b[39;00m\n\u001b[1;32m---> <a href='vscode-notebook-cell:/c%3A/Users/45227/Desktop/programminggg/projects-2023-valros-1/examproject/Exam-2023-notebook%20Alon.ipynb#X42sZmlsZQ%3D%3D?line=34'>35</a>\u001b[0m profits\u001b[39m.\u001b[39mappend(profit(L, L_prev, kappa))\n\u001b[0;32m     <a href='vscode-notebook-cell:/c%3A/Users/45227/Desktop/programminggg/projects-2023-valros-1/examproject/Exam-2023-notebook%20Alon.ipynb#X42sZmlsZQ%3D%3D?line=36'>37</a>\u001b[0m \u001b[39m# Update the previous labor\u001b[39;00m\n\u001b[0;32m     <a href='vscode-notebook-cell:/c%3A/Users/45227/Desktop/programminggg/projects-2023-valros-1/examproject/Exam-2023-notebook%20Alon.ipynb#X42sZmlsZQ%3D%3D?line=37'>38</a>\u001b[0m L_prev \u001b[39m=\u001b[39m L\n",
      "\u001b[1;31mUnboundLocalError\u001b[0m: local variable 'L_prev' referenced before assignment"
     ]
    }
   ],
   "source": [
    "# Call the function\n",
    "H, K = calculate_expected_value(eta, w, rho, iota, sigma_epsilon, R, T, initial_K, increment_K)\n",
    "print(f\"The expected value of the salon is {H} for K = {K}\")\n"
   ]
  },
  {
   "attachments": {},
   "cell_type": "markdown",
   "metadata": {},
   "source": [
    "Next, we consider policies on the form:\n",
    "\n",
    "$$\n",
    "\n",
    "\\ell_{t}=\\begin{cases}\n",
    "\\ell_t^{\\ast}  & \\text{if }\\left|\\ell_{t-1}-\\ell_t^{\\ast} \\right|>\\Delta\\\\\n",
    "\\ell_{t-1} & \\text{else }\n",
    "\\end{cases}\n",
    "\\\\\n",
    "\\text{where}\\,\\,\\ell_t^{\\ast} = \\left(\\frac{(1-\\eta)\\kappa_{t}}{w}\\right)^{\\frac{1}{\\eta}} \\\\\n",
    "\n",
    "$$\n",
    "With $\\Delta \\geq 0$ and $\\Delta = 0$ being the previous policy.\n"
   ]
  },
  {
   "attachments": {},
   "cell_type": "markdown",
   "metadata": {},
   "source": [
    "\n",
    "**Question 3:** Calculate $H$ if the policy above was followed with $\\Delta = 0.05$. Does it improve profitability?"
   ]
  },
  {
   "cell_type": "code",
   "execution_count": 153,
   "metadata": {},
   "outputs": [
    {
     "name": "stdout",
     "output_type": "stream",
     "text": [
      "The optimal Delta is [0.10000015]\n"
     ]
    }
   ],
   "source": [
    "# print the optimal Delta\n",
    "print(f\"The optimal Delta is {optimal_Delta}\")\n",
    "\n"
   ]
  },
  {
   "attachments": {},
   "cell_type": "markdown",
   "metadata": {},
   "source": [
    "\n",
    "**Question 5:** Suggest an alternative policy you believe might improve profitability. Implement and test your policy.\n",
    "\n"
   ]
  },
  {
   "cell_type": "code",
   "execution_count": 169,
   "metadata": {},
   "outputs": [],
   "source": [
    "# Define the parameters\n",
    "eta = 0.5\n",
    "w = 1.0\n",
    "rho = 0.90\n",
    "iota = 0.01\n",
    "sigma_epsilon = 0.10\n",
    "R = (1+0.01)**(1/12)\n",
    "T = 120\n",
    "initial_K = 1000\n",
    "increment_K = 100\n",
    "atol = 0.01\n",
    "Delta = 0.05\n",
    "\n",
    "# set the seed\n",
    "np.random.seed(2023)\n",
    "\n",
    "# define the new policy where l depends on if kappa in the current period is larger than kappa in the previous period\n",
    "def policy(kappa, l_prev, kappa_prev):\n",
    "    l_opt = ((1-eta)*kappa/w)**(1/eta)\n",
    "    return np.where(kappa > kappa_prev, l_opt, l_prev)\n",
    "\n",
    "# Define the profit function\n",
    "def profit(l, l_prev, kappa):\n",
    "    return kappa * l**(1-eta) - w * l - (l != l_prev) * iota\n",
    "\n",
    "# Define the function to calculate the expected value of the salon\n",
    "def calculate_expected_value_own_policy(eta, w, rho, iota, sigma_epsilon, R, T, initial_K, increment_K, atol, Delta):\n",
    "    # Initialize K and H\n",
    "    K = initial_K\n",
    "    H = 0\n",
    "\n",
    "    while True:\n",
    "        # Initialize the sum of profits\n",
    "        sum_profits = 0\n",
    "\n",
    "        # Generate K random shock series\n",
    "        for _ in range(K):\n",
    "            # Initialize kappa and l\n",
    "            kappa = np.ones(T)\n",
    "            l_prev = 0.0\n",
    "            kappa_prev = 1.0\n",
    "\n",
    "            # Generate a random shock series\n",
    "            epsilon = np.random.normal(-0.5*sigma_epsilon**2, sigma_epsilon, T)\n",
    "\n",
    "            # Update kappa\n",
    "            kappa = np.exp(rho * np.log(kappa) + epsilon)\n",
    "\n",
    "            # Calculate l\n",
    "            l = policy(kappa, l_prev, kappa_prev)\n",
    "\n",
    "            # Add the discounted profit to the sum of profits\n",
    "            sum_profits += np.sum(R**(-np.arange(T)) * profit(l, l_prev, kappa))\n",
    "\n",
    "            # Update l_prev and kappa_prev\n",
    "            l_prev = l[-1]\n",
    "            kappa_prev = kappa[-1]\n",
    "\n",
    "        # Calculate the new expected value of the salon\n",
    "        H_new = sum_profits / K\n",
    "\n",
    "        # Check if the change in H is small enough\n",
    "        if np.isclose(H, H_new, rtol=1e-2):\n",
    "            break\n",
    "\n",
    "        # Update H and increase K\n",
    "        H = H_new\n",
    "        K += increment_K\n",
    "\n",
    "    return H, K\n",
    "\n"
   ]
  },
  {
   "cell_type": "code",
   "execution_count": 170,
   "metadata": {},
   "outputs": [
    {
     "name": "stdout",
     "output_type": "stream",
     "text": [
      "The expected value of the salon is 15.669460243784588 for K = 1100\n"
     ]
    }
   ],
   "source": [
    "# call the function\n",
    "H, K = calculate_expected_value_own_policy(eta, w, rho, iota, sigma_epsilon, R, T, initial_K, increment_K, atol, Delta)\n",
    "print(f\"The expected value of the salon is {H} for K = {K}\")\n"
   ]
  },
  {
   "attachments": {},
   "cell_type": "markdown",
   "metadata": {},
   "source": [
    "## Tried to make a general model with the different policies"
   ]
  },
  {
   "cell_type": "code",
   "execution_count": null,
   "metadata": {},
   "outputs": [],
   "source": [
    "\n",
    "H, K = calculate_expected_value('policy1', eta, w, rho, iota, sigma_epsilon, R, T, initial_K, increment_K, Delta)\n",
    "print(f\"The expected value of the salon is {H} for K = {K}\")\n",
    "\n",
    "H, K = calculate_expected_value('policy2', eta, w, rho, iota, sigma_epsilon, R, T, initial_K, increment_K, Delta)\n",
    "print(f\"The expected value of the salon is {H} for K = {K}\")\n",
    "\n",
    "H, K = calculate_expected_value('policy3', eta, w, rho, iota, sigma_epsilon, R, T, initial_K, increment_K, Delta)\n",
    "print(f\"The expected value of the salon is {H} for K = {K}\")\n"
   ]
  },
  {
   "attachments": {},
   "cell_type": "markdown",
   "metadata": {},
   "source": [
    "## 3. <a id='toc3_'></a>[Problem 3: Global optimizer with refined multi-start](#toc0_)"
   ]
  },
  {
   "attachments": {},
   "cell_type": "markdown",
   "metadata": {},
   "source": [
    "We consider the Griewank function:\n",
    "\n",
    "$$ f(\\boldsymbol{x}) = \\sum^n_{i=1} \\frac{x^2_i}{4000}-\\prod^n_{i=1}\\cos\\left(\\frac{x_i}{\\sqrt{i}}\\right)+1$$\n",
    "\n",
    "The **global minimum** of this function is $f(0,0) = 0$ (remember: $\\cos(0)=1$).<br>\n",
    "But the function also have a lot of **local minima**."
   ]
  },
  {
   "cell_type": "code",
   "execution_count": null,
   "metadata": {},
   "outputs": [],
   "source": [
    "def griewank(x):\n",
    "    return griewank_(x[0],x[1])\n",
    "    \n",
    "def griewank_(x1,x2):\n",
    "    A = x1**2/4000 + x2**2/4000\n",
    "    B = np.cos(x1/np.sqrt(1))*np.cos(x2/np.sqrt(2))\n",
    "    return A-B+1"
   ]
  },
  {
   "attachments": {},
   "cell_type": "markdown",
   "metadata": {},
   "source": [
    "A **refined global optimizer with multi-start** is:\n",
    "\n",
    "1. Choose *bounds* for $\\mathbf{x}$ and *tolerance* $\\tau > 0$.\n",
    "2. Choose number of *warm-up iterations*, $\\underline{K} > 0$ and *maximum number of iterations*, $K > \\underline{K}$.\n",
    "3. In each iteration for $k \\in \\{0,1,\\dots,K-1\\}$:\n",
    "\n",
    "    A. Draw random $\\mathbf{x}^k$ uniformly within chosen bounds.\n",
    "\n",
    "    B. If $k < \\underline{K}$ go to step E.\n",
    "\n",
    "    C. Calculate $\\chi^k = 0.50\\cdot\\frac{2}{1+\\exp((k-\\underline{K})/100)}$  \n",
    "\n",
    "    D. Set $\\mathbf{x}^{k0} = \\chi^k \\mathbf{x}^k + (1-\\chi^k)\\mathbf{x}^{\\ast} $\n",
    "\n",
    "    E. Run optimizer with $\\mathbf{x}^{k0}$ as initial guess and $\\mathbf{x}^{k\\ast}$ as result.\n",
    "\n",
    "    F. Set $\\mathbf{x}^{\\ast} = \\mathbf{x}^{k\\ast}$ if $k = 0$ or $f(\\mathbf{x}^{k\\ast}) < f(\\mathbf{x}^{\\ast})$\n",
    "\n",
    "    G. If $f(\\mathbf{x}^{\\ast}) < \\tau$ go to step 4.\n",
    "\n",
    "4. Return the result $\\mathbf{x}^{\\ast}$."
   ]
  },
  {
   "attachments": {},
   "cell_type": "markdown",
   "metadata": {},
   "source": [
    "As settings we choose:\n",
    "\n",
    "* $x_1,x_2 \\in  [-600,600]$\n",
    "* $\\tau = 10^{-8}$\n",
    "* $\\underline{K}=10$\n",
    "* $K=1000$\n",
    "\n",
    "The optimizer in Step 3.E is `BFGS` with a tolerance of $\\tau$."
   ]
  },
  {
   "attachments": {},
   "cell_type": "markdown",
   "metadata": {},
   "source": [
    "**Question 1:** Implement the refined global optimizer with multi-start. Illustrate how the effective initial guesses $\\mathbf{x}^{k0}$ vary with the iteration counter $k$."
   ]
  },
  {
   "cell_type": "code",
   "execution_count": null,
   "metadata": {},
   "outputs": [],
   "source": [
    "# write your code here"
   ]
  },
  {
   "attachments": {},
   "cell_type": "markdown",
   "metadata": {},
   "source": [
    "**Question 2:** Is it a better idea to set $\\underline{K} = 100$? Is the convergence faster?"
   ]
  },
  {
   "cell_type": "code",
   "execution_count": null,
   "metadata": {},
   "outputs": [],
   "source": [
    "# write your code here"
   ]
  },
  {
   "cell_type": "code",
   "execution_count": null,
   "metadata": {},
   "outputs": [],
   "source": [
    "def policy_dynamic_threshold(eta, iota, rho, sigma, K, R, T, w, kappa, Delta=0):\n",
    "    \"\"\"\n",
    "    Calculates the optimal policy for a given kappa.\n",
    "\n",
    "    arguments:\n",
    "        Delta (float): the base maximum difference between the optimal number of hairdressers in two consecutive periods\n",
    "\n",
    "    returns:\n",
    "        l (float): optimal amount of hairdressers\n",
    "    \"\"\"\n",
    "\n",
    "    # a. call parmeter values\n",
    "\n",
    "    labour = np.zeros((K,T+1))\n",
    "    delta_vec = np.ones((K,T+1))*Delta\n",
    "    delta_vec = np.multiply(delta_vec, kappa)\n",
    "    for t in range(1, T+1):\n",
    "        labour[:,t] = ((eta*kappa[:,t])/w)**(1/(1-eta)) \n",
    "\n",
    "\n",
    "    if Delta != 0:\n",
    "        for t in range(1, T+1):\n",
    "            for k in range(0,K):\n",
    "                # Calculate the dynamic threshold based on the current demand shock\n",
    "                dynamic_threshold = Delta * kappa[k,t]\n",
    "                if np.abs(labour[k,t-1] - labour[k,t]) <= dynamic_threshold[k,t]:\n",
    "                    labour[k,t] = labour[k,t-1]\n",
    "\n",
    "    return labour\n"
   ]
  },
  {
   "cell_type": "code",
   "execution_count": null,
   "metadata": {},
   "outputs": [],
   "source": [
    "# we calculate the labour given the policy and shocks for each period\n",
    "labour = policy_dynamic_threshold(**LabourModel.par.__dict__, kappa=kappa, Delta=0.05)\n",
    "\n",
    "# we calculate the expected value of the salon\n",
    "ep.ex_ante(**LabourModel.par.__dict__, labour=labour, kappa=kappa, do_print=True)\n"
   ]
  }
 ],
 "metadata": {
  "kernelspec": {
   "display_name": "base",
   "language": "python",
   "name": "python3"
  },
  "language_info": {
   "codemirror_mode": {
    "name": "ipython",
    "version": 3
   },
   "file_extension": ".py",
   "mimetype": "text/x-python",
   "name": "python",
   "nbconvert_exporter": "python",
   "pygments_lexer": "ipython3",
   "version": "3.9.7"
  },
  "orig_nbformat": 4
 },
 "nbformat": 4,
 "nbformat_minor": 2
}
