{
 "cells": [
  {
   "attachments": {},
   "cell_type": "markdown",
   "metadata": {},
   "source": [
    "**Table of contents**<a id='toc0_'></a>    \n",
    "- 1. [Problem 1: Optimal taxation with government consumption](#toc1_)    \n",
    "- 2. [Problem 2: Labor adjustment costs](#toc2_)    \n",
    "- 3. [Problem 3: Global optimizer with refined multi-start](#toc3_)    \n",
    "\n",
    "<!-- vscode-jupyter-toc-config\n",
    "\tnumbering=true\n",
    "\tanchor=true\n",
    "\tflat=false\n",
    "\tminLevel=2\n",
    "\tmaxLevel=6\n",
    "\t/vscode-jupyter-toc-config -->\n",
    "<!-- THIS CELL WILL BE REPLACED ON TOC UPDATE. DO NOT WRITE YOUR TEXT IN THIS CELL -->"
   ]
  },
  {
   "cell_type": "code",
   "execution_count": 1,
   "metadata": {},
   "outputs": [],
   "source": [
    "# write your code here"
   ]
  },
  {
   "attachments": {},
   "cell_type": "markdown",
   "metadata": {},
   "source": [
    "## 1. <a id='toc1_'></a>[Problem 1: Optimal taxation with government consumption](#toc0_)"
   ]
  },
  {
   "attachments": {},
   "cell_type": "markdown",
   "metadata": {},
   "source": [
    "\n",
    "Consider a worker choosing hours of labor, $L\\in[0,24]$, to maximize utility: \n",
    "\n",
    "$$\n",
    "\\begin{align*}\n",
    "V(w,\\tau,G)&=\\max_{L\\in[0,24]}\\ln\\left(C^{\\alpha}G^{1-\\alpha}\\right)-\\nu\\frac{L^{2}}{2}\\\\&\\text{s.t.}\\\\&C=\\kappa+(1-\\tau)wL\n",
    "\\end{align*}\n",
    "$$\n",
    "\n",
    "where \n",
    "\n",
    "* $C$ is *private* consumption with weight $\\alpha\\in(0,1)$.\n",
    "* $\\kappa > 0$ is the *free private* consumption component.\n",
    "* $C = (1-\\tau)wL$ is the *costly private* consumption component.\n",
    "* $w > 0 $ is the real wage.\n",
    "* $\\tau \\in (0,1)$ is the labor-income tax rate.\n",
    "* $G > 0 $ is *government* consumption with weight $1-\\alpha$.\n",
    "* $\\nu > 0$ is the disutility of labor scaling factor"
   ]
  },
  {
   "attachments": {},
   "cell_type": "markdown",
   "metadata": {},
   "source": [
    "\n",
    "The baseline parameters are:\n",
    "\n",
    "$$\n",
    "\\begin{align*}\n",
    "\\alpha &= 0.5\\\\\n",
    "\\kappa &= 1.0\\\\\n",
    "\\nu &= \\frac{1}{2\\cdot16^2} \\\\\n",
    "w &= 1.0 \\\\ \n",
    "\\tau &= 0.30 \\\\\n",
    "\\end{align*}\n",
    "$$"
   ]
  },
  {
   "attachments": {},
   "cell_type": "markdown",
   "metadata": {},
   "source": [
    "**Question 1:** Verify that the optimal labor supply choice is $L^{\\star}(\\tilde{w}) =\\frac{-\\kappa+\\sqrt{\\kappa^{2}+4\\frac{\\alpha}{\\nu}\\tilde{w}^2}}{2\\tilde{w}}$, where $\\tilde{w} = (1-\\tau)w$, for $G\\in\\left\\{1.0 , 2.0\\right\\}$."
   ]
  },
  {
   "cell_type": "code",
   "execution_count": 2,
   "metadata": {},
   "outputs": [],
   "source": [
    "# write your code here"
   ]
  },
  {
   "attachments": {},
   "cell_type": "markdown",
   "metadata": {},
   "source": [
    "**Question 2:** Illustrate how $L^{\\star}(\\tilde{w})$ depends on $w$."
   ]
  },
  {
   "cell_type": "code",
   "execution_count": 3,
   "metadata": {},
   "outputs": [],
   "source": [
    "# write your code here"
   ]
  },
  {
   "attachments": {},
   "cell_type": "markdown",
   "metadata": {},
   "source": [
    "\n",
    "We now consider a government, who chooses $\\tau$ and spend all of the taxes on government consumption so:\n",
    "\n",
    "$$\n",
    "G = \\tau w L^{\\star}((1-\\tau)w)\n",
    "$$\n",
    "\n",
    "**Question 3:** Plot the implied $L$, $G$ and worker utility for a grid of $\\tau$-values.\n"
   ]
  },
  {
   "cell_type": "code",
   "execution_count": 4,
   "metadata": {},
   "outputs": [],
   "source": [
    "# write your code here"
   ]
  },
  {
   "attachments": {},
   "cell_type": "markdown",
   "metadata": {},
   "source": [
    "**Question 4:** Find the socially optimal tax rate $\\tau^{\\star}\\in(0,1)$ maximizing worker utility. Illustrate your result."
   ]
  },
  {
   "cell_type": "code",
   "execution_count": 5,
   "metadata": {},
   "outputs": [],
   "source": [
    "# write your code here"
   ]
  },
  {
   "attachments": {},
   "cell_type": "markdown",
   "metadata": {},
   "source": [
    "A more general preference formulation for the worker is:\n",
    "\n",
    "$$\n",
    "\\begin{align*}\n",
    "\\mathcal{V}(w,\\tau,G)&=\\max_{L\\in[0,24]}\\frac{\\left[ \\left( \\alpha C^{\\frac{\\sigma-1}{\\sigma}}+(1-\\alpha) G^{\\frac{\\sigma-1}{\\sigma}} \\right)^{\\frac{\\sigma}{1-\\sigma} }\\right]^{1-\\rho}-1}{1-\\rho}- \\nu\\frac{L^{1+\\varepsilon}}{1+\\varepsilon},\\,\\,\\,\\varepsilon,\\rho,\\sigma>0,\\,\\,\\,\\rho,\\sigma\\neq1\\\\&\\text{s.t.}\\\\&C=\\kappa+(1-\\tau)wL\n",
    "\\end{align*}    \n",
    "$$\n",
    "\n",
    "Optimal labor supply is now $L^{\\star}(\\tilde{w},G)$."
   ]
  },
  {
   "attachments": {},
   "cell_type": "markdown",
   "metadata": {},
   "source": [
    "Questions 5 and 6 must be answered with the general formulation, and for 2 different set of parameters:\n",
    "\n",
    "- Set 1:  $\\sigma = 1.001$, $\\rho = 1.001$ and $\\varepsilon = 1.0$.\n",
    "- Set 2:  $\\sigma = 1.5$, $\\rho = 1.5$ and $\\varepsilon = 1.0 $."
   ]
  },
  {
   "attachments": {},
   "cell_type": "markdown",
   "metadata": {},
   "source": [
    "**Question 5:** Find the $G$ that solves $G = \\tau w L^{\\star}((1-\\tau)w,G)$ using the $\\tau$ found in question 4.\n",
    "\n",
    "*Hint: First write code that solves the worker problem for given values of $G$ and $\\tau$. Then find the correct G based on this.*"
   ]
  },
  {
   "cell_type": "code",
   "execution_count": 6,
   "metadata": {},
   "outputs": [],
   "source": [
    "# write your code here"
   ]
  },
  {
   "attachments": {},
   "cell_type": "markdown",
   "metadata": {},
   "source": [
    "**Question 6:** Find the socially optimal tax rate, $\\tau^{\\star}$, maximizing worker utility, while keeping $G = \\tau w L^{\\star}((1-\\tau)w,G)$."
   ]
  },
  {
   "cell_type": "code",
   "execution_count": 7,
   "metadata": {},
   "outputs": [],
   "source": [
    "# write your code here  "
   ]
  },
  {
   "attachments": {},
   "cell_type": "markdown",
   "metadata": {},
   "source": [
    "## 2. <a id='toc2_'></a>[Problem 2: Labor adjustment costs](#toc0_)"
   ]
  },
  {
   "attachments": {},
   "cell_type": "markdown",
   "metadata": {},
   "source": [
    "You own a hair salon. You employ hairdressers, $\\ell_t$, to produce haircuts, $y_t = \\ell_t$.\n",
    "\n",
    "The wage for each haridresser is $w$.\n",
    "\n",
    "The demand for haircuts implies that the price of haircuts you can charge is $p_t = \\kappa_t y_t^{-\\eta}$, where $\\kappa_t$ is a demand-shock and $\\eta \\in (0,1)$ measures the elasticity of demand.\n",
    "\n",
    "Profits are:\n",
    "\n",
    "$$\n",
    "\\Pi_t = p_t y_t - w \\ell_t = \\kappa_t \\ell_t^{1-\\eta} - w \\ell_t\n",
    "$$"
   ]
  },
  {
   "attachments": {},
   "cell_type": "markdown",
   "metadata": {},
   "source": [
    "Baseline parameters are:\n",
    "- $\\eta = 0.5$\n",
    "- $w = 1.0$"
   ]
  },
  {
   "attachments": {},
   "cell_type": "markdown",
   "metadata": {},
   "source": [
    "**Question 1:** Verify numerically that $\\ell_{t}=\\left(\\frac{(1-\\eta)\\kappa_{t}}{w}\\right)^{\\frac{1}{\\eta}}$ maximises profits, for $\\kappa\\in\\left\\{1.0 , 2.0\\right\\}$."
   ]
  },
  {
   "cell_type": "code",
   "execution_count": 30,
   "metadata": {},
   "outputs": [],
   "source": [
    "import numpy as np\n",
    "from scipy.optimize import minimize\n",
    "\n",
    "def calculate_optimal_l(kappas):\n",
    "\n",
    "    # Define the parameters\n",
    "    eta = 0.5\n",
    "    w = 1.0\n",
    "\n",
    "    # Define the profit function\n",
    "    def profit(l, kappa):\n",
    "        return -(kappa * l**(1-eta) - w * l)  # We negate the function because scipy.optimize.minimize finds the minimum\n",
    "\n",
    "    # Define the given solution\n",
    "    def optimal_l(kappa):\n",
    "        return ((1-eta)*kappa/w)**(1/eta)\n",
    "\n",
    "    # For each kappa, find the l that maximizes the profit function and compare it with the given solution\n",
    "    for kappa in kappas:\n",
    "        # Find the l that maximizes the profit function using nelder mead\n",
    "        res = minimize(profit, 0.5, args=(kappa), method='nelder-mead', options={'xtol': 1e-8, 'disp': False})\n",
    "        l_opt = res.x[0]\n",
    "        \n",
    "        # Calculate the given solution\n",
    "        l_given = optimal_l(kappa)\n",
    "        \n",
    "        # Compare the two solutions\n",
    "        print(f\"For kappa = {kappa}, the optimal l found numerically is {l_opt} and the given solution is {l_given}\")\n"
   ]
  },
  {
   "cell_type": "code",
   "execution_count": 31,
   "metadata": {},
   "outputs": [
    {
     "name": "stdout",
     "output_type": "stream",
     "text": [
      "For kappa = 1.0, the optimal l found numerically is 0.24999999999999978 and the given solution is 0.25\n",
      "For kappa = 2.0, the optimal l found numerically is 1.0000000238418592 and the given solution is 1.0\n"
     ]
    }
   ],
   "source": [
    "# Call function\n",
    "kappas = [1.0, 2.0]\n",
    "calculate_optimal_l(kappas)"
   ]
  },
  {
   "attachments": {},
   "cell_type": "markdown",
   "metadata": {},
   "source": [
    "We now consider a *dynamic* version of the model.\n",
    "\n",
    "* The demand-shock is a so-called AR(1) in logs, \n",
    "\n",
    "$$\n",
    "\\log \\kappa_{t} = \\rho \\log \\kappa_{t-1} + \\epsilon_{t},\\,\\,\\, \\epsilon_{t+1} \\sim \\mathcal{N}(-0.5\\sigma_{\\epsilon}^2,\\sigma_{\\epsilon})\n",
    "$$\n",
    "\n",
    "* Any hiring or firing implies a fixed adjustment cost, $\\iota > 0 $.\n",
    "* Future profits are discounted with a monthly factor of $R \\in (0,1)$.\n",
    "\n",
    "The initial demand shock is $\\kappa_{-1} = 1$ and the planning horizon is 10 years, i.e. 120 months so $t \\in \\{0,1,2,\\dots,119\\}$. Initially you don't have any employees, $\\ell_{-1}=0$"
   ]
  },
  {
   "attachments": {},
   "cell_type": "markdown",
   "metadata": {},
   "source": [
    "\n",
    "The *ex post* value of the salon is *conditional* on the shock series is:\n",
    "\n",
    "$$\n",
    "h(\\epsilon_0,\\epsilon_1,\\dots,\\epsilon_{119}) = \\left[\\sum_{t=0}^{119}R^{-t}\\left[\\kappa_{t}\\ell_{t}^{1-\\eta}-w\\ell_{t}-\\boldsymbol{1}_{\\ell_{t}\\neq\\ell_{t-1}}\\iota\\right]\\right]\n",
    "$$\n",
    "\n",
    "The *ex ante* expected value of the salon can be approximated by\n",
    "\n",
    "$$\n",
    "H = \\mathbb{E}[h(\\epsilon_0,\\epsilon_1,\\dots,\\epsilon_{119})] \\approx \\frac{1}{K}\\sum_{k=0}^{K} h(\\epsilon_0^k,\\epsilon_1^k,\\dots,\\epsilon_{119}^k)\n",
    "$$\n",
    "\n",
    "where each $k\\in\\{0,1,\\dots,K-1\\}$ is a random shock series. Maximizing profitability means maximizing $H$.\n"
   ]
  },
  {
   "attachments": {},
   "cell_type": "markdown",
   "metadata": {},
   "source": [
    "Baseline parameters are: \n",
    "\n",
    "- $\\rho = 0.90$\n",
    "- $\\iota = 0.01$\n",
    "- $\\sigma_{\\epsilon} = 0.10$\n",
    "- $R = \\left(1+0.01\\right)^{1/12}$"
   ]
  },
  {
   "attachments": {},
   "cell_type": "markdown",
   "metadata": {},
   "source": [
    "**Question 2:** Calculate $H$ if the policy  $\\ell_{t}=\\left(\\frac{(1-\\eta)\\kappa_{t}}{w}\\right)^{\\frac{1}{\\eta}}$ from question 1 is followed. Choose $K$ so the approximation is good enough to not affect your results substantially."
   ]
  },
  {
   "cell_type": "code",
   "execution_count": 10,
   "metadata": {},
   "outputs": [],
   "source": [
    "def calculate_expected_value(eta, w, rho, iota, sigma_epsilon, R, T, initial_K, increment_K):\n",
    "\n",
    "    # set the seed\n",
    "    np.random.seed(2023)\n",
    "\n",
    "    # Define the policy\n",
    "    def policy(kappa):\n",
    "        return ((1-eta)*kappa/w)**(1/eta)\n",
    "\n",
    "    # Define the profit function\n",
    "    def profit(l, l_prev, kappa):\n",
    "        return kappa * l**(1-eta) - w * l - (l != l_prev) * iota\n",
    "\n",
    "    # Initialize K and H\n",
    "    K = initial_K\n",
    "    H = 0\n",
    "\n",
    "    while True:\n",
    "        # Initialize the sum of profits\n",
    "        sum_profits = 0\n",
    "\n",
    "        # Generate K random shock series\n",
    "        for _ in range(K):\n",
    "            # Initialize kappa and l\n",
    "            kappa = np.ones(T)\n",
    "            l_prev = 0.0\n",
    "\n",
    "            # Generate a random shock series\n",
    "            epsilon = np.random.normal(-0.5*sigma_epsilon**2, sigma_epsilon, T)\n",
    "\n",
    "            # Update kappa\n",
    "            kappa = np.exp(rho * np.log(kappa) + epsilon)\n",
    "\n",
    "            # Calculate l\n",
    "            l = policy(kappa)\n",
    "\n",
    "            # Add the discounted profit to the sum of profits\n",
    "            sum_profits += np.sum(R**(-np.arange(T)) * profit(l, l_prev, kappa))\n",
    "\n",
    "            # Update l_prev\n",
    "            l_prev = l[-1]\n",
    "\n",
    "        # Calculate the new expected value of the salon\n",
    "        H_new = sum_profits / K\n",
    "\n",
    "        # Check if the change in H is small enough\n",
    "        if np.isclose(H, H_new, rtol=1e-2):\n",
    "            break\n",
    "\n",
    "        # Update H and increase K\n",
    "        H = H_new\n",
    "        K += increment_K\n",
    "\n",
    "    return H, K\n",
    "\n",
    "# Define the parameters\n",
    "eta = 0.5\n",
    "w = 1.0\n",
    "rho = 0.90\n",
    "iota = 0.01\n",
    "sigma_epsilon = 0.10\n",
    "R = (1+0.01)**(1/12)\n",
    "T = 120  # Number of months\n",
    "initial_K = 1000\n",
    "increment_K = 100\n"
   ]
  },
  {
   "cell_type": "code",
   "execution_count": 11,
   "metadata": {},
   "outputs": [
    {
     "name": "stdout",
     "output_type": "stream",
     "text": [
      "The expected value of the salon is 27.734226994360696 for K = 1100\n"
     ]
    }
   ],
   "source": [
    "# Call the function\n",
    "H, K = calculate_expected_value(eta, w, rho, iota, sigma_epsilon, R, T, initial_K, increment_K)\n",
    "print(f\"The expected value of the salon is {H} for K = {K}\")"
   ]
  },
  {
   "attachments": {},
   "cell_type": "markdown",
   "metadata": {},
   "source": [
    "Next, we consider policies on the form:\n",
    "\n",
    "$$\n",
    "\n",
    "\\ell_{t}=\\begin{cases}\n",
    "\\ell_t^{\\ast}  & \\text{if }\\left|\\ell_{t-1}-\\ell_t^{\\ast} \\right|>\\Delta\\\\\n",
    "\\ell_{t-1} & \\text{else }\n",
    "\\end{cases}\n",
    "\\\\\n",
    "\\text{where}\\,\\,\\ell_t^{\\ast} = \\left(\\frac{(1-\\eta)\\kappa_{t}}{w}\\right)^{\\frac{1}{\\eta}} \\\\\n",
    "\n",
    "$$\n",
    "With $\\Delta \\geq 0$ and $\\Delta = 0$ being the previous policy.\n"
   ]
  },
  {
   "attachments": {},
   "cell_type": "markdown",
   "metadata": {},
   "source": [
    "\n",
    "**Question 3:** Calculate $H$ if the policy above was followed with $\\Delta = 0.05$. Does it improve profitability?"
   ]
  },
  {
   "cell_type": "code",
   "execution_count": 16,
   "metadata": {},
   "outputs": [],
   "source": [
    "# set the seed\n",
    "np.random.seed(2023)\n",
    "\n",
    "def calculate_expected_value_fixed_delta(eta, w, rho, iota, sigma_epsilon, R, T, initial_K, increment_K, Delta):\n",
    "    # Define the policy\n",
    "    def policy(kappa, l_prev):\n",
    "        l_opt = ((1-eta)*kappa/w)**(1/eta)\n",
    "        return np.where(np.abs(l_prev - l_opt) > Delta, l_opt, l_prev)\n",
    "\n",
    "    # Define the profit function\n",
    "    def profit(l, l_prev, kappa):\n",
    "        return kappa * l**(1-eta) - w * l - (l != l_prev) * iota\n",
    "\n",
    "    # Initialize K and H\n",
    "    K = initial_K\n",
    "    H = 0\n",
    "\n",
    "    while True:\n",
    "        # Initialize the sum of profits\n",
    "        sum_profits = 0\n",
    "\n",
    "        # Generate K random shock series\n",
    "        for _ in range(K):\n",
    "            # Initialize kappa and l\n",
    "            kappa = np.ones(T)\n",
    "            l_prev = 0.0\n",
    "\n",
    "            # Generate a random shock series\n",
    "            epsilon = np.random.normal(-0.5*sigma_epsilon**2, sigma_epsilon, T)\n",
    "\n",
    "            # Update kappa\n",
    "            kappa = np.exp(rho * np.log(kappa) + epsilon)\n",
    "\n",
    "            # Calculate l\n",
    "            l = policy(kappa, l_prev)\n",
    "\n",
    "            # Add the discounted profit to the sum of profits\n",
    "            sum_profits += np.sum(R**(-np.arange(T)) * profit(l, l_prev, kappa))\n",
    "\n",
    "            # Update l_prev\n",
    "            l_prev = l[-1]\n",
    "\n",
    "        # Calculate the new expected value of the salon\n",
    "        H_new = sum_profits / K\n",
    "\n",
    "        # Check if the change in H is small enough\n",
    "        if np.isclose(H, H_new, rtol=1e-2):\n",
    "            break\n",
    "\n",
    "        # Update H and increase K\n",
    "        H = H_new\n",
    "        K += increment_K\n",
    "\n",
    "    return H, K\n",
    "\n",
    "# The parameters\n",
    "eta = 0.5\n",
    "w = 1.0\n",
    "rho = 0.90\n",
    "iota = 0.01\n",
    "sigma_epsilon = 0.10\n",
    "R = (1+0.01)**(1/12)\n",
    "T = 120  # Number of months\n",
    "initial_K = 100\n",
    "increment_K = 100\n",
    "Delta = 0.05\n"
   ]
  },
  {
   "cell_type": "code",
   "execution_count": 17,
   "metadata": {},
   "outputs": [
    {
     "name": "stdout",
     "output_type": "stream",
     "text": [
      "The expected value of the salon is 27.6827083459261 for K = 200\n"
     ]
    }
   ],
   "source": [
    "H, K = calculate_expected_value_fixed_delta(eta, w, rho, iota, sigma_epsilon, R, T, initial_K, increment_K, Delta)\n",
    "print(f\"The expected value of the salon is {H} for K = {K}\")\n"
   ]
  },
  {
   "attachments": {},
   "cell_type": "markdown",
   "metadata": {},
   "source": [
    "**Question 4:** Find the optimal $\\Delta$ maximizing $H$. Illustrate your result."
   ]
  },
  {
   "cell_type": "code",
   "execution_count": 32,
   "metadata": {},
   "outputs": [
    {
     "name": "stdout",
     "output_type": "stream",
     "text": [
      "The optimal Delta is 0.10394634892745912 and the corresponding H is 27.797115775054586\n"
     ]
    },
    {
     "data": {
      "image/png": "[encoded data removed]",
      "text/plain": [
       "<Figure size 720x432 with 1 Axes>"
      ]
     },
     "metadata": {
      "needs_background": "light"
     },
     "output_type": "display_data"
    }
   ],
   "source": [
    "from scipy.optimize import minimize_scalar\n",
    "\n",
    "# set the seed\n",
    "np.random.seed(2023)\n",
    "\n",
    "# Define a wrapper function that returns the negative of H\n",
    "def neg_H(Delta):\n",
    "    H, _ = calculate_expected_value_fixed_delta(eta, w, rho, iota, sigma_epsilon, R, T, initial_K, increment_K, Delta)\n",
    "    return -H  # Return the negative of H\n",
    "\n",
    "# Use scipy's minimize_scalar function to find the Delta that minimizes neg_H\n",
    "result = minimize_scalar(neg_H, bounds=(0.01, 1), method='bounded')\n",
    "\n",
    "# Extract the optimal Delta and corresponding H value\n",
    "optimal_Delta = result.x\n",
    "optimal_H = -result.fun\n",
    "\n",
    "print(f\"The optimal Delta is {optimal_Delta} and the corresponding H is {optimal_H}\")\n",
    "\n",
    "# Generate a range of Delta values\n",
    "Delta_values = np.linspace(0.01, 1, 100)\n",
    "\n",
    "# Initialize an empty list to store the H values\n",
    "H_values = []\n",
    "\n",
    "# Calculate H for each Delta value\n",
    "for Delta in Delta_values:\n",
    "    H, _ = calculate_expected_value_fixed_delta(eta, w, rho, iota, sigma_epsilon, R, T, initial_K, increment_K, Delta)\n",
    "    H_values.append(H)\n",
    "\n",
    "# Plot H as a function of Delta\n",
    "plt.figure(figsize=(10, 6))\n",
    "plt.plot(Delta_values, H_values, label='H(Delta)')\n",
    "plt.scatter(optimal_Delta, optimal_H, color='red')  # Mark the optimal point\n",
    "plt.xlabel('$\\Delta$')\n",
    "plt.ylabel('H')\n",
    "plt.title('Optimization of H')\n",
    "plt.legend()\n",
    "plt.grid(True)\n",
    "plt.show()\n"
   ]
  },
  {
   "attachments": {},
   "cell_type": "markdown",
   "metadata": {},
   "source": [
    "\n",
    "**Question 5:** Suggest an alternative policy you believe might improve profitability. Implement and test your policy.\n",
    "\n"
   ]
  },
  {
   "cell_type": "code",
   "execution_count": null,
   "metadata": {},
   "outputs": [],
   "source": [
    "# Define the parameters\n",
    "eta = 0.5\n",
    "w = 1.0\n",
    "rho = 0.90\n",
    "iota = 0.01\n",
    "sigma_epsilon = 0.10\n",
    "R = (1+0.01)**(1/12)\n",
    "T = 120\n",
    "initial_K = 1000\n",
    "increment_K = 100\n",
    "atol = 0.01\n",
    "Delta = 0.05\n",
    "\n",
    "# set the seed\n",
    "np.random.seed(2023)\n",
    "\n",
    "def policy(kappa, l_prev, kappa_prev):\n",
    "    l = np.empty_like(kappa)\n",
    "    for t in range(len(kappa)):\n",
    "        l_opt = ((1-eta)*kappa[t]/w)**(1/eta)\n",
    "        if t == 0:  # For the first period, compare with the initial kappa_prev\n",
    "            if kappa[t] > kappa_prev:  # If demand is increasing\n",
    "                l[t] = l_opt + Delta\n",
    "            elif kappa[t] < kappa_prev:  # If demand is decreasing\n",
    "                l[t] = max(0, l_opt - Delta)  # Ensure that l doesn't go below 0\n",
    "            else:  # If demand is stable\n",
    "                l[t] = l_opt\n",
    "        else:  # For subsequent periods, compare with the previous period's kappa\n",
    "            if kappa[t] > kappa[t-1]:  # If demand is increasing\n",
    "                l[t] = l_opt + Delta\n",
    "            elif kappa[t] < kappa[t-1]:  # If demand is decreasing\n",
    "                l[t] = max(0, l_opt - Delta)  # Ensure that l doesn't go below 0\n",
    "            else:  # If demand is stable\n",
    "                l[t] = l_opt\n",
    "    return l\n",
    "\n",
    "\n",
    "# Define the profit function\n",
    "def profit(l, l_prev, kappa):\n",
    "    return kappa * l**(1-eta) - w * l - (l != l_prev) * iota\n",
    "\n",
    "# Define the function to calculate the expected value of the salon\n",
    "def calculate_expected_value_own_policy(eta, w, rho, iota, sigma_epsilon, R, T, initial_K, increment_K, atol, Delta):\n",
    "    # Initialize K and H\n",
    "    K = initial_K\n",
    "    H = 0\n",
    "\n",
    "    while True:\n",
    "        # Initialize the sum of profits\n",
    "        sum_profits = 0\n",
    "\n",
    "        # Generate K random shock series\n",
    "        for _ in range(K):\n",
    "            # Initialize kappa and l\n",
    "            kappa = np.ones(T)\n",
    "            l_prev = 0.0\n",
    "            kappa_prev = 1.0\n",
    "\n",
    "            # Generate a random shock series\n",
    "            epsilon = np.random.normal(-0.5*sigma_epsilon**2, sigma_epsilon, T)\n",
    "\n",
    "            # Update kappa\n",
    "            kappa = np.exp(rho * np.log(kappa) + epsilon)\n",
    "\n",
    "            # Calculate l\n",
    "            l = policy(kappa, l_prev, kappa_prev)\n",
    "\n",
    "            # Add the discounted profit to the sum of profits\n",
    "            sum_profits += np.sum(R**(-np.arange(T)) * profit(l, l_prev, kappa))\n",
    "\n",
    "            # Update l_prev and kappa_prev\n",
    "            l_prev = l[-1]\n",
    "            kappa_prev = kappa[-1]\n",
    "\n",
    "        # Calculate the new expected value of the salon\n",
    "        H_new = sum_profits / K\n",
    "\n",
    "        # Check if the change in H is small enough\n",
    "        if np.isclose(H, H_new, rtol=1e-2):\n",
    "            break\n",
    "\n",
    "        # Update H and increase K\n",
    "        H = H_new\n",
    "        K += increment_K\n",
    "\n",
    "    return H, K\n",
    "\n"
   ]
  },
  {
   "cell_type": "code",
   "execution_count": null,
   "metadata": {},
   "outputs": [],
   "source": [
    "# Call the function with the parameters\n",
    "H, K = calculate_expected_value_own_policy(eta, w, rho, iota, sigma_epsilon, R, T, initial_K, increment_K, atol, Delta)\n",
    "print(f\"The expected value of the salon is {H} for K = {K}\")"
   ]
  },
  {
   "cell_type": "code",
   "execution_count": null,
   "metadata": {},
   "outputs": [],
   "source": [
    "class Policy:\n",
    "    def __init__(self, eta, w, Delta=None):\n",
    "        self.eta = eta\n",
    "        self.w = w\n",
    "        self.Delta = Delta\n",
    "\n",
    "    def policy1(self, kappa):\n",
    "        return ((1-self.eta)*kappa/self.w)**(1/self.eta)\n",
    "\n",
    "    def policy2(self, kappa, l_prev):\n",
    "        l_opt = ((1-self.eta)*kappa/self.w)**(1/self.eta)\n",
    "        return np.where(np.abs(l_prev - l_opt) > self.Delta, l_opt, l_prev)\n",
    "\n",
    "    def policy3(self, kappa, l_prev):\n",
    "        l = np.empty_like(kappa)\n",
    "        kappa_prev = kappa[0]  # initialize kappa_prev\n",
    "        for t in range(len(kappa)):\n",
    "            l_opt = ((1-self.eta)*kappa[t]/self.w)**(1/self.eta)\n",
    "            if t == 0:\n",
    "                kappa_prev = kappa[t]\n",
    "            else:\n",
    "                if kappa[t] > kappa_prev:\n",
    "                    l[t] = l_opt + self.Delta\n",
    "                elif kappa[t] < kappa_prev:\n",
    "                    l[t] = max(0, l_opt - self.Delta)\n",
    "                else:\n",
    "                    l[t] = l_opt\n",
    "                kappa_prev = kappa[t]  # update kappa_prev for the next step\n",
    "        return l\n",
    "\n",
    "def calculate_expected_value(policy_name, eta, w, rho, iota, sigma_epsilon, R, T, initial_K, increment_K, Delta=None):\n",
    "\n",
    "    np.random.seed(2023)\n",
    "\n",
    "    def profit(l, l_prev, kappa):\n",
    "        return kappa * l**(1-eta) - w * l - (l != l_prev) * iota\n",
    "\n",
    "    K = initial_K\n",
    "    H = 0\n",
    "\n",
    "    # Create policy instance\n",
    "    policy_instance = Policy(eta=eta, w=w, Delta=Delta)\n",
    "\n",
    "    while True:\n",
    "        sum_profits = 0\n",
    "        for _ in range(K):\n",
    "            kappa = np.ones(T)\n",
    "            l_prev = 0.0\n",
    "            epsilon = np.random.normal(-0.5*sigma_epsilon**2, sigma_epsilon, T)\n",
    "            kappa = np.exp(rho * np.log(kappa) + epsilon)\n",
    "            \n",
    "            if policy_name == 'policy1':\n",
    "                l = policy_instance.policy1(kappa)\n",
    "            elif policy_name == 'policy2':\n",
    "                l = policy_instance.policy2(kappa, l_prev)\n",
    "            elif policy_name == 'policy3':\n",
    "                l = policy_instance.policy3(kappa, l_prev)\n",
    "\n",
    "            sum_profits += np.sum(R**(-np.arange(T)) * profit(l, l_prev, kappa))\n",
    "            l_prev = l[-1]\n",
    "\n",
    "        H_new = sum_profits / K\n",
    "\n",
    "        if np.isclose(H, H_new, rtol=1e-2):\n",
    "            break\n",
    "\n",
    "        H = H_new\n",
    "        K += increment_K\n",
    "\n",
    "    return H, K\n",
    "\n",
    "# Define the parameters\n",
    "eta = 0.5\n",
    "w = 1.0\n",
    "rho = 0.90\n",
    "iota = 0.01\n",
    "sigma_epsilon = 0.10\n",
    "R = (1+0.01)**(1/12)\n",
    "T = 120  # Number of months\n",
    "initial_K = 1000\n",
    "increment_K = 100\n",
    "Delta = 0.1  # Add the Delta parameter"
   ]
  },
  {
   "cell_type": "code",
   "execution_count": null,
   "metadata": {},
   "outputs": [],
   "source": [
    "\n",
    "H, K = calculate_expected_value('policy1', eta, w, rho, iota, sigma_epsilon, R, T, initial_K, increment_K, Delta)\n",
    "print(f\"The expected value of the salon is {H} for K = {K}\")\n",
    "\n",
    "H, K = calculate_expected_value('policy2', eta, w, rho, iota, sigma_epsilon, R, T, initial_K, increment_K, Delta)\n",
    "print(f\"The expected value of the salon is {H} for K = {K}\")\n",
    "\n",
    "H, K = calculate_expected_value('policy3', eta, w, rho, iota, sigma_epsilon, R, T, initial_K, increment_K, Delta)\n",
    "print(f\"The expected value of the salon is {H} for K = {K}\")\n"
   ]
  },
  {
   "attachments": {},
   "cell_type": "markdown",
   "metadata": {},
   "source": [
    "## 3. <a id='toc3_'></a>[Problem 3: Global optimizer with refined multi-start](#toc0_)"
   ]
  },
  {
   "attachments": {},
   "cell_type": "markdown",
   "metadata": {},
   "source": [
    "We consider the Griewank function:\n",
    "\n",
    "$$ f(\\boldsymbol{x}) = \\sum^n_{i=1} \\frac{x^2_i}{4000}-\\prod^n_{i=1}\\cos\\left(\\frac{x_i}{\\sqrt{i}}\\right)+1$$\n",
    "\n",
    "The **global minimum** of this function is $f(0,0) = 0$ (remember: $\\cos(0)=1$).<br>\n",
    "But the function also have a lot of **local minima**."
   ]
  },
  {
   "cell_type": "code",
   "execution_count": null,
   "metadata": {},
   "outputs": [],
   "source": [
    "def griewank(x):\n",
    "    return griewank_(x[0],x[1])\n",
    "    \n",
    "def griewank_(x1,x2):\n",
    "    A = x1**2/4000 + x2**2/4000\n",
    "    B = np.cos(x1/np.sqrt(1))*np.cos(x2/np.sqrt(2))\n",
    "    return A-B+1"
   ]
  },
  {
   "attachments": {},
   "cell_type": "markdown",
   "metadata": {},
   "source": [
    "A **refined global optimizer with multi-start** is:\n",
    "\n",
    "1. Choose *bounds* for $\\mathbf{x}$ and *tolerance* $\\tau > 0$.\n",
    "2. Choose number of *warm-up iterations*, $\\underline{K} > 0$ and *maximum number of iterations*, $K > \\underline{K}$.\n",
    "3. In each iteration for $k \\in \\{0,1,\\dots,K-1\\}$:\n",
    "\n",
    "    A. Draw random $\\mathbf{x}^k$ uniformly within chosen bounds.\n",
    "\n",
    "    B. If $k < \\underline{K}$ go to step E.\n",
    "\n",
    "    C. Calculate $\\chi^k = 0.50\\cdot\\frac{2}{1+\\exp((k-\\underline{K})/100)}$  \n",
    "\n",
    "    D. Set $\\mathbf{x}^{k0} = \\chi^k \\mathbf{x}^k + (1-\\chi^k)\\mathbf{x}^{\\ast} $\n",
    "\n",
    "    E. Run optimizer with $\\mathbf{x}^{k0}$ as initial guess and $\\mathbf{x}^{k\\ast}$ as result.\n",
    "\n",
    "    F. Set $\\mathbf{x}^{\\ast} = \\mathbf{x}^{k\\ast}$ if $k = 0$ or $f(\\mathbf{x}^{k\\ast}) < f(\\mathbf{x}^{\\ast})$\n",
    "\n",
    "    G. If $f(\\mathbf{x}^{\\ast}) < \\tau$ go to step 4.\n",
    "\n",
    "4. Return the result $\\mathbf{x}^{\\ast}$."
   ]
  },
  {
   "attachments": {},
   "cell_type": "markdown",
   "metadata": {},
   "source": [
    "As settings we choose:\n",
    "\n",
    "* $x_1,x_2 \\in  [-600,600]$\n",
    "* $\\tau = 10^{-8}$\n",
    "* $\\underline{K}=10$\n",
    "* $K=1000$\n",
    "\n",
    "The optimizer in Step 3.E is `BFGS` with a tolerance of $\\tau$."
   ]
  },
  {
   "attachments": {},
   "cell_type": "markdown",
   "metadata": {},
   "source": [
    "**Question 1:** Implement the refined global optimizer with multi-start. Illustrate how the effective initial guesses $\\mathbf{x}^{k0}$ vary with the iteration counter $k$."
   ]
  },
  {
   "cell_type": "code",
   "execution_count": null,
   "metadata": {},
   "outputs": [],
   "source": [
    "# write your code here"
   ]
  },
  {
   "attachments": {},
   "cell_type": "markdown",
   "metadata": {},
   "source": [
    "**Question 2:** Is it a better idea to set $\\underline{K} = 100$? Is the convergence faster?"
   ]
  },
  {
   "cell_type": "code",
   "execution_count": null,
   "metadata": {},
   "outputs": [],
   "source": [
    "# write your code here"
   ]
  }
 ],
 "metadata": {
  "kernelspec": {
   "display_name": "base",
   "language": "python",
   "name": "python3"
  },
  "language_info": {
   "codemirror_mode": {
    "name": "ipython",
    "version": 3
   },
   "file_extension": ".py",
   "mimetype": "text/x-python",
   "name": "python",
   "nbconvert_exporter": "python",
   "pygments_lexer": "ipython3",
   "version": "3.9.7"
  },
  "orig_nbformat": 4
 },
 "nbformat": 4,
 "nbformat_minor": 2
}
