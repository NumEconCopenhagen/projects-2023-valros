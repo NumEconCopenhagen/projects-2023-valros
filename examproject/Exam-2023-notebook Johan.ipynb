{
 "cells": [
  {
   "attachments": {},
   "cell_type": "markdown",
   "metadata": {},
   "source": [
    "**Table of contents**<a id='toc0_'></a>    \n",
    "- 1. [Problem 1: Optimal taxation with government consumption](#toc1_)    \n",
    "- 2. [Problem 2: Labor adjustment costs](#toc2_)    \n",
    "- 3. [Problem 3: Global optimizer with refined multi-start](#toc3_)    \n",
    "\n",
    "<!-- vscode-jupyter-toc-config\n",
    "\tnumbering=true\n",
    "\tanchor=true\n",
    "\tflat=false\n",
    "\tminLevel=2\n",
    "\tmaxLevel=6\n",
    "\t/vscode-jupyter-toc-config -->\n",
    "<!-- THIS CELL WILL BE REPLACED ON TOC UPDATE. DO NOT WRITE YOUR TEXT IN THIS CELL -->"
   ]
  },
  {
   "cell_type": "code",
   "execution_count": 1,
   "metadata": {},
   "outputs": [],
   "source": [
    "import numpy as np\n",
    "from scipy import optimize\n",
    "import time\n",
    "import sympy as sm\n",
    "import matplotlib.pyplot as plt"
   ]
  },
  {
   "attachments": {},
   "cell_type": "markdown",
   "metadata": {},
   "source": [
    "## 1. <a id='toc1_'></a>[Problem 1: Optimal taxation with government consumption](#toc0_)"
   ]
  },
  {
   "attachments": {},
   "cell_type": "markdown",
   "metadata": {},
   "source": [
    "\n",
    "Consider a worker choosing hours of labor, $L\\in[0,24]$, to maximize utility: \n",
    "\n",
    "$$\n",
    "\\begin{align*}\n",
    "V(w,\\tau,G)&=\\max_{L\\in[0,24]}\\ln\\left(C^{\\alpha}G^{1-\\alpha}\\right)-\\nu\\frac{L^{2}}{2}\\\\&\\text{s.t.}\\\\&C=\\kappa+(1-\\tau)wL\n",
    "\\end{align*}\n",
    "$$\n",
    "\n",
    "where \n",
    "\n",
    "* $C$ is *private* consumption with weight $\\alpha\\in(0,1)$.\n",
    "* $\\kappa > 0$ is the *free private* consumption component.\n",
    "* $C = (1-\\tau)wL$ is the *costly private* consumption component.\n",
    "* $w > 0 $ is the real wage.\n",
    "* $\\tau \\in (0,1)$ is the labor-income tax rate.\n",
    "* $G > 0 $ is *government* consumption with weight $1-\\alpha$.\n",
    "* $\\nu > 0$ is the disutility of labor scaling factor"
   ]
  },
  {
   "attachments": {},
   "cell_type": "markdown",
   "metadata": {},
   "source": [
    "\n",
    "The baseline parameters are:\n",
    "\n",
    "$$\n",
    "\\begin{align*}\n",
    "\\alpha &= 0.5\\\\\n",
    "\\kappa &= 1.0\\\\\n",
    "\\nu &= \\frac{1}{2\\cdot16^2} \\\\\n",
    "w &= 1.0 \\\\ \n",
    "\\tau &= 0.30 \\\\\n",
    "\\end{align*}\n",
    "$$"
   ]
  },
  {
   "attachments": {},
   "cell_type": "markdown",
   "metadata": {},
   "source": [
    "**Question 1:** Verify that the optimal labor supply choice is $L^{\\star}(\\tilde{w}) =\\frac{-\\kappa+\\sqrt{\\kappa^{2}+4\\frac{\\alpha}{\\nu}\\tilde{w}^2}}{2\\tilde{w}}$, where $\\tilde{w} = (1-\\tau)w$, for $G\\in\\left\\{1.0 , 2.0\\right\\}$."
   ]
  },
  {
   "cell_type": "code",
   "execution_count": 2,
   "metadata": {},
   "outputs": [
    {
     "data": {
      "text/latex": [
       "$\\displaystyle L^{*} = - \\frac{\\kappa}{2 \\tilde{w}} + \\frac{\\sqrt{4 \\alpha \\tilde{w}^{2} + \\kappa^{2} \\nu}}{2 \\sqrt{\\nu} \\tilde{w}}$"
      ],
      "text/plain": [
       "Eq(L^*, -kappa/(2*wtilde) + sqrt(4*alpha*wtilde**2 + kappa**2*nu)/(2*sqrt(nu)*wtilde))"
      ]
     },
     "metadata": {},
     "output_type": "display_data"
    }
   ],
   "source": [
    "# define symbols\n",
    "alpha = sm.symbols('alpha', positive=True)\n",
    "C = sm.symbols('C')\n",
    "G = sm.symbols('G', positive=True)\n",
    "nu = sm.symbols('nu', positive=True)\n",
    "L = sm.symbols('L')\n",
    "kappa = sm.symbols('kappa', positive=True)\n",
    "tau = sm.symbols('tau', positive=True)\n",
    "w = sm.symbols('w', positive=True)\n",
    "wtilde = sm.symbols('wtilde', positive=True)\n",
    "Lstar = sm.symbols('L^*')\n",
    "\n",
    "# define utility and budget constraint\n",
    "util = sm.log(C**alpha * G**(1-alpha)) - nu * (L**2)/2\n",
    "cons = kappa + (1-tau)*w*L\n",
    "\n",
    "# insert omega_tilde in budget constraint and then into utility function\n",
    "cons = cons.subs(w*(1-tau), wtilde)\n",
    "util = util.subs(C, cons)\n",
    "\n",
    "# take the derivative of the utility function with respect to labor\n",
    "util_diff = sm.diff(util, L)\n",
    "\n",
    "# solve for the optimal labor supply\n",
    "optimal_labor = sm.solve(util_diff, L)[1] # we take the second solution since the first is negative\n",
    "\n",
    "# insert wtilde into the optimal labor supply\n",
    "optimal_labor_expanded = optimal_labor.subs(wtilde, w*(1-tau))\n",
    "\n",
    "display(sm.Eq(Lstar,optimal_labor))\n",
    "\n"
   ]
  },
  {
   "cell_type": "code",
   "execution_count": 3,
   "metadata": {},
   "outputs": [
    {
     "data": {
      "text/latex": [
       "$\\displaystyle L \\tilde{w} + \\kappa$"
      ],
      "text/plain": [
       "L*wtilde + kappa"
      ]
     },
     "execution_count": 3,
     "metadata": {},
     "output_type": "execute_result"
    }
   ],
   "source": [
    "# define symbols\n",
    "alpha = sm.symbols('alpha', positive=True)\n",
    "C = sm.symbols('C')\n",
    "G = sm.symbols('G', positive=True)\n",
    "nu = sm.symbols('nu', positive=True)\n",
    "L = sm.symbols('L')\n",
    "kappa = sm.symbols('kappa', positive=True)\n",
    "tau = sm.symbols('tau', positive=True)\n",
    "w = sm.symbols('w', positive=True)\n",
    "wtilde = sm.symbols('wtilde', positive=True)\n",
    "Lstar = sm.symbols('L^*')\n",
    "\n",
    "# define utility and budget constraint\n",
    "util = sm.log(C**alpha * G**(1-alpha)) - nu * (L**2)/2\n",
    "cons = kappa + (1-tau)*w*L\n",
    "\n",
    "cons = cons.subs(w*(1-tau), wtilde)\n",
    "\n",
    "cons"
   ]
  },
  {
   "attachments": {},
   "cell_type": "markdown",
   "metadata": {},
   "source": [
    "Though sympy simplifies the problem sligthly differently, this is equialvent to\n",
    "\n",
    "$$\n",
    "L^* = \\frac{-\\kappa + \\sqrt{\\kappa^2 + 4\\frac{\\alpha}{\\nu}\\tilde{w}^2}}{2\\tilde{w}}\n",
    "$$\n",
    "\n",
    "As should be verified."
   ]
  },
  {
   "attachments": {},
   "cell_type": "markdown",
   "metadata": {},
   "source": [
    "**Question 2:** Illustrate how $L^{\\star}(\\tilde{w})$ depends on $w$."
   ]
  },
  {
   "cell_type": "code",
   "execution_count": 4,
   "metadata": {},
   "outputs": [
    {
     "data": {
      "image/png": "[encoded data removed]",
      "text/plain": [
       "<Figure size 640x480 with 1 Axes>"
      ]
     },
     "metadata": {},
     "output_type": "display_data"
    }
   ],
   "source": [
    "# lambdify the optimal labor supply\n",
    "labor_func = sm.lambdify((alpha, nu, kappa, wtilde), optimal_labor)\n",
    "\n",
    "# create np.array of w_tilde values and calculate optimal labor supply\n",
    "wtilde_vec = np.linspace(0.0000001, 1, 100)\n",
    "labor_vec = labor_func(alpha=0.5, kappa=1.0, nu=1/(2*16**2), wtilde=wtilde_vec)\n",
    "\n",
    "# plot optimal labor supply as a function of w_tilde\n",
    "fig = plt.figure()\n",
    "ax = plt.axes()\n",
    "ax.plot(wtilde_vec, labor_vec)\n",
    "ax.set_xlabel('$\\widetilde{w}$')\n",
    "ax.set_ylabel('$L^*$')\n",
    "ax.set_title('Optimal labor supply as a function of $\\widetilde{w}$')\n",
    "plt.show()\n",
    "\n"
   ]
  },
  {
   "attachments": {},
   "cell_type": "markdown",
   "metadata": {},
   "source": [
    "\n",
    "We now consider a government, who chooses $\\tau$ and spend all of the taxes on government consumption so:\n",
    "\n",
    "$$\n",
    "G = \\tau w L^{\\star}((1-\\tau)w)\n",
    "$$\n",
    "\n",
    "**Question 3:** Plot the implied $L$, $G$ and worker utility for a grid of $\\tau$-values.\n"
   ]
  },
  {
   "cell_type": "code",
   "execution_count": 5,
   "metadata": {},
   "outputs": [
    {
     "name": "stderr",
     "output_type": "stream",
     "text": [
      "/var/folders/3r/1kv5zyk92gj7vdrjg4lsysm80000gn/T/ipykernel_13830/985984588.py:3: RuntimeWarning: invalid value encountered in true_divide\n",
      "  return (-kappa + np.sqrt(kappa**2 + 4 * (alpha/nu) * w**2 * (1-tau)**2)) / (2 * w * (1-tau))\n",
      "/var/folders/3r/1kv5zyk92gj7vdrjg4lsysm80000gn/T/ipykernel_13830/985984588.py:15: RuntimeWarning: divide by zero encountered in log\n",
      "  return np.log(consumption(w=w, tau=tau, kappa=kappa, alpha=alpha, nu=nu)**alpha * government(w=w, tau=tau, alpha=alpha, nu=nu, kappa=kappa)**(1-alpha)) - nu * (labour(alpha=alpha, nu=nu, kappa=kappa, w=w, tau=tau)**2)/2\n"
     ]
    },
    {
     "data": {
      "image/png": "[encoded data removed]",
      "text/plain": [
       "<Figure size 1200x800 with 3 Axes>"
      ]
     },
     "metadata": {},
     "output_type": "display_data"
    },
    {
     "name": "stdout",
     "output_type": "stream",
     "text": [
      "[       -inf  0.23017043  0.56664017  0.75916565  0.89269428  0.99384611\n",
      "  1.07447712  1.14091055  1.19691976  1.24493774  1.28662481  1.3231644\n",
      "  1.35542953  1.38408242  1.40963708  1.43250027  1.45299923  1.47140089\n",
      "  1.48792572  1.50275771  1.51605183  1.52793972  1.53853393  1.54793133\n",
      "  1.55621573  1.56346     1.56972771  1.57507454  1.57954938  1.58319523\n",
      "  1.58604997  1.58814699  1.58951572  1.59018207  1.5901688   1.58949584\n",
      "  1.58818055  1.58623796  1.58368097  1.58052049  1.57676557  1.57242356\n",
      "  1.56750017  1.56199955  1.55592438  1.54927588  1.54205388  1.53425683\n",
      "  1.5258818   1.51692451  1.5073793   1.4972391   1.48649544  1.47513834\n",
      "  1.46315632  1.4505363   1.4372635   1.42332139  1.40869153  1.39335347\n",
      "  1.37728456  1.3604598   1.34285165  1.32442975  1.30516065  1.28500756\n",
      "  1.26392989  1.24188291  1.21881721  1.19467815  1.16940517  1.142931\n",
      "  1.11518074  1.08607075  1.05550727  1.02338485  0.98958439  0.95397074\n",
      "  0.91638977  0.87666466  0.83459131  0.78993238  0.74240974  0.69169448\n",
      "  0.63739359  0.57903208  0.51602801  0.44765737  0.37300283  0.29087694\n",
      "  0.19970259  0.09731893 -0.01935027 -0.15489937 -0.3166229  -0.51707058\n",
      " -0.78035763 -1.1613574  -1.8338169          nan]\n"
     ]
    }
   ],
   "source": [
    "# lampdify the labor expanded optimal supply function \n",
    "def labour(alpha, nu, kappa, w, tau):\n",
    "    return (-kappa + np.sqrt(kappa**2 + 4 * (alpha/nu) * w**2 * (1-tau)**2)) / (2 * w * (1-tau))\n",
    "\n",
    "# setup function for government\n",
    "def government(w, tau, alpha, nu, kappa):\n",
    "    return tau * w * labour(alpha=alpha, nu=nu, kappa=kappa, w=w, tau=tau) * (1-tau) * w\n",
    "\n",
    "# setup function for consumption\n",
    "def consumption(w, tau, kappa, alpha, nu):\n",
    "    return kappa + (1-tau) * w * labour(alpha=alpha, nu=nu, kappa=kappa, w=w, tau=tau)\n",
    "\n",
    "# setup function for utility\n",
    "def utility(w, tau, kappa, alpha, nu):\n",
    "    return np.log(consumption(w=w, tau=tau, kappa=kappa, alpha=alpha, nu=nu)**alpha * government(w=w, tau=tau, alpha=alpha, nu=nu, kappa=kappa)**(1-alpha)) - nu * (labour(alpha=alpha, nu=nu, kappa=kappa, w=w, tau=tau)**2)/2\n",
    "\n",
    "# create array of tau values and calculate optimal labor supply, government spending, and utility\n",
    "tau_vec = np.linspace(0.0, 1.0, 100)\n",
    "labour_vec = labour(alpha=0.5, nu=1/(2*16**2), kappa=1.0, w=1.0, tau=tau_vec)\n",
    "gov_vec = government(w=1.0, tau=tau_vec, alpha=0.5, nu=1/(2*16**2), kappa=1.0)\n",
    "util_vec = utility(w=1.0, tau=tau_vec, kappa=1.0, alpha=0.5, nu=1/(2*16**2))\n",
    "\n",
    "# Plot L, G, and V as functions of tau\n",
    "plt.figure(figsize=(12, 8))\n",
    "\n",
    "# create title for the whole plot\n",
    "plt.suptitle('Labor Supply, Government Consumption, and Worker Utility as Functions of the Tax Rate', fontsize = 15)\n",
    "\n",
    "# create fig size\n",
    "fig.set_figwidth(15)\n",
    "fig.set_figheight(10)\n",
    "\n",
    "# create subplots\n",
    "plt.subplot(3, 1, 1)\n",
    "plt.plot(tau_vec, labour_vec, label='Labor Supply (L)')\n",
    "plt.xlabel('Tax Rate ' +r'$\\tau$', fontsize = 10)\n",
    "plt.ylabel(r'Labor Supply (L)', size = 10)\n",
    "plt.legend(fontsize = 10, loc = 'lower center')\n",
    "\n",
    "plt.subplot(3, 1, 2)\n",
    "plt.plot(tau_vec, gov_vec, label='Government Consumption (G)', color = 'red')\n",
    "plt.xlabel('Tax Rate ' +r'$\\tau$', fontsize = 10)\n",
    "plt.ylabel(r'Government Consumption (G)', size = 10)\n",
    "plt.legend(fontsize = 10, loc = 'lower center')\n",
    "\n",
    "plt.subplot(3, 1, 3)\n",
    "plt.plot(tau_vec, util_vec, label='Worker Utility (V)', color = 'green')\n",
    "plt.xlabel('Tax Rate ' +r'$\\tau$', fontsize = 10)\n",
    "plt.ylabel(r'Worker Utility (V)', size = 10)\n",
    "plt.legend(fontsize = 10, loc = 'lower center')\n",
    "\n",
    "plt.tight_layout()\n",
    "plt.show()\n",
    "\n",
    "\n",
    "print(util_vec)\n"
   ]
  },
  {
   "attachments": {},
   "cell_type": "markdown",
   "metadata": {},
   "source": []
  },
  {
   "attachments": {},
   "cell_type": "markdown",
   "metadata": {},
   "source": [
    "**Question 4:** Find the socially optimal tax rate $\\tau^{\\star}\\in(0,1)$ maximizing worker utility. Illustrate your result."
   ]
  },
  {
   "cell_type": "code",
   "execution_count": 6,
   "metadata": {},
   "outputs": [],
   "source": [
    "# write your code here"
   ]
  },
  {
   "attachments": {},
   "cell_type": "markdown",
   "metadata": {},
   "source": [
    "A more general preference formulation for the worker is:\n",
    "\n",
    "$$\n",
    "\\begin{align*}\n",
    "\\mathcal{V}(w,\\tau,G)&=\\max_{L\\in[0,24]}\\frac{\\left[ \\left( \\alpha C^{\\frac{\\sigma-1}{\\sigma}}+(1-\\alpha) G^{\\frac{\\sigma-1}{\\sigma}} \\right)^{\\frac{\\sigma}{\\sigma-1} }\\right]^{1-\\rho}-1}{1-\\rho}- \\nu\\frac{L^{1+\\varepsilon}}{1+\\varepsilon},\\,\\,\\,\\varepsilon,\\rho,\\sigma>0,\\,\\,\\,\\rho,\\sigma\\neq1\\\\&\\text{s.t.}\\\\&C=\\kappa+(1-\\tau)wL\n",
    "\\end{align*}    \n",
    "$$\n",
    "\n",
    "Optimal labor supply is now $L^{\\star}(\\tilde{w},G)$."
   ]
  },
  {
   "attachments": {},
   "cell_type": "markdown",
   "metadata": {},
   "source": [
    "Questions 5 and 6 must be answered with the general formulation, and for 2 different set of parameters:\n",
    "\n",
    "- Set 1:  $\\sigma = 1.001$, $\\rho = 1.001$ and $\\varepsilon = 1.0$.\n",
    "- Set 2:  $\\sigma = 1.5$, $\\rho = 1.5$ and $\\varepsilon = 1.0 $."
   ]
  },
  {
   "attachments": {},
   "cell_type": "markdown",
   "metadata": {},
   "source": [
    "**Question 5:** Find the $G$ that solves $G = \\tau w L^{\\star}((1-\\tau)w,G)$ using the $\\tau$ found in question 4.\n",
    "\n",
    "*Hint: First write code that solves the worker problem for given values of $G$ and $\\tau$. Then find the correct G based on this.*"
   ]
  },
  {
   "cell_type": "code",
   "execution_count": null,
   "metadata": {},
   "outputs": [],
   "source": []
  },
  {
   "attachments": {},
   "cell_type": "markdown",
   "metadata": {},
   "source": [
    "**Question 6:** Find the socially optimal tax rate, $\\tau^{\\star}$, maximizing worker utility, while keeping $G = \\tau w L^{\\star}((1-\\tau)w,G)$."
   ]
  },
  {
   "cell_type": "code",
   "execution_count": 7,
   "metadata": {},
   "outputs": [],
   "source": [
    "# write your code here  "
   ]
  },
  {
   "attachments": {},
   "cell_type": "markdown",
   "metadata": {},
   "source": [
    "## 2. <a id='toc2_'></a>[Problem 2: Labor adjustment costs](#toc0_)"
   ]
  },
  {
   "attachments": {},
   "cell_type": "markdown",
   "metadata": {},
   "source": [
    "You own a hair salon. You employ hairdressers, $\\ell_t$, to produce haircuts, $y_t = \\ell_t$.\n",
    "\n",
    "The wage for each haridresser is $w$.\n",
    "\n",
    "The demand for haircuts implies that the price of haircuts you can charge is $p_t = \\kappa_t y_t^{-\\eta}$, where $\\kappa_t$ is a demand-shock and $\\eta \\in (0,1)$ measures the elasticity of demand.\n",
    "\n",
    "Profits are:\n",
    "\n",
    "$$\n",
    "\\Pi_t = p_t y_t - w \\ell_t = \\kappa_t \\ell_t^{1-\\eta} - w \\ell_t\n",
    "$$"
   ]
  },
  {
   "attachments": {},
   "cell_type": "markdown",
   "metadata": {},
   "source": [
    "Baseline parameters are:\n",
    "- $\\eta = 0.5$\n",
    "- $w = 1.0$"
   ]
  },
  {
   "attachments": {},
   "cell_type": "markdown",
   "metadata": {},
   "source": [
    "**Question 1:** Verify numerically that $\\ell_{t}=\\left(\\frac{(1-\\eta)\\kappa_{t}}{w}\\right)^{\\frac{1}{\\eta}}$ maximises profits, for $\\kappa\\in\\left\\{1.0 , 2.0\\right\\}$."
   ]
  },
  {
   "cell_type": "code",
   "execution_count": 8,
   "metadata": {},
   "outputs": [],
   "source": [
    "# write your code here"
   ]
  },
  {
   "attachments": {},
   "cell_type": "markdown",
   "metadata": {},
   "source": [
    "We now consider a *dynamic* version of the model.\n",
    "\n",
    "* The demand-shock is a so-called AR(1) in logs, \n",
    "\n",
    "$$\n",
    "\\log \\kappa_{t} = \\rho \\log \\kappa_{t-1} + \\epsilon_{t},\\,\\,\\, \\epsilon_{t+1} \\sim \\mathcal{N}(-0.5\\sigma_{\\epsilon}^2,\\sigma_{\\epsilon})\n",
    "$$\n",
    "\n",
    "* Any hiring or firing implies a fixed adjustment cost, $\\iota > 0 $.\n",
    "* Future profits are discounted with a monthly factor of $R \\in (0,1)$.\n",
    "\n",
    "The initial demand shock is $\\kappa_{-1} = 1$ and the planning horizon is 10 years, i.e. 120 months so $t \\in \\{0,1,2,\\dots,119\\}$. Initially you don't have any employees, $\\ell_{-1}=0$"
   ]
  },
  {
   "attachments": {},
   "cell_type": "markdown",
   "metadata": {},
   "source": [
    "\n",
    "The *ex post* value of the salon is *conditional* on the shock series is:\n",
    "\n",
    "$$\n",
    "h(\\epsilon_0,\\epsilon_1,\\dots,\\epsilon_{119}) = \\left[\\sum_{t=0}^{119}R^{-t}\\left[\\kappa_{t}\\ell_{t}^{1-\\eta}-w\\ell_{t}-\\boldsymbol{1}_{\\ell_{t}\\neq\\ell_{t-1}}\\iota\\right]\\right]\n",
    "$$\n",
    "\n",
    "The *ex ante* expected value of the salon can be approximated by\n",
    "\n",
    "$$\n",
    "H = \\mathbb{E}[h(\\epsilon_0,\\epsilon_1,\\dots,\\epsilon_{119})] \\approx \\frac{1}{K}\\sum_{k=0}^{K} h(\\epsilon_0^k,\\epsilon_1^k,\\dots,\\epsilon_{119}^k)\n",
    "$$\n",
    "\n",
    "where each $k\\in\\{0,1,\\dots,K-1\\}$ is a random shock series. Maximizing profitability means maximizing $H$.\n"
   ]
  },
  {
   "attachments": {},
   "cell_type": "markdown",
   "metadata": {},
   "source": [
    "Baseline parameters are: \n",
    "\n",
    "- $\\rho = 0.90$\n",
    "- $\\iota = 0.01$\n",
    "- $\\sigma_{\\epsilon} = 0.10$\n",
    "- $R = \\left(1+0.01\\right)^{1/12}$"
   ]
  },
  {
   "attachments": {},
   "cell_type": "markdown",
   "metadata": {},
   "source": [
    "**Question 2:** Calculate $H$ if the policy  $\\ell_{t}=\\left(\\frac{(1-\\eta)\\kappa_{t}}{w}\\right)^{\\frac{1}{\\eta}}$ from question 1 is followed. Choose $K$ so the approximation is good enough to not affect your results substantially."
   ]
  },
  {
   "cell_type": "code",
   "execution_count": 9,
   "metadata": {},
   "outputs": [],
   "source": [
    "# write your code here "
   ]
  },
  {
   "attachments": {},
   "cell_type": "markdown",
   "metadata": {},
   "source": [
    "Next, we consider policies on the form:\n",
    "\n",
    "$$\n",
    "\n",
    "\\ell_{t}=\\begin{cases}\n",
    "\\ell_t^{\\ast}  & \\text{if }\\left|\\ell_{t-1}-\\ell_t^{\\ast} \\right|>\\Delta\\\\\n",
    "\\ell_{t-1} & \\text{else }\n",
    "\\end{cases}\n",
    "\\\\\n",
    "\\text{where}\\,\\,\\ell_t^{\\ast} = \\left(\\frac{(1-\\eta)\\kappa_{t}}{w}\\right)^{\\frac{1}{\\eta}} \\\\\n",
    "\n",
    "$$\n",
    "With $\\Delta \\geq 0$ and $\\Delta = 0$ being the previous policy.\n"
   ]
  },
  {
   "attachments": {},
   "cell_type": "markdown",
   "metadata": {},
   "source": [
    "\n",
    "**Question 3:** Calculate $H$ if the policy above was followed with $\\Delta = 0.05$. Does it improve profitability?"
   ]
  },
  {
   "cell_type": "code",
   "execution_count": 10,
   "metadata": {},
   "outputs": [],
   "source": [
    "# write your code here"
   ]
  },
  {
   "attachments": {},
   "cell_type": "markdown",
   "metadata": {},
   "source": [
    "**Question 4:** Find the optimal $\\Delta$ maximizing $H$. Illustrate your result."
   ]
  },
  {
   "cell_type": "code",
   "execution_count": 11,
   "metadata": {},
   "outputs": [],
   "source": [
    "# write your code here"
   ]
  },
  {
   "attachments": {},
   "cell_type": "markdown",
   "metadata": {},
   "source": [
    "\n",
    "**Question 5:** Suggest an alternative policy you believe might improve profitability. Implement and test your policy.\n",
    "\n"
   ]
  },
  {
   "cell_type": "code",
   "execution_count": 12,
   "metadata": {},
   "outputs": [],
   "source": [
    "# write your code here"
   ]
  },
  {
   "attachments": {},
   "cell_type": "markdown",
   "metadata": {},
   "source": [
    "## 3. <a id='toc3_'></a>[Problem 3: Global optimizer with refined multi-start](#toc0_)"
   ]
  },
  {
   "attachments": {},
   "cell_type": "markdown",
   "metadata": {},
   "source": [
    "We consider the Griewank function:\n",
    "\n",
    "$$ f(\\boldsymbol{x}) = \\sum^n_{i=1} \\frac{x^2_i}{4000}-\\prod^n_{i=1}\\cos\\left(\\frac{x_i}{\\sqrt{i}}\\right)+1$$\n",
    "\n",
    "The **global minimum** of this function is $f(0,0) = 0$ (remember: $\\cos(0)=1$).<br>\n",
    "But the function also have a lot of **local minima**."
   ]
  },
  {
   "cell_type": "code",
   "execution_count": 13,
   "metadata": {},
   "outputs": [],
   "source": [
    "def griewank(x):\n",
    "    return griewank_(x[0],x[1])\n",
    "    \n",
    "def griewank_(x1,x2):\n",
    "    A = x1**2/4000 + x2**2/4000\n",
    "    B = np.cos(x1/np.sqrt(1))*np.cos(x2/np.sqrt(2))\n",
    "    return A-B+1"
   ]
  },
  {
   "attachments": {},
   "cell_type": "markdown",
   "metadata": {},
   "source": [
    "A **refined global optimizer with multi-start** is:\n",
    "\n",
    "1. Choose *bounds* for $\\mathbf{x}$ and *tolerance* $\\tau > 0$.\n",
    "2. Choose number of *warm-up iterations*, $\\underline{K} > 0$ and *maximum number of iterations*, $K > \\underline{K}$.\n",
    "3. In each iteration for $k \\in \\{0,1,\\dots,K-1\\}$:\n",
    "\n",
    "    A. Draw random $\\mathbf{x}^k$ uniformly within chosen bounds.\n",
    "\n",
    "    B. If $k < \\underline{K}$ go to step E.\n",
    "\n",
    "    C. Calculate $\\chi^k = 0.50\\cdot\\frac{2}{1+\\exp((k-\\underline{K})/100)}$  \n",
    "\n",
    "    D. Set $\\mathbf{x}^{k0} = \\chi^k \\mathbf{x}^k + (1-\\chi^k)\\mathbf{x}^{\\ast} $\n",
    "\n",
    "    E. Run optimizer with $\\mathbf{x}^{k0}$ as initial guess and $\\mathbf{x}^{k\\ast}$ as result.\n",
    "\n",
    "    F. Set $\\mathbf{x}^{\\ast} = \\mathbf{x}^{k\\ast}$ if $k = 0$ or $f(\\mathbf{x}^{k\\ast}) < f(\\mathbf{x}^{\\ast})$\n",
    "\n",
    "    G. If $f(\\mathbf{x}^{\\ast}) < \\tau$ go to step 4.\n",
    "\n",
    "4. Return the result $\\mathbf{x}^{\\ast}$."
   ]
  },
  {
   "attachments": {},
   "cell_type": "markdown",
   "metadata": {},
   "source": [
    "As settings we choose:\n",
    "\n",
    "* $x_1,x_2 \\in  [-600,600]$\n",
    "* $\\tau = 10^{-8}$\n",
    "* $\\underline{K}=10$\n",
    "* $K=1000$\n",
    "\n",
    "The optimizer in Step 3.E is `BFGS` with a tolerance of $\\tau$."
   ]
  },
  {
   "attachments": {},
   "cell_type": "markdown",
   "metadata": {},
   "source": [
    "**Question 1:** Implement the refined global optimizer with multi-start. Illustrate how the effective initial guesses $\\mathbf{x}^{k0}$ vary with the iteration counter $k$.\n",
    "\n",
    "To solve this we call the ```griewank_minimizer``` defined in [examproject.py](examproject.py)"
   ]
  },
  {
   "cell_type": "code",
   "execution_count": 14,
   "metadata": {},
   "outputs": [
    {
     "name": "stdout",
     "output_type": "stream",
     "text": [
      "The global minimum is approximately: f = 1.56e-12\n",
      "The solution is x_1 = 9.47e-07 and x_2 = -2.11e-06 \n",
      "Iterations: 369\n",
      "Is close to true global mimum: True\n"
     ]
    }
   ],
   "source": [
    "# defining the global minmizer with multi-start method\n",
    "def griewank_minimizer(brackets = [-600,600], tau = 10**(-8), warm_up_K = 10, K = 1000, seed = 2023, do_print = False):\n",
    "    \"\"\"\n",
    "    The refined global minimizer of the Griewank function using a multi-start method.\n",
    "\n",
    "    Parameters\n",
    "        brackets (array): the brackets for the uniform distribution\n",
    "        tau (float): the threshold for the stopping criterion\n",
    "        warm_up_K (int): the number of iterations before the algorithm starts updating x\n",
    "        K (int): the number of iterations\n",
    "        seed (int): the seed for the random number generator\n",
    "        do_print (bool): whether to print the result\n",
    "\n",
    "    Returns\n",
    "        dict: a dictionary with the solution, the number of iterations and the value of the function\n",
    "    \"\"\"\n",
    "\n",
    "    np.random.seed(seed)\n",
    "    # a. draw random points from the uniform distribution\n",
    "    x = np.random.uniform(brackets[0],brackets[1],(K,2))\n",
    "    #x2 = np.random.uniform(brackets[0],brackets[1],K)\n",
    "    #x = np.array([x1,x2]).T\n",
    "\n",
    "    # set number of iterations to 0\n",
    "    k = 0\n",
    "    while k < K:\n",
    "        # b. control if still warming up\n",
    "        if k >= warm_up_K:\n",
    "            # c. calculate chi_k \n",
    "            chi_k = 0.5 * (2 / (1 + np.exp((k - warm_up_K) / 100)))\n",
    "            # d. update x\n",
    "            x[k] = chi_k*x[k] + (1-chi_k)*x_star\n",
    "        # e. minimize using the scipy.optimize.minimize with BFGS method\n",
    "        x_opt = optimize.minimize(fun=griewank, x0=x[k], method = 'BFGS').x\n",
    "        # f. set optimal value as x_star\n",
    "        if k == 0:\n",
    "            x_star = x_opt\n",
    "        elif griewank(x_opt) < griewank(x_star):\n",
    "            x_star = x_opt\n",
    "        # update k\n",
    "        k += 1\n",
    "        # g. check if x_star is below threshold\n",
    "        if griewank(x_star) < tau:\n",
    "            value = griewank(x_star)\n",
    "            if do_print:\n",
    "                print(f'The global minimum is approximately: f = {value:.2e}\\n' \n",
    "                      f'The solution is x_1 = {x_star[0]:.2e} and x_2 = {x_star[1]:.2e} \\n'\n",
    "                      f'Iterations: {k}')\n",
    "            # 4. return x_star as x_star and k as number of iterations as a dictionary\n",
    "            return {'sol':x_star, 'iter':k, 'value':value}\n",
    "        \n",
    "sol10 = griewank_minimizer(do_print = True)\n",
    "\n",
    "print(f'Is close to true global mimum: {np.isclose(sol10[\"value\"], 0)}')"
   ]
  },
  {
   "attachments": {},
   "cell_type": "markdown",
   "metadata": {},
   "source": [
    "We see that our solution is practically equal to the true global minimum, which is what we want. This took 369 iterations to find."
   ]
  },
  {
   "attachments": {},
   "cell_type": "markdown",
   "metadata": {},
   "source": [
    "**Question 2:** Is it a better idea to set $\\underline{K} = 100$? Is the convergence faster?\n",
    "\n",
    "We again call the ```griewank_minimizer``` defined in [examproject.py](examproject.py) now with $\\underline{K} = 100$."
   ]
  },
  {
   "cell_type": "code",
   "execution_count": 15,
   "metadata": {},
   "outputs": [
    {
     "name": "stdout",
     "output_type": "stream",
     "text": [
      "The global minimum is approximately: f = 1.06e-12\n",
      "The solution is x_1 = -1.30e-06 and x_2 = 9.22e-07 \n",
      "Iterations: 353\n",
      "Is close to true global mimum: True\n"
     ]
    }
   ],
   "source": [
    "sol100 = griewank_minimizer(warm_up_K=100, do_print = True)\n",
    "print(f'Is close to true global mimum: {np.isclose(sol100[\"value\"], 0)}')"
   ]
  },
  {
   "attachments": {},
   "cell_type": "markdown",
   "metadata": {},
   "source": [
    "We again get a result practically equal to the true global minimum. This time it took 353 iterations to find. Thus it did converge faster.\n",
    "However, we do not know if it takes longer to run thus, we will test this."
   ]
  },
  {
   "cell_type": "code",
   "execution_count": 16,
   "metadata": {},
   "outputs": [
    {
     "name": "stdout",
     "output_type": "stream",
     "text": [
      "469 ms ± 6.25 ms per loop (mean ± std. dev. of 10 runs, 10 loops each)\n",
      "455 ms ± 5.87 ms per loop (mean ± std. dev. of 10 runs, 10 loops each)\n"
     ]
    }
   ],
   "source": [
    "%timeit -n 10 -r 10 griewank_minimizer()\n",
    "%timeit -n 10 -r 10 griewank_minimizer(warm_up_K=100)"
   ]
  },
  {
   "attachments": {},
   "cell_type": "markdown",
   "metadata": {},
   "source": [
    "We aditionally see that the function also runs faster with $\\underline{K} = 100$. Thus we conclude that for this seed (2023) it is a better idea to set $\\underline{K} = 100$. However, this might differ for other seeds as the time it takes to run the function is very close to the same."
   ]
  },
  {
   "cell_type": "code",
   "execution_count": 17,
   "metadata": {},
   "outputs": [
    {
     "name": "stdout",
     "output_type": "stream",
     "text": [
      "383\n"
     ]
    }
   ],
   "source": [
    "\n",
    "# defining the global minmizer with multi-start method\n",
    "def griewank_minimizer3(brackets = [-600,600], tau = 10**(-8), warm_up_K = 10, K = 1000):\n",
    "    np.random.seed(2023)\n",
    "    # i. draw random points from the uniform distribution for K iterations\n",
    "    x1 = np.random.uniform(brackets[0],brackets[1],K)\n",
    "    x2 = np.random.uniform(brackets[0],brackets[1],K)\n",
    "    x = np.array([x1,x2]).T\n",
    "    \n",
    "    k = 0\n",
    "    while k < warm_up_K:\n",
    "        # ii. minimize using the scipy.optimize.minimize with BFGS method\n",
    "        x_opt = optimize.minimize(fun=griewank, x0=x[k], method = 'BFGS').x\n",
    "        # iii. set optimal value as x_star\n",
    "        if k == 0:\n",
    "            x_star = x_opt\n",
    "        elif griewank(x_opt) < griewank(x_star):\n",
    "            x_star = x_opt\n",
    "        # iv. update k\n",
    "        k += 1\n",
    "        # v. check if x_star is below threshold\n",
    "        if griewank(x_star) < tau:\n",
    "            return x_star, k\n",
    "    \n",
    "    while k >= warm_up_K and k < K:\n",
    "        chi_k = 0.5 * (2 / (1 + np.exp((k - warm_up_K) / 100)))\n",
    "        x[k] = chi_k*x[k] + (1-chi_k)*x_star\n",
    "\n",
    "        # ii. minimize using the scipy.optimize.minimize with BFGS method\n",
    "        x_opt = optimize.minimize(fun=griewank, x0=x[k], method = 'BFGS').x\n",
    "        # iii. set optimal value as x_star\n",
    "        if k == 0:\n",
    "            x_star = x_opt\n",
    "        elif griewank(x_opt) < griewank(x_star):\n",
    "            x_star = x_opt\n",
    "        # iv. update k\n",
    "        k += 1\n",
    "        # v. check if x_star is below threshold\n",
    "        if griewank(x_star) < tau:\n",
    "            # return x_star as x_star and k as number of iterations\n",
    "            return [x_star, k]\n",
    "\n",
    "\n",
    "sol = griewank_minimizer3(warm_up_K=10)[0]\n",
    "iter = griewank_minimizer3(warm_up_K=10)[1]\n",
    "\n",
    "val = griewank(sol)\n",
    "\n",
    "np.isclose(val,0,atol=10**(-8))\n",
    "print(iter)\n",
    "\n"
   ]
  },
  {
   "cell_type": "code",
   "execution_count": 18,
   "metadata": {},
   "outputs": [
    {
     "data": {
      "text/plain": [
       "(array([ 3.21156114e-08, -1.25444451e-07]), 436)"
      ]
     },
     "execution_count": 18,
     "metadata": {},
     "output_type": "execute_result"
    }
   ],
   "source": [
    "# defining the global minmizer with multi-start method\n",
    "def griewank_minimizer_opt2(brackets = [-600,600], tau = 10**(-8), warm_up_K = 10, K = 1000):\n",
    "    np.random.seed(203)\n",
    "    k = 0\n",
    "    while k < K:\n",
    "        # a. draw random points from the uniform distribution\n",
    "        x1 = np.random.uniform(brackets[0],brackets[1])\n",
    "        x2 = np.random.uniform(brackets[0],brackets[1])\n",
    "        x = np.array([x1,x2])\n",
    "        # b. control if still warming up\n",
    "        if k >= warm_up_K:\n",
    "            # c. calculate chi_k \n",
    "            chi_k = 0.5 * (2 / (1 + np.exp((k - warm_up_K) / 100)))\n",
    "            # d. update x\n",
    "            x = chi_k*x + (1-chi_k)*x_star\n",
    "        # e. minimize using the scipy.optimize.minimize with BFGS method\n",
    "        x_opt = optimize.minimize(fun=griewank, x0=x, method = 'BFGS').x\n",
    "        # f. set optimal value as x_star\n",
    "        if k == 0:\n",
    "            x_star = x_opt\n",
    "        elif griewank(x_opt) < griewank(x_star):\n",
    "            x_star = x_opt\n",
    "        # update k\n",
    "        k += 1\n",
    "        # g. check if x_star is below threshold\n",
    "        if griewank(x_star) < tau:\n",
    "            # 4. return x_star as x_star and k as number of iterations\n",
    "            return x_star, k\n",
    "        \n",
    "griewank_minimizer_opt2(warm_up_K=100)\n",
    "        "
   ]
  }
 ],
 "metadata": {
  "kernelspec": {
   "display_name": "base",
   "language": "python",
   "name": "python3"
  },
  "language_info": {
   "codemirror_mode": {
    "name": "ipython",
    "version": 3
   },
   "file_extension": ".py",
   "mimetype": "text/x-python",
   "name": "python",
   "nbconvert_exporter": "python",
   "pygments_lexer": "ipython3",
   "version": "3.9.13"
  },
  "orig_nbformat": 4
 },
 "nbformat": 4,
 "nbformat_minor": 2
}
