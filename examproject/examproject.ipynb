{
 "cells": [
  {
   "attachments": {},
   "cell_type": "markdown",
   "metadata": {},
   "source": [
    "# <a id='toc1_'></a>[Exam project](#toc0_)\n",
    "\n",
    "-----"
   ]
  },
  {
   "attachments": {},
   "cell_type": "markdown",
   "metadata": {},
   "source": [
    "**Table of contents**<a id='toc0_'></a>    \n",
    "- [Exam project](#toc1_)    \n",
    "  - [Import libraries](#toc1_1_)    \n",
    "  - [Problem 1: Optimal taxation with government consumption](#toc1_2_)    \n",
    "    - [Question 1](#toc1_2_1_)    \n",
    "    - [Question 2](#toc1_2_2_)    \n",
    "    - [Question 3](#toc1_2_3_)    \n",
    "    - [Question 4](#toc1_2_4_)    \n",
    "    - [Question 5](#toc1_2_5_)    \n",
    "    - [Question 6](#toc1_2_6_)    \n",
    "  - [Problem 2: Labor adjustments costs](#toc1_3_)    \n",
    "    - [Question 1](#toc1_3_1_)    \n",
    "    - [Question 2](#toc1_3_2_)    \n",
    "    - [Question 3](#toc1_3_3_)    \n",
    "    - [Question 4](#toc1_3_4_)    \n",
    "    - [Question 5](#toc1_3_5_)    \n",
    "  - [Problem 3: Global optimizer with refined multi-start](#toc1_4_)    \n",
    "    - [Question 1](#toc1_4_1_)    \n",
    "    - [Question 2](#toc1_4_2_)    \n",
    "\n",
    "<!-- vscode-jupyter-toc-config\n",
    "\tnumbering=false\n",
    "\tanchor=true\n",
    "\tflat=false\n",
    "\tminLevel=1\n",
    "\tmaxLevel=6\n",
    "\t/vscode-jupyter-toc-config -->\n",
    "<!-- THIS CELL WILL BE REPLACED ON TOC UPDATE. DO NOT WRITE YOUR TEXT IN THIS CELL -->"
   ]
  },
  {
   "attachments": {},
   "cell_type": "markdown",
   "metadata": {},
   "source": [
    "## <a id='toc1_1_'></a>[Import libraries](#toc0_)\n"
   ]
  },
  {
   "cell_type": "code",
   "execution_count": 1,
   "metadata": {},
   "outputs": [],
   "source": [
    "import numpy as np\n",
    "from scipy import optimize\n",
    "import matplotlib.pyplot as plt\n",
    "import sympy as sm\n",
    "from IPython.display import display\n",
    "from types import SimpleNamespace\n",
    "\n",
    "## importing examproject.py as a module \"ex\"\n",
    "\n",
    "import examproject as ex\n",
    "from examproject import analytical_sol, TaxModel\n",
    "tax = TaxModel()\n",
    "\n",
    "%load_ext autoreload\n",
    "%autoreload 2\n",
    "%matplotlib inline\n"
   ]
  },
  {
   "attachments": {},
   "cell_type": "markdown",
   "metadata": {},
   "source": [
    "-----\n",
    "\n",
    "## <a id='toc1_2_'></a>[Problem 1: Optimal taxation with government consumption](#toc0_)"
   ]
  },
  {
   "attachments": {},
   "cell_type": "markdown",
   "metadata": {},
   "source": [
    "\n",
    "Consider a worker choosing hours of labor, $L\\in[0,24]$, to maximize utility: \n",
    "\n",
    "$$\n",
    "\\begin{align*}\n",
    "V(w,\\tau,G)&=\\max_{L\\in[0,24]}\\ln\\left(C^{\\alpha}G^{1-\\alpha}\\right)-\\nu\\frac{L^{2}}{2}\\\\&\\text{s.t.}\\\\&C=\\kappa+(1-\\tau)wL\n",
    "\\end{align*}\n",
    "$$\n",
    "\n",
    "where \n",
    "\n",
    "* $C$ is *private* consumption with weight $\\alpha\\in(0,1)$.\n",
    "* $\\kappa > 0$ is the *free private* consumption component.\n",
    "* $(1-\\tau)wL$ is the *costly private* consumption component.\n",
    "* $w > 0 $ is the real wage.\n",
    "* $\\tau \\in (0,1)$ is the labor-income tax rate.\n",
    "* $G > 0 $ is *government* consumption with weight $1-\\alpha$.\n",
    "* $\\nu > 0$ is the disutility of labor scaling factor"
   ]
  },
  {
   "attachments": {},
   "cell_type": "markdown",
   "metadata": {},
   "source": [
    "\n",
    "The baseline parameters are:\n",
    "\n",
    "$$\n",
    "\\begin{align*}\n",
    "\\alpha &= 0.5\\\\\n",
    "\\kappa &= 1.0\\\\\n",
    "\\nu &= \\frac{1}{2\\cdot16^2} \\\\\n",
    "w &= 1.0 \\\\ \n",
    "\\tau &= 0.30 \\\\\n",
    "\\end{align*}\n",
    "$$"
   ]
  },
  {
   "attachments": {},
   "cell_type": "markdown",
   "metadata": {},
   "source": [
    "### <a id='toc1_2_1_'></a>[Question 1](#toc0_)\n",
    "\n",
    "Verify that the optimal labor supply choice is $L^{\\star}(\\tilde{w}) =\\frac{-\\kappa+\\sqrt{\\kappa^{2}+4\\frac{\\alpha}{\\nu}\\tilde{w}^2}}{2\\tilde{w}}$, where $\\tilde{w} = (1-\\tau)w$, for $G\\in\\left\\{1.0 , 2.0\\right\\}$."
   ]
  },
  {
   "cell_type": "code",
   "execution_count": 2,
   "metadata": {},
   "outputs": [
    {
     "data": {
      "text/latex": [
       "$\\displaystyle L^{*} = - \\frac{\\kappa}{2 \\tilde{w}} + \\frac{\\sqrt{4 \\alpha \\tilde{w}^{2} + \\kappa^{2} \\nu}}{2 \\sqrt{\\nu} \\tilde{w}}$"
      ],
      "text/plain": [
       "Eq(L^*, -kappa/(2*wtilde) + sqrt(4*alpha*wtilde**2 + kappa**2*nu)/(2*sqrt(nu)*wtilde))"
      ]
     },
     "metadata": {},
     "output_type": "display_data"
    },
    {
     "data": {
      "text/plain": [
       "(-kappa/(2*wtilde) + sqrt(4*alpha*wtilde**2 + kappa**2*nu)/(2*sqrt(nu)*wtilde),\n",
       " -kappa/(2*w*(1 - tau)) + sqrt(4*alpha*w**2*(1 - tau)**2 + kappa**2*nu)/(2*sqrt(nu)*w*(1 - tau)))"
      ]
     },
     "execution_count": 2,
     "metadata": {},
     "output_type": "execute_result"
    }
   ],
   "source": [
    "ex.analytical_sol(do_print = True)"
   ]
  },
  {
   "attachments": {},
   "cell_type": "markdown",
   "metadata": {},
   "source": [
    "### <a id='toc1_2_2_'></a>[Question 2](#toc0_)\n",
    "\n",
    "Illustrate how $L^{\\star}(\\tilde{w})$ depends on $w$."
   ]
  },
  {
   "cell_type": "code",
   "execution_count": 5,
   "metadata": {},
   "outputs": [
    {
     "data": {
      "image/png": "[encoded data removed]",
      "text/plain": [
       "<Figure size 640x480 with 1 Axes>"
      ]
     },
     "metadata": {},
     "output_type": "display_data"
    }
   ],
   "source": [
    "## creating an instance of the class TaxModel for running the labour_plot\n",
    "tax.set_values()\n",
    "tax.labour_plot()\n",
    "\n"
   ]
  },
  {
   "attachments": {},
   "cell_type": "markdown",
   "metadata": {},
   "source": [
    "\n",
    "\n",
    "### <a id='toc1_2_3_'></a>[Question 3](#toc0_)\n",
    "\n",
    "We now consider a government, who chooses $\\tau$ and spend all of the taxes on government consumption so:\n",
    "\n",
    "$$\n",
    "G = \\tau w L^{\\star}((1-\\tau)w)\n",
    "$$\n",
    "\n",
    "Plot the implied $L$, $G$ and worker utility for a grid of $\\tau$-values.\n"
   ]
  },
  {
   "cell_type": "code",
   "execution_count": 7,
   "metadata": {},
   "outputs": [
    {
     "name": "stderr",
     "output_type": "stream",
     "text": [
      "<lambdifygenerated-6>:2: RuntimeWarning: divide by zero encountered in divide\n",
      "  return -1/2*kappa/(w*(1 - tau)) + (1/2)*sqrt(4*alpha*w**2*(1 - tau)**2 + kappa**2*nu)/(sqrt(nu)*w*(1 - tau))\n",
      "<lambdifygenerated-6>:2: RuntimeWarning: invalid value encountered in add\n",
      "  return -1/2*kappa/(w*(1 - tau)) + (1/2)*sqrt(4*alpha*w**2*(1 - tau)**2 + kappa**2*nu)/(sqrt(nu)*w*(1 - tau))\n",
      "<lambdifygenerated-7>:2: RuntimeWarning: divide by zero encountered in divide\n",
      "  return -1/2*kappa/(w*(1 - tau)) + (1/2)*sqrt(4*alpha*w**2*(1 - tau)**2 + kappa**2*nu)/(sqrt(nu)*w*(1 - tau))\n",
      "<lambdifygenerated-7>:2: RuntimeWarning: invalid value encountered in add\n",
      "  return -1/2*kappa/(w*(1 - tau)) + (1/2)*sqrt(4*alpha*w**2*(1 - tau)**2 + kappa**2*nu)/(sqrt(nu)*w*(1 - tau))\n"
     ]
    },
    {
     "ename": "TypeError",
     "evalue": "consump_fun() got an unexpected keyword argument 'w'",
     "output_type": "error",
     "traceback": [
      "\u001b[0;31m---------------------------------------------------------------------------\u001b[0m",
      "\u001b[0;31mTypeError\u001b[0m                                 Traceback (most recent call last)",
      "Cell \u001b[0;32mIn[7], line 3\u001b[0m\n\u001b[1;32m      1\u001b[0m \u001b[39m## creating an instance of the class TaxModel for running the tax_plot\u001b[39;00m\n\u001b[1;32m      2\u001b[0m tax\u001b[39m.\u001b[39mset_values()\n\u001b[0;32m----> 3\u001b[0m tax\u001b[39m.\u001b[39;49mtax_plot()\n",
      "File \u001b[0;32m~/Desktop/projects-2023-valros-3/examproject/examproject.py:209\u001b[0m, in \u001b[0;36mTaxModel.tax_plot\u001b[0;34m(self)\u001b[0m\n\u001b[1;32m    207\u001b[0m labour \u001b[39m=\u001b[39m \u001b[39mself\u001b[39m\u001b[39m.\u001b[39mlabour_fun()\n\u001b[1;32m    208\u001b[0m gover \u001b[39m=\u001b[39m \u001b[39mself\u001b[39m\u001b[39m.\u001b[39mgovern_fun()\n\u001b[0;32m--> 209\u001b[0m util \u001b[39m=\u001b[39m \u001b[39mself\u001b[39;49m\u001b[39m.\u001b[39;49mutil_fun()\n\u001b[1;32m    211\u001b[0m \u001b[39m# d. plot labour supply, government spending, and utility as a function of tau\u001b[39;00m\n\u001b[1;32m    212\u001b[0m fig \u001b[39m=\u001b[39m plt\u001b[39m.\u001b[39mfigure()\n",
      "File \u001b[0;32m~/Desktop/projects-2023-valros-3/examproject/examproject.py:196\u001b[0m, in \u001b[0;36mTaxModel.util_fun\u001b[0;34m(self)\u001b[0m\n\u001b[1;32m    193\u001b[0m par \u001b[39m=\u001b[39m \u001b[39mself\u001b[39m\u001b[39m.\u001b[39mpar\n\u001b[1;32m    195\u001b[0m \u001b[39m# b. calculate utility and return\u001b[39;00m\n\u001b[0;32m--> 196\u001b[0m \u001b[39mreturn\u001b[39;00m np\u001b[39m.\u001b[39mlog(\u001b[39mself\u001b[39;49m\u001b[39m.\u001b[39;49mconsump_fun(w\u001b[39m=\u001b[39;49mpar\u001b[39m.\u001b[39;49mw, tau\u001b[39m=\u001b[39;49mpar\u001b[39m.\u001b[39;49mtau, kappa\u001b[39m=\u001b[39;49mpar\u001b[39m.\u001b[39;49mkappa, alpha\u001b[39m=\u001b[39;49mpar\u001b[39m.\u001b[39;49malpha, nu\u001b[39m=\u001b[39;49mpar\u001b[39m.\u001b[39;49mnu)\u001b[39m*\u001b[39m\u001b[39m*\u001b[39mpar\u001b[39m.\u001b[39malpha \u001b[39m*\u001b[39m \u001b[39mself\u001b[39m\u001b[39m.\u001b[39mgovern_fun(w\u001b[39m=\u001b[39mpar\u001b[39m.\u001b[39mw, tau\u001b[39m=\u001b[39mpar\u001b[39m.\u001b[39mtau, alpha\u001b[39m=\u001b[39mpar\u001b[39m.\u001b[39malpha, nu\u001b[39m=\u001b[39mpar\u001b[39m.\u001b[39mnu, kappa\u001b[39m=\u001b[39mpar\u001b[39m.\u001b[39mkappa)\u001b[39m*\u001b[39m\u001b[39m*\u001b[39m(\u001b[39m1\u001b[39m\u001b[39m-\u001b[39mpar\u001b[39m.\u001b[39malpha)) \u001b[39m-\u001b[39m par\u001b[39m.\u001b[39mnu \u001b[39m*\u001b[39m (\u001b[39mself\u001b[39m\u001b[39m.\u001b[39mlabour_fun(alpha\u001b[39m=\u001b[39mpar\u001b[39m.\u001b[39malpha, nu\u001b[39m=\u001b[39mpar\u001b[39m.\u001b[39mnu, kappa\u001b[39m=\u001b[39mpar\u001b[39m.\u001b[39mkappa, w\u001b[39m=\u001b[39mpar\u001b[39m.\u001b[39mw, tau\u001b[39m=\u001b[39mpar\u001b[39m.\u001b[39mtau)\u001b[39m*\u001b[39m\u001b[39m*\u001b[39m\u001b[39m2\u001b[39m)\u001b[39m/\u001b[39m\u001b[39m2\u001b[39m\n",
      "\u001b[0;31mTypeError\u001b[0m: consump_fun() got an unexpected keyword argument 'w'"
     ]
    }
   ],
   "source": [
    "## creating an instance of the class TaxModel for running the tax_plot\n",
    "tax.set_values()\n",
    "tax.tax_plot()\n"
   ]
  },
  {
   "attachments": {},
   "cell_type": "markdown",
   "metadata": {},
   "source": [
    "### <a id='toc1_2_4_'></a>[Question 4](#toc0_)\n",
    "\n",
    "Find the socially optimal tax rate $\\tau^{\\star}\\in(0,1)$ maximizing worker utility. Illustrate your result."
   ]
  },
  {
   "attachments": {},
   "cell_type": "markdown",
   "metadata": {},
   "source": [
    "### <a id='toc1_2_5_'></a>[Question 5](#toc0_)\n",
    "\n",
    "Find the $G$ that solves $G = \\tau w L^{\\star}((1-\\tau)w,G)$ using the $\\tau$ found in question 4.\n",
    "\n",
    "*Hint: First write code that solves the worker problem for given values of $G$ and $\\tau$. Then find the correct G based on this.*"
   ]
  },
  {
   "attachments": {},
   "cell_type": "markdown",
   "metadata": {},
   "source": [
    "### <a id='toc1_2_6_'></a>[Question 6](#toc0_)\n",
    "\n",
    "Find the socially optimal tax rate, $\\tau^{\\star}$, maximizing worker utility, while keeping $G = \\tau w L^{\\star}((1-\\tau)w,G)$."
   ]
  },
  {
   "cell_type": "code",
   "execution_count": null,
   "metadata": {},
   "outputs": [],
   "source": [
    "## insert code here"
   ]
  },
  {
   "attachments": {},
   "cell_type": "markdown",
   "metadata": {},
   "source": [
    "The code ensures the budget constraint $G = τwL*(1-τ)w$ by iteratively calculating G and L* (labor supply) within the calculate_utility function. Here's how it works:\n",
    "\n",
    "Using the current tax rate (tau) and the g_solver function, the code determines G. g_solver calculates G based on tau and other parameters, with .root extracting the root of the equation.\n",
    "\n",
    "The worker_problem function then calculates the optimal labor supply (L*) using G and tau.\n",
    "\n",
    "By performing these calculations with tau, the code maintains a balanced government budget for any evaluated tau value, satisfying $G = τwL*(1-τ)w$.\n",
    "\n",
    "To find the tau maximizing utility, the minimize function is employed. With each call to calculate_utility, the budget constraint is enforced, ensuring the resulting tax rate keeps the government budget in balance.\n",
    "\n",
    "--------"
   ]
  },
  {
   "attachments": {},
   "cell_type": "markdown",
   "metadata": {},
   "source": [
    "## <a id='toc1_3_'></a>[Problem 2: Labor adjustments costs](#toc0_)"
   ]
  },
  {
   "attachments": {},
   "cell_type": "markdown",
   "metadata": {},
   "source": [
    "You own a hair salon. You employ hairdressers, $\\ell_t$, to produce haircuts, $y_t = \\ell_t$.\n",
    "\n",
    "The wage for each haridresser is $w$.\n",
    "\n",
    "The demand for haircuts implies that the price of haircuts you can charge is $p_t = \\kappa_t y_t^{-\\eta}$, where $\\kappa_t$ is a demand-shock and $\\eta \\in (0,1)$ measures the elasticity of demand.\n",
    "\n",
    "Profits are:\n",
    "\n",
    "$$\n",
    "\\Pi_t = p_t y_t - w \\ell_t = \\kappa_t \\ell_t^{1-\\eta} - w \\ell_t\n",
    "$$"
   ]
  },
  {
   "attachments": {},
   "cell_type": "markdown",
   "metadata": {},
   "source": [
    "Baseline parameters are:\n",
    "- $\\eta = 0.5$\n",
    "- $w = 1.0$"
   ]
  },
  {
   "attachments": {},
   "cell_type": "markdown",
   "metadata": {},
   "source": [
    "### <a id='toc1_3_1_'></a>[Question 1](#toc0_)\n",
    "\n",
    "Verify numerically that $\\ell_{t}=\\left(\\frac{(1-\\eta)\\kappa_{t}}{w}\\right)^{\\frac{1}{\\eta}}$ maximises profits, for $\\kappa\\in\\left\\{1.0 , 2.0\\right\\}$."
   ]
  },
  {
   "cell_type": "code",
   "execution_count": null,
   "metadata": {},
   "outputs": [],
   "source": []
  },
  {
   "attachments": {},
   "cell_type": "markdown",
   "metadata": {},
   "source": [
    "### <a id='toc1_3_2_'></a>[Question 2](#toc0_)\n",
    "\n",
    "We now consider a *dynamic* version of the model.\n",
    "\n",
    "* The demand-shock is a so-called AR(1) in logs, \n",
    "\n",
    "$$\n",
    "\\log \\kappa_{t} = \\rho \\log \\kappa_{t-1} + \\epsilon_{t},\\,\\,\\, \\epsilon_{t+1} \\sim \\mathcal{N}(-0.5\\sigma_{\\epsilon}^2,\\sigma_{\\epsilon})\n",
    "$$\n",
    "\n",
    "* Any hiring or firing implies a fixed adjustment cost, $\\iota > 0 $.\n",
    "* Future profits are discounted with a monthly factor of $R \\in (0,1)$.\n",
    "\n",
    "The initial demand shock is $\\kappa_{-1} = 1$ and the planning horizon is 10 years, i.e. 120 months so $t \\in \\{0,1,2,\\dots,119\\}$. Initially you don't have any employees, $\\ell_{-1}=0$\n",
    "\n",
    "\n",
    "\n",
    "The **ex post** value of the salon is *conditional* on the shock series is:\n",
    "\n",
    "$$\n",
    "h(\\epsilon_0,\\epsilon_1,\\dots,\\epsilon_{119}) = \\left[\\sum_{t=0}^{119}R^{-t}\\left[\\kappa_{t}\\ell_{t}^{1-\\eta}-w\\ell_{t}-\\boldsymbol{1}_{\\ell_{t}\\neq\\ell_{t-1}}\\iota\\right]\\right]\n",
    "$$\n",
    "\n",
    "The **ex ante** expected value of the salon can be approximated by\n",
    "\n",
    "$$\n",
    "H = \\mathbb{E}[h(\\epsilon_0,\\epsilon_1,\\dots,\\epsilon_{119})] \\approx \\frac{1}{K}\\sum_{k=0}^{K} h(\\epsilon_0^k,\\epsilon_1^k,\\dots,\\epsilon_{119}^k)\n",
    "$$\n",
    "\n",
    "where each $k\\in\\{0,1,\\dots,K-1\\}$ is a random shock series. Maximizing profitability means maximizing $H$.\n",
    "\n",
    "Baseline parameters are: \n",
    "\n",
    "$$\n",
    "\\begin{align*}\n",
    "\\rho = 0.90 \\\\\n",
    "\\iota = 0.01 \\\\\n",
    "\\sigma_{\\epsilon} = 0.10 \\\\\n",
    "R = \\left(1+0.01\\right)^{1/12} \n",
    "\\end{align*}\n",
    "$$\n",
    "\n",
    "Calculate $H$ if the policy  $\\ell_{t}=\\left(\\frac{(1-\\eta)\\kappa_{t}}{w}\\right)^{\\frac{1}{\\eta}}$ from question 1 is followed. Choose $K$ so the approximation is good enough to not affect your results substantially."
   ]
  },
  {
   "cell_type": "code",
   "execution_count": null,
   "metadata": {},
   "outputs": [],
   "source": []
  },
  {
   "attachments": {},
   "cell_type": "markdown",
   "metadata": {},
   "source": [
    "### <a id='toc1_3_3_'></a>[Question 3](#toc0_)\n",
    "\n",
    "Next, we consider policies on the form:\n",
    "\n",
    "$$\n",
    "\n",
    "\\ell_{t}=\\begin{cases}\n",
    "\\ell_t^{\\ast}  & \\text{if }\\left|\\ell_{t-1}-\\ell_t^{\\ast} \\right|>\\Delta\\\\\n",
    "\\ell_{t-1} & \\text{else }\n",
    "\\end{cases}\n",
    "\\\\\n",
    "\\text{where}\\,\\,\\ell_t^{\\ast} = \\left(\\frac{(1-\\eta)\\kappa_{t}}{w}\\right)^{\\frac{1}{\\eta}} \\\\\n",
    "\n",
    "$$\n",
    "With $\\Delta \\geq 0$ and $\\Delta = 0$ being the previous policy.\n",
    "\n",
    "Calculate $H$ if the policy above was followed with $\\Delta = 0.05$. Does it improve profitability?"
   ]
  },
  {
   "cell_type": "code",
   "execution_count": null,
   "metadata": {},
   "outputs": [],
   "source": []
  },
  {
   "attachments": {},
   "cell_type": "markdown",
   "metadata": {},
   "source": [
    "### <a id='toc1_3_4_'></a>[Question 4](#toc0_)\n",
    "\n",
    "Find the optimal $\\Delta$ maximizing $H$. Illustrate your result."
   ]
  },
  {
   "cell_type": "code",
   "execution_count": null,
   "metadata": {},
   "outputs": [],
   "source": []
  },
  {
   "attachments": {},
   "cell_type": "markdown",
   "metadata": {},
   "source": [
    "### <a id='toc1_3_5_'></a>[Question 5](#toc0_)\n",
    "\n",
    "Suggest an alternative policy you believe might improve profitability. Implement and test your policy."
   ]
  },
  {
   "cell_type": "code",
   "execution_count": null,
   "metadata": {},
   "outputs": [],
   "source": []
  },
  {
   "attachments": {},
   "cell_type": "markdown",
   "metadata": {},
   "source": [
    "\n",
    "------"
   ]
  },
  {
   "attachments": {},
   "cell_type": "markdown",
   "metadata": {},
   "source": [
    "## <a id='toc1_4_'></a>[Problem 3: Global optimizer with refined multi-start](#toc0_)"
   ]
  },
  {
   "attachments": {},
   "cell_type": "markdown",
   "metadata": {},
   "source": [
    "We consider the Griewank function:\n",
    "\n",
    "$$ f(\\boldsymbol{x}) = \\sum^n_{i=1} \\frac{x^2_i}{4000}-\\prod^n_{i=1}\\cos\\left(\\frac{x_i}{\\sqrt{i}}\\right)+1$$\n",
    "\n",
    "The **global minimum** of this function is $f(0,0) = 0$ (remember: $\\cos(0)=1$).<br>\n",
    "But the function also have a lot of **local minima**."
   ]
  },
  {
   "cell_type": "code",
   "execution_count": null,
   "metadata": {},
   "outputs": [],
   "source": [
    "def griewank(x):\n",
    "    return griewank_(x[0],x[1])\n",
    "    \n",
    "def griewank_(x1,x2):\n",
    "    A = x1**2/4000 + x2**2/4000\n",
    "    B = np.cos(x1/np.sqrt(1))*np.cos(x2/np.sqrt(2))\n",
    "    return A-B+1"
   ]
  },
  {
   "attachments": {},
   "cell_type": "markdown",
   "metadata": {},
   "source": [
    "A **refined global optimizer with multi-start** is:\n",
    "\n",
    "1. Choose *bounds* for $\\mathbf{x}$ and *tolerance* $\\tau > 0$.\n",
    "2. Choose number of *warm-up iterations*, $\\underline{K} > 0$ and *maximum number of iterations*, $K > \\underline{K}$.\n",
    "3. In each iteration for $k \\in \\{0,1,\\dots,K-1\\}$:\n",
    "\n",
    "    A. Draw random $\\mathbf{x}^k$ uniformly within chosen bounds.\n",
    "\n",
    "    B. If $k < \\underline{K}$ go to step E.\n",
    "\n",
    "    C. Calculate $\\chi^k = 0.50\\cdot\\frac{2}{1+\\exp((k-\\underline{K})/100)}$  \n",
    "\n",
    "    D. Set $\\mathbf{x}^{k0} = \\chi^k \\mathbf{x}^k + (1-\\chi^k)\\mathbf{x}^{\\ast} $\n",
    "\n",
    "    E. Run optimizer with $\\mathbf{x}^{k0}$ as initial guess and $\\mathbf{x}^{k\\ast}$ as result.\n",
    "\n",
    "    F. Set $\\mathbf{x}^{\\ast} = \\mathbf{x}^{k\\ast}$ if $k = 0$ or $f(\\mathbf{x}^{k\\ast}) < f(\\mathbf{x}^{\\ast})$\n",
    "\n",
    "    G. If $f(\\mathbf{x}^{\\ast}) < \\tau$ go to step 4.\n",
    "\n",
    "4. Return the result $\\mathbf{x}^{\\ast}$."
   ]
  },
  {
   "attachments": {},
   "cell_type": "markdown",
   "metadata": {},
   "source": [
    "As settings we choose:\n",
    "\n",
    "* $x_1,x_2 \\in  [-600,600]$\n",
    "* $\\tau = 10^{-8}$\n",
    "* $\\underline{K}=10$\n",
    "* $K=1000$\n",
    "\n",
    "The optimizer in Step 3.E is `BFGS` with a tolerance of $\\tau$."
   ]
  },
  {
   "attachments": {},
   "cell_type": "markdown",
   "metadata": {},
   "source": [
    "### <a id='toc1_4_1_'></a>[Question 1](#toc0_)\n",
    "\n",
    "Implement the refined global optimizer with multi-start. Illustrate how the effective initial guesses $\\mathbf{x}^{k0}$ vary with the iteration counter $k$.\n"
   ]
  },
  {
   "cell_type": "code",
   "execution_count": null,
   "metadata": {},
   "outputs": [],
   "source": []
  },
  {
   "attachments": {},
   "cell_type": "markdown",
   "metadata": {},
   "source": [
    "### <a id='toc1_4_2_'></a>[Question 2](#toc0_)\n",
    "\n",
    "Is it a better idea to set $\\underline{K} = 100$? Is the convergence faster?"
   ]
  },
  {
   "cell_type": "code",
   "execution_count": null,
   "metadata": {},
   "outputs": [],
   "source": []
  },
  {
   "attachments": {},
   "cell_type": "markdown",
   "metadata": {},
   "source": [
    "--------"
   ]
  }
 ],
 "metadata": {
  "kernelspec": {
   "display_name": "ml",
   "language": "python",
   "name": "python3"
  },
  "language_info": {
   "codemirror_mode": {
    "name": "ipython",
    "version": 3
   },
   "file_extension": ".py",
   "mimetype": "text/x-python",
   "name": "python",
   "nbconvert_exporter": "python",
   "pygments_lexer": "ipython3",
   "version": "3.9.16"
  },
  "orig_nbformat": 4
 },
 "nbformat": 4,
 "nbformat_minor": 2
}
